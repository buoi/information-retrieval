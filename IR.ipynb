{
  "nbformat": 4,
  "nbformat_minor": 0,
  "metadata": {
    "colab": {
      "name": "Un benvenuto a Colaboratory",
      "provenance": [],
      "collapsed_sections": [],
      "toc_visible": true,
      "include_colab_link": true
    },
    "kernelspec": {
      "display_name": "Python 3",
      "name": "python3"
    },
    "widgets": {
      "application/vnd.jupyter.widget-state+json": {
        "77e2e0cf012f4da0965e0bf2e32bdf83": {
          "model_module": "@jupyter-widgets/controls",
          "model_name": "HBoxModel",
          "state": {
            "_view_name": "HBoxView",
            "_dom_classes": [],
            "_model_name": "HBoxModel",
            "_view_module": "@jupyter-widgets/controls",
            "_model_module_version": "1.5.0",
            "_view_count": null,
            "_view_module_version": "1.5.0",
            "box_style": "",
            "layout": "IPY_MODEL_9fd1cedbc99f4614818a33211605bab3",
            "_model_module": "@jupyter-widgets/controls",
            "children": [
              "IPY_MODEL_042f4d9a40a540979f84f3f2df59d117",
              "IPY_MODEL_fd751a3596934d4fa991db00fe1e5ab5"
            ]
          }
        },
        "9fd1cedbc99f4614818a33211605bab3": {
          "model_module": "@jupyter-widgets/base",
          "model_name": "LayoutModel",
          "state": {
            "_view_name": "LayoutView",
            "grid_template_rows": null,
            "right": null,
            "justify_content": null,
            "_view_module": "@jupyter-widgets/base",
            "overflow": null,
            "_model_module_version": "1.2.0",
            "_view_count": null,
            "flex_flow": null,
            "width": null,
            "min_width": null,
            "border": null,
            "align_items": null,
            "bottom": null,
            "_model_module": "@jupyter-widgets/base",
            "top": null,
            "grid_column": null,
            "overflow_y": null,
            "overflow_x": null,
            "grid_auto_flow": null,
            "grid_area": null,
            "grid_template_columns": null,
            "flex": null,
            "_model_name": "LayoutModel",
            "justify_items": null,
            "grid_row": null,
            "max_height": null,
            "align_content": null,
            "visibility": null,
            "align_self": null,
            "height": null,
            "min_height": null,
            "padding": null,
            "grid_auto_rows": null,
            "grid_gap": null,
            "max_width": null,
            "order": null,
            "_view_module_version": "1.2.0",
            "grid_template_areas": null,
            "object_position": null,
            "object_fit": null,
            "grid_auto_columns": null,
            "margin": null,
            "display": null,
            "left": null
          }
        },
        "042f4d9a40a540979f84f3f2df59d117": {
          "model_module": "@jupyter-widgets/controls",
          "model_name": "FloatProgressModel",
          "state": {
            "_view_name": "ProgressView",
            "style": "IPY_MODEL_2ac7c003a86047fda7132e37569c6ed3",
            "_dom_classes": [],
            "description": "100%",
            "_model_name": "FloatProgressModel",
            "bar_style": "success",
            "max": 10,
            "_view_module": "@jupyter-widgets/controls",
            "_model_module_version": "1.5.0",
            "value": 10,
            "_view_count": null,
            "_view_module_version": "1.5.0",
            "orientation": "horizontal",
            "min": 0,
            "description_tooltip": null,
            "_model_module": "@jupyter-widgets/controls",
            "layout": "IPY_MODEL_29e1f9d3d84d43bd9ee23a4147526383"
          }
        },
        "fd751a3596934d4fa991db00fe1e5ab5": {
          "model_module": "@jupyter-widgets/controls",
          "model_name": "HTMLModel",
          "state": {
            "_view_name": "HTMLView",
            "style": "IPY_MODEL_8ea76fc531ce4e29a0a483b6418c7d4b",
            "_dom_classes": [],
            "description": "",
            "_model_name": "HTMLModel",
            "placeholder": "​",
            "_view_module": "@jupyter-widgets/controls",
            "_model_module_version": "1.5.0",
            "value": " 10/10 [00:16&lt;00:00,  1.62s/it]",
            "_view_count": null,
            "_view_module_version": "1.5.0",
            "description_tooltip": null,
            "_model_module": "@jupyter-widgets/controls",
            "layout": "IPY_MODEL_368c74650b184676b5883cf53a7c0b34"
          }
        },
        "2ac7c003a86047fda7132e37569c6ed3": {
          "model_module": "@jupyter-widgets/controls",
          "model_name": "ProgressStyleModel",
          "state": {
            "_view_name": "StyleView",
            "_model_name": "ProgressStyleModel",
            "description_width": "initial",
            "_view_module": "@jupyter-widgets/base",
            "_model_module_version": "1.5.0",
            "_view_count": null,
            "_view_module_version": "1.2.0",
            "bar_color": null,
            "_model_module": "@jupyter-widgets/controls"
          }
        },
        "29e1f9d3d84d43bd9ee23a4147526383": {
          "model_module": "@jupyter-widgets/base",
          "model_name": "LayoutModel",
          "state": {
            "_view_name": "LayoutView",
            "grid_template_rows": null,
            "right": null,
            "justify_content": null,
            "_view_module": "@jupyter-widgets/base",
            "overflow": null,
            "_model_module_version": "1.2.0",
            "_view_count": null,
            "flex_flow": null,
            "width": null,
            "min_width": null,
            "border": null,
            "align_items": null,
            "bottom": null,
            "_model_module": "@jupyter-widgets/base",
            "top": null,
            "grid_column": null,
            "overflow_y": null,
            "overflow_x": null,
            "grid_auto_flow": null,
            "grid_area": null,
            "grid_template_columns": null,
            "flex": null,
            "_model_name": "LayoutModel",
            "justify_items": null,
            "grid_row": null,
            "max_height": null,
            "align_content": null,
            "visibility": null,
            "align_self": null,
            "height": null,
            "min_height": null,
            "padding": null,
            "grid_auto_rows": null,
            "grid_gap": null,
            "max_width": null,
            "order": null,
            "_view_module_version": "1.2.0",
            "grid_template_areas": null,
            "object_position": null,
            "object_fit": null,
            "grid_auto_columns": null,
            "margin": null,
            "display": null,
            "left": null
          }
        },
        "8ea76fc531ce4e29a0a483b6418c7d4b": {
          "model_module": "@jupyter-widgets/controls",
          "model_name": "DescriptionStyleModel",
          "state": {
            "_view_name": "StyleView",
            "_model_name": "DescriptionStyleModel",
            "description_width": "",
            "_view_module": "@jupyter-widgets/base",
            "_model_module_version": "1.5.0",
            "_view_count": null,
            "_view_module_version": "1.2.0",
            "_model_module": "@jupyter-widgets/controls"
          }
        },
        "368c74650b184676b5883cf53a7c0b34": {
          "model_module": "@jupyter-widgets/base",
          "model_name": "LayoutModel",
          "state": {
            "_view_name": "LayoutView",
            "grid_template_rows": null,
            "right": null,
            "justify_content": null,
            "_view_module": "@jupyter-widgets/base",
            "overflow": null,
            "_model_module_version": "1.2.0",
            "_view_count": null,
            "flex_flow": null,
            "width": null,
            "min_width": null,
            "border": null,
            "align_items": null,
            "bottom": null,
            "_model_module": "@jupyter-widgets/base",
            "top": null,
            "grid_column": null,
            "overflow_y": null,
            "overflow_x": null,
            "grid_auto_flow": null,
            "grid_area": null,
            "grid_template_columns": null,
            "flex": null,
            "_model_name": "LayoutModel",
            "justify_items": null,
            "grid_row": null,
            "max_height": null,
            "align_content": null,
            "visibility": null,
            "align_self": null,
            "height": null,
            "min_height": null,
            "padding": null,
            "grid_auto_rows": null,
            "grid_gap": null,
            "max_width": null,
            "order": null,
            "_view_module_version": "1.2.0",
            "grid_template_areas": null,
            "object_position": null,
            "object_fit": null,
            "grid_auto_columns": null,
            "margin": null,
            "display": null,
            "left": null
          }
        },
        "35a86879250e4b39abc99c7b2953b16b": {
          "model_module": "@jupyter-widgets/controls",
          "model_name": "HBoxModel",
          "state": {
            "_view_name": "HBoxView",
            "_dom_classes": [],
            "_model_name": "HBoxModel",
            "_view_module": "@jupyter-widgets/controls",
            "_model_module_version": "1.5.0",
            "_view_count": null,
            "_view_module_version": "1.5.0",
            "box_style": "",
            "layout": "IPY_MODEL_53551953a2a440d1a0610aa0b57f206e",
            "_model_module": "@jupyter-widgets/controls",
            "children": [
              "IPY_MODEL_d2247dbf8c1746c299847b1aeb3c9552",
              "IPY_MODEL_aab52dc1e6ca4de0a5d3342df19e8f89"
            ]
          }
        },
        "53551953a2a440d1a0610aa0b57f206e": {
          "model_module": "@jupyter-widgets/base",
          "model_name": "LayoutModel",
          "state": {
            "_view_name": "LayoutView",
            "grid_template_rows": null,
            "right": null,
            "justify_content": null,
            "_view_module": "@jupyter-widgets/base",
            "overflow": null,
            "_model_module_version": "1.2.0",
            "_view_count": null,
            "flex_flow": null,
            "width": null,
            "min_width": null,
            "border": null,
            "align_items": null,
            "bottom": null,
            "_model_module": "@jupyter-widgets/base",
            "top": null,
            "grid_column": null,
            "overflow_y": null,
            "overflow_x": null,
            "grid_auto_flow": null,
            "grid_area": null,
            "grid_template_columns": null,
            "flex": null,
            "_model_name": "LayoutModel",
            "justify_items": null,
            "grid_row": null,
            "max_height": null,
            "align_content": null,
            "visibility": null,
            "align_self": null,
            "height": null,
            "min_height": null,
            "padding": null,
            "grid_auto_rows": null,
            "grid_gap": null,
            "max_width": null,
            "order": null,
            "_view_module_version": "1.2.0",
            "grid_template_areas": null,
            "object_position": null,
            "object_fit": null,
            "grid_auto_columns": null,
            "margin": null,
            "display": null,
            "left": null
          }
        },
        "d2247dbf8c1746c299847b1aeb3c9552": {
          "model_module": "@jupyter-widgets/controls",
          "model_name": "FloatProgressModel",
          "state": {
            "_view_name": "ProgressView",
            "style": "IPY_MODEL_195e5bd62fb4469e8f295e3a26194bf7",
            "_dom_classes": [],
            "description": "100%",
            "_model_name": "FloatProgressModel",
            "bar_style": "success",
            "max": 10,
            "_view_module": "@jupyter-widgets/controls",
            "_model_module_version": "1.5.0",
            "value": 10,
            "_view_count": null,
            "_view_module_version": "1.5.0",
            "orientation": "horizontal",
            "min": 0,
            "description_tooltip": null,
            "_model_module": "@jupyter-widgets/controls",
            "layout": "IPY_MODEL_5f1bd671a235410a866be1b130825c33"
          }
        },
        "aab52dc1e6ca4de0a5d3342df19e8f89": {
          "model_module": "@jupyter-widgets/controls",
          "model_name": "HTMLModel",
          "state": {
            "_view_name": "HTMLView",
            "style": "IPY_MODEL_6653d680f18c4a1688445f1785900047",
            "_dom_classes": [],
            "description": "",
            "_model_name": "HTMLModel",
            "placeholder": "​",
            "_view_module": "@jupyter-widgets/controls",
            "_model_module_version": "1.5.0",
            "value": " 10/10 [00:29&lt;00:00,  2.91s/it]",
            "_view_count": null,
            "_view_module_version": "1.5.0",
            "description_tooltip": null,
            "_model_module": "@jupyter-widgets/controls",
            "layout": "IPY_MODEL_a114b93dc80b4c16a62fd8b41ebda913"
          }
        },
        "195e5bd62fb4469e8f295e3a26194bf7": {
          "model_module": "@jupyter-widgets/controls",
          "model_name": "ProgressStyleModel",
          "state": {
            "_view_name": "StyleView",
            "_model_name": "ProgressStyleModel",
            "description_width": "initial",
            "_view_module": "@jupyter-widgets/base",
            "_model_module_version": "1.5.0",
            "_view_count": null,
            "_view_module_version": "1.2.0",
            "bar_color": null,
            "_model_module": "@jupyter-widgets/controls"
          }
        },
        "5f1bd671a235410a866be1b130825c33": {
          "model_module": "@jupyter-widgets/base",
          "model_name": "LayoutModel",
          "state": {
            "_view_name": "LayoutView",
            "grid_template_rows": null,
            "right": null,
            "justify_content": null,
            "_view_module": "@jupyter-widgets/base",
            "overflow": null,
            "_model_module_version": "1.2.0",
            "_view_count": null,
            "flex_flow": null,
            "width": null,
            "min_width": null,
            "border": null,
            "align_items": null,
            "bottom": null,
            "_model_module": "@jupyter-widgets/base",
            "top": null,
            "grid_column": null,
            "overflow_y": null,
            "overflow_x": null,
            "grid_auto_flow": null,
            "grid_area": null,
            "grid_template_columns": null,
            "flex": null,
            "_model_name": "LayoutModel",
            "justify_items": null,
            "grid_row": null,
            "max_height": null,
            "align_content": null,
            "visibility": null,
            "align_self": null,
            "height": null,
            "min_height": null,
            "padding": null,
            "grid_auto_rows": null,
            "grid_gap": null,
            "max_width": null,
            "order": null,
            "_view_module_version": "1.2.0",
            "grid_template_areas": null,
            "object_position": null,
            "object_fit": null,
            "grid_auto_columns": null,
            "margin": null,
            "display": null,
            "left": null
          }
        },
        "6653d680f18c4a1688445f1785900047": {
          "model_module": "@jupyter-widgets/controls",
          "model_name": "DescriptionStyleModel",
          "state": {
            "_view_name": "StyleView",
            "_model_name": "DescriptionStyleModel",
            "description_width": "",
            "_view_module": "@jupyter-widgets/base",
            "_model_module_version": "1.5.0",
            "_view_count": null,
            "_view_module_version": "1.2.0",
            "_model_module": "@jupyter-widgets/controls"
          }
        },
        "a114b93dc80b4c16a62fd8b41ebda913": {
          "model_module": "@jupyter-widgets/base",
          "model_name": "LayoutModel",
          "state": {
            "_view_name": "LayoutView",
            "grid_template_rows": null,
            "right": null,
            "justify_content": null,
            "_view_module": "@jupyter-widgets/base",
            "overflow": null,
            "_model_module_version": "1.2.0",
            "_view_count": null,
            "flex_flow": null,
            "width": null,
            "min_width": null,
            "border": null,
            "align_items": null,
            "bottom": null,
            "_model_module": "@jupyter-widgets/base",
            "top": null,
            "grid_column": null,
            "overflow_y": null,
            "overflow_x": null,
            "grid_auto_flow": null,
            "grid_area": null,
            "grid_template_columns": null,
            "flex": null,
            "_model_name": "LayoutModel",
            "justify_items": null,
            "grid_row": null,
            "max_height": null,
            "align_content": null,
            "visibility": null,
            "align_self": null,
            "height": null,
            "min_height": null,
            "padding": null,
            "grid_auto_rows": null,
            "grid_gap": null,
            "max_width": null,
            "order": null,
            "_view_module_version": "1.2.0",
            "grid_template_areas": null,
            "object_position": null,
            "object_fit": null,
            "grid_auto_columns": null,
            "margin": null,
            "display": null,
            "left": null
          }
        },
        "c2c289927c4d4ba3911a9825cf356417": {
          "model_module": "@jupyter-widgets/controls",
          "model_name": "HBoxModel",
          "state": {
            "_view_name": "HBoxView",
            "_dom_classes": [],
            "_model_name": "HBoxModel",
            "_view_module": "@jupyter-widgets/controls",
            "_model_module_version": "1.5.0",
            "_view_count": null,
            "_view_module_version": "1.5.0",
            "box_style": "",
            "layout": "IPY_MODEL_5415c781f0a74057b695554aca0aa47a",
            "_model_module": "@jupyter-widgets/controls",
            "children": [
              "IPY_MODEL_39ff2a8345b443ec8e452a6e3d1046cf",
              "IPY_MODEL_c1b7643f86b34f30aefcc6c58511d86d"
            ]
          }
        },
        "5415c781f0a74057b695554aca0aa47a": {
          "model_module": "@jupyter-widgets/base",
          "model_name": "LayoutModel",
          "state": {
            "_view_name": "LayoutView",
            "grid_template_rows": null,
            "right": null,
            "justify_content": null,
            "_view_module": "@jupyter-widgets/base",
            "overflow": null,
            "_model_module_version": "1.2.0",
            "_view_count": null,
            "flex_flow": null,
            "width": null,
            "min_width": null,
            "border": null,
            "align_items": null,
            "bottom": null,
            "_model_module": "@jupyter-widgets/base",
            "top": null,
            "grid_column": null,
            "overflow_y": null,
            "overflow_x": null,
            "grid_auto_flow": null,
            "grid_area": null,
            "grid_template_columns": null,
            "flex": null,
            "_model_name": "LayoutModel",
            "justify_items": null,
            "grid_row": null,
            "max_height": null,
            "align_content": null,
            "visibility": null,
            "align_self": null,
            "height": null,
            "min_height": null,
            "padding": null,
            "grid_auto_rows": null,
            "grid_gap": null,
            "max_width": null,
            "order": null,
            "_view_module_version": "1.2.0",
            "grid_template_areas": null,
            "object_position": null,
            "object_fit": null,
            "grid_auto_columns": null,
            "margin": null,
            "display": null,
            "left": null
          }
        },
        "39ff2a8345b443ec8e452a6e3d1046cf": {
          "model_module": "@jupyter-widgets/controls",
          "model_name": "FloatProgressModel",
          "state": {
            "_view_name": "ProgressView",
            "style": "IPY_MODEL_c607f9eb3cdc430495533673c682fe12",
            "_dom_classes": [],
            "description": "100%",
            "_model_name": "FloatProgressModel",
            "bar_style": "success",
            "max": 127,
            "_view_module": "@jupyter-widgets/controls",
            "_model_module_version": "1.5.0",
            "value": 127,
            "_view_count": null,
            "_view_module_version": "1.5.0",
            "orientation": "horizontal",
            "min": 0,
            "description_tooltip": null,
            "_model_module": "@jupyter-widgets/controls",
            "layout": "IPY_MODEL_a81b14b465cc42ae88f4d20bc1510c25"
          }
        },
        "c1b7643f86b34f30aefcc6c58511d86d": {
          "model_module": "@jupyter-widgets/controls",
          "model_name": "HTMLModel",
          "state": {
            "_view_name": "HTMLView",
            "style": "IPY_MODEL_9163bd17bb944ffb89f36299419879e2",
            "_dom_classes": [],
            "description": "",
            "_model_name": "HTMLModel",
            "placeholder": "​",
            "_view_module": "@jupyter-widgets/controls",
            "_model_module_version": "1.5.0",
            "value": " 127/127 [00:48&lt;00:00,  2.64it/s]",
            "_view_count": null,
            "_view_module_version": "1.5.0",
            "description_tooltip": null,
            "_model_module": "@jupyter-widgets/controls",
            "layout": "IPY_MODEL_0d3d4e4cd4494fb583b97dd7e0977d22"
          }
        },
        "c607f9eb3cdc430495533673c682fe12": {
          "model_module": "@jupyter-widgets/controls",
          "model_name": "ProgressStyleModel",
          "state": {
            "_view_name": "StyleView",
            "_model_name": "ProgressStyleModel",
            "description_width": "initial",
            "_view_module": "@jupyter-widgets/base",
            "_model_module_version": "1.5.0",
            "_view_count": null,
            "_view_module_version": "1.2.0",
            "bar_color": null,
            "_model_module": "@jupyter-widgets/controls"
          }
        },
        "a81b14b465cc42ae88f4d20bc1510c25": {
          "model_module": "@jupyter-widgets/base",
          "model_name": "LayoutModel",
          "state": {
            "_view_name": "LayoutView",
            "grid_template_rows": null,
            "right": null,
            "justify_content": null,
            "_view_module": "@jupyter-widgets/base",
            "overflow": null,
            "_model_module_version": "1.2.0",
            "_view_count": null,
            "flex_flow": null,
            "width": null,
            "min_width": null,
            "border": null,
            "align_items": null,
            "bottom": null,
            "_model_module": "@jupyter-widgets/base",
            "top": null,
            "grid_column": null,
            "overflow_y": null,
            "overflow_x": null,
            "grid_auto_flow": null,
            "grid_area": null,
            "grid_template_columns": null,
            "flex": null,
            "_model_name": "LayoutModel",
            "justify_items": null,
            "grid_row": null,
            "max_height": null,
            "align_content": null,
            "visibility": null,
            "align_self": null,
            "height": null,
            "min_height": null,
            "padding": null,
            "grid_auto_rows": null,
            "grid_gap": null,
            "max_width": null,
            "order": null,
            "_view_module_version": "1.2.0",
            "grid_template_areas": null,
            "object_position": null,
            "object_fit": null,
            "grid_auto_columns": null,
            "margin": null,
            "display": null,
            "left": null
          }
        },
        "9163bd17bb944ffb89f36299419879e2": {
          "model_module": "@jupyter-widgets/controls",
          "model_name": "DescriptionStyleModel",
          "state": {
            "_view_name": "StyleView",
            "_model_name": "DescriptionStyleModel",
            "description_width": "",
            "_view_module": "@jupyter-widgets/base",
            "_model_module_version": "1.5.0",
            "_view_count": null,
            "_view_module_version": "1.2.0",
            "_model_module": "@jupyter-widgets/controls"
          }
        },
        "0d3d4e4cd4494fb583b97dd7e0977d22": {
          "model_module": "@jupyter-widgets/base",
          "model_name": "LayoutModel",
          "state": {
            "_view_name": "LayoutView",
            "grid_template_rows": null,
            "right": null,
            "justify_content": null,
            "_view_module": "@jupyter-widgets/base",
            "overflow": null,
            "_model_module_version": "1.2.0",
            "_view_count": null,
            "flex_flow": null,
            "width": null,
            "min_width": null,
            "border": null,
            "align_items": null,
            "bottom": null,
            "_model_module": "@jupyter-widgets/base",
            "top": null,
            "grid_column": null,
            "overflow_y": null,
            "overflow_x": null,
            "grid_auto_flow": null,
            "grid_area": null,
            "grid_template_columns": null,
            "flex": null,
            "_model_name": "LayoutModel",
            "justify_items": null,
            "grid_row": null,
            "max_height": null,
            "align_content": null,
            "visibility": null,
            "align_self": null,
            "height": null,
            "min_height": null,
            "padding": null,
            "grid_auto_rows": null,
            "grid_gap": null,
            "max_width": null,
            "order": null,
            "_view_module_version": "1.2.0",
            "grid_template_areas": null,
            "object_position": null,
            "object_fit": null,
            "grid_auto_columns": null,
            "margin": null,
            "display": null,
            "left": null
          }
        }
      }
    }
  },
  "cells": [
    {
      "cell_type": "markdown",
      "metadata": {
        "id": "view-in-github",
        "colab_type": "text"
      },
      "source": [
        "<a href=\"https://colab.research.google.com/github/the-SQuAD-squad/IR/blob/tfidf/IR.ipynb\" target=\"_parent\"><img src=\"https://colab.research.google.com/assets/colab-badge.svg\" alt=\"Open In Colab\"/></a>"
      ]
    },
    {
      "cell_type": "code",
      "metadata": {
        "id": "ZmkNAxSnaD9n",
        "colab": {
          "base_uri": "https://localhost:8080/"
        },
        "outputId": "22772bea-6b44-440c-9bc9-78abb720bbba"
      },
      "source": [
        "#@title Init { form-width: \"25%\" }\r\n",
        "\r\n",
        "import os\r\n",
        "import random\r\n",
        "import math\r\n",
        "import numpy as np\r\n",
        "import tensorflow as tf\r\n",
        "import json\r\n",
        "import pandas as pd\r\n",
        "import re\r\n",
        "import string\r\n",
        "import tensorflow_hub as hub\r\n",
        "from tensorflow import keras\r\n",
        "from tensorflow.keras import layers\r\n",
        "from tqdm.notebook import tqdm\r\n",
        "\r\n",
        "!pip3 install wikipedia-api > null\r\n",
        "import wikipediaapi\r\n",
        "!pip install tokenizers > null\r\n",
        "from tokenizers import BertWordPieceTokenizer\r\n",
        "\r\n",
        "from sklearn.metrics.pairwise import cosine_similarity\r\n",
        "from matplotlib import pyplot as plt\r\n",
        "from sklearn.feature_extraction.text import TfidfVectorizer\r\n",
        "\r\n",
        "pd.set_option('display.max_colwidth', -1)\r\n",
        "\r\n",
        "# fix random seeds\r\n",
        "seed_value = 42 #@param {type:\"integer\"}\r\n",
        "\r\n",
        "os.environ['PYTHONHASHSEED']=str(seed_value)\r\n",
        "random.seed(seed_value)\r\n",
        "np.random.seed(seed_value)\r\n",
        "\r\n",
        "tf.compat.v1.set_random_seed(seed_value)\r\n",
        "\r\n",
        "session_conf = tf.compat.v1.ConfigProto(intra_op_parallelism_threads=1, inter_op_parallelism_threads=1)\r\n",
        "sess = tf.compat.v1.Session(graph=tf.compat.v1.get_default_graph(), config=session_conf)\r\n",
        "tf.compat.v1.keras.backend.set_session(sess)\r\n",
        "\r\n",
        "# BERT params\r\n",
        "max_seq_length = 512\r\n",
        "bert_layer = hub.KerasLayer(\"https://tfhub.dev/tensorflow/bert_en_uncased_L-12_H-768_A-12/2\", trainable=True)\r\n"
      ],
      "execution_count": 8,
      "outputs": [
        {
          "output_type": "stream",
          "text": [
            "/usr/local/lib/python3.7/dist-packages/ipykernel_launcher.py:26: FutureWarning: Passing a negative integer is deprecated in version 1.0 and will not be supported in future version. Instead, use None to not limit the column width.\n"
          ],
          "name": "stderr"
        }
      ]
    },
    {
      "cell_type": "code",
      "metadata": {
        "id": "TnF-L-9Yr1AZ",
        "colab": {
          "base_uri": "https://localhost:8080/"
        },
        "outputId": "cf170e69-35ad-4f98-8fc3-392a4028c4c1"
      },
      "source": [
        "#@title df creation { form-width: \"25%\" }\r\n",
        "\r\n",
        "# the official dataset is identical to the provided one\r\n",
        "!wget https://rajpurkar.github.io/SQuAD-explorer/dataset/train-v1.1.json -O training_set.json\r\n",
        "\r\n",
        "with open(\"training_set.json\", \"r\") as f:\r\n",
        "    json_file = json.load(f)\r\n",
        "data = json_file[\"data\"]\r\n",
        "\r\n",
        "rows = []\r\n",
        "for document in data:\r\n",
        "  for par in document['paragraphs']:\r\n",
        "    for qas in par['qas']:\r\n",
        "      rows.append({\r\n",
        "        'id' : qas['id'],\r\n",
        "        'title': document[\"title\"],\r\n",
        "        'passage': par['context'],\r\n",
        "        'question' : qas['question'],\r\n",
        "        'answer_idx' : (qas['answers'][0]['answer_start'], \r\n",
        "                    qas['answers'][0]['answer_start'] + len(qas['answers'][0]['text'])),\r\n",
        "        'answer_text' : qas['answers'][0]['text']\r\n",
        "      })\r\n",
        "\r\n",
        "df_original = pd.DataFrame(rows)"
      ],
      "execution_count": 9,
      "outputs": [
        {
          "output_type": "stream",
          "text": [
            "--2021-03-13 12:10:34--  https://rajpurkar.github.io/SQuAD-explorer/dataset/train-v1.1.json\n",
            "Resolving rajpurkar.github.io (rajpurkar.github.io)... 185.199.108.153, 185.199.109.153, 185.199.110.153, ...\n",
            "Connecting to rajpurkar.github.io (rajpurkar.github.io)|185.199.108.153|:443... connected.\n",
            "HTTP request sent, awaiting response... 200 OK\n",
            "Length: 30288272 (29M) [application/json]\n",
            "Saving to: ‘training_set.json’\n",
            "\n",
            "training_set.json   100%[===================>]  28.88M  88.0MB/s    in 0.3s    \n",
            "\n",
            "2021-03-13 12:10:34 (88.0 MB/s) - ‘training_set.json’ saved [30288272/30288272]\n",
            "\n"
          ],
          "name": "stdout"
        }
      ]
    },
    {
      "cell_type": "code",
      "metadata": {
        "id": "BDT_VzFCsW-q",
        "colab": {
          "base_uri": "https://localhost:8080/"
        },
        "outputId": "28a6d199-ac56-4df3-8489-73715541e95b"
      },
      "source": [
        "#@title preprocessing { form-width: \"25%\" }\r\n",
        "\r\n",
        "import nltk\r\n",
        "import re \r\n",
        "import math\r\n",
        "import random as rand\r\n",
        "\r\n",
        "nltk.download('punkt')\r\n",
        "from nltk.stem.porter import PorterStemmer # for stemming\r\n",
        "\r\n",
        "from tqdm.notebook import tqdm\r\n",
        "\r\n",
        "\r\n",
        "def preprocess_text(text):\r\n",
        "    \"\"\"\r\n",
        "    Given an iterable containing sentences, pre-process each sentence.\r\n",
        "\r\n",
        "    :param: \r\n",
        "        - text: list of text to be pre-processed (Iterable)\r\n",
        "    :return:\r\n",
        "        - text: pre-processed text (List)\r\n",
        "    \"\"\"\r\n",
        "\r\n",
        "    REPLACE_WITH_SPACE = re.compile(r\"\\n\") \r\n",
        "    text = [REPLACE_WITH_SPACE.sub(\" \", line) for line in text]\r\n",
        "\r\n",
        "    text = [re.sub(r\"([(.;:!\\'ˈ~?,\\\"(\\[\\])\\\\\\/\\-–\\t```<>_#$€@%*+—°′″“”×’^₤₹‘])\", r'', line) for line in text]\r\n",
        "\r\n",
        "    # we noticed that in the text sometimes we find numbers and the following word merged together (ex: 1980february),\r\n",
        "    # so we put a space between the number and the word\r\n",
        "    text = [re.sub(r\"(\\d+)([a-z]+)\", r'\\1 \\2', line) for line in text] \r\n",
        "    text = [re.sub('\\s{2,}', ' ', line.strip()) for line in text]   # replacing more than one consecutive blank spaces with only one of them\r\n",
        "\r\n",
        "    return text\r\n",
        "\r\n",
        "    \"\"\"\r\n",
        "    stemmed_lines = []\r\n",
        "    for line in tqdm(text):\r\n",
        "        tokens = nltk.word_tokenize(line)\r\n",
        "        stems = []\r\n",
        "        for item in tokens:\r\n",
        "            stems.append(PorterStemmer().stem(item))\r\n",
        "        stemmed_lines.append(' '.join(stems))\r\n",
        "\r\n",
        "    return stemmed_lines\r\n",
        "    \"\"\"\r\n",
        "\r\n",
        "# Creating a copy of the original dataframe (we do this because we want to be able to compare the results of our processing with the original data)\r\n",
        "df = df_original.copy()\r\n",
        "\r\n",
        "# pre-process passage and question text\r\n",
        "df['passage'] = preprocess_text(df_original['passage'])\r\n",
        "df['question'] = preprocess_text(df_original['question'])\r\n",
        "df['answer_text'] = preprocess_text(df_original['answer_text'])\r\n",
        "\r\n",
        "\r\n",
        "# Comparing Original and Pre-Processed\r\n",
        "for i in range(3):\r\n",
        "    a = rand.randint(0,1000)\r\n",
        "    print('ORIGINAL AND PREPROCESSED PASSAGE:')\r\n",
        "    print(df_original.iloc[a]['passage'])\r\n",
        "    print(df.iloc[a]['passage'])\r\n",
        "    \r\n",
        "    print()\r\n",
        "    print('ORIGINAL AND PREPROCESSED QUESTION:')\r\n",
        "    print(df_original.iloc[a]['question'])\r\n",
        "    print(df.iloc[a]['question'])\r\n",
        "    print()\r\n",
        "\r\n",
        "df[\"passage\"]=df[\"passage\"].str.lower()\r\n",
        "df[\"question\"]=df[\"question\"].str.lower()\r\n",
        "df[\"answer_text\"]=df[\"answer_text\"].str.lower()"
      ],
      "execution_count": 10,
      "outputs": [
        {
          "output_type": "stream",
          "text": [
            "[nltk_data] Downloading package punkt to /root/nltk_data...\n",
            "[nltk_data]   Package punkt is already up-to-date!\n",
            "ORIGINAL AND PREPROCESSED PASSAGE:\n",
            "In 2015 Beyoncé signed an open letter which the ONE Campaign had been collecting signatures for; the letter was addressed to Angela Merkel and Nkosazana Dlamini-Zuma, urging them to focus on women as they serve as the head of the G7 in Germany and the AU in South Africa respectively, which will start to set the priorities in development funding before a main UN summit in September 2015 that will establish new development goals for the generation.\n",
            "In 2015 Beyoncé signed an open letter which the ONE Campaign had been collecting signatures for the letter was addressed to Angela Merkel and Nkosazana DlaminiZuma urging them to focus on women as they serve as the head of the G7 in Germany and the AU in South Africa respectively which will start to set the priorities in development funding before a main UN summit in September 2015 that will establish new development goals for the generation\n",
            "\n",
            "ORIGINAL AND PREPROCESSED QUESTION:\n",
            "An important UN summit took place when?\n",
            "An important UN summit took place when\n",
            "\n",
            "ORIGINAL AND PREPROCESSED PASSAGE:\n",
            "The Rev. John J. Cavanaugh, C.S.C. served as president from 1946 to 1952. Cavanaugh's legacy at Notre Dame in the post-war years was devoted to raising academic standards and reshaping the university administration to suit it to an enlarged educational mission and an expanded student body and stressing advanced studies and research at a time when Notre Dame quadrupled in student census, undergraduate enrollment increased by more than half, and graduate student enrollment grew fivefold. Cavanaugh also established the Lobund Institute for Animal Studies and Notre Dame's Medieval Institute. Cavanaugh also presided over the construction of the Nieuwland Science Hall, Fisher Hall, and the Morris Inn, as well as the Hall of Liberal Arts (now O'Shaughnessy Hall), made possible by a donation from I.A. O'Shaughnessy, at the time the largest ever made to an American Catholic university. Cavanaugh also established a system of advisory councils at the university, which continue today and are vital to the university's governance and development\n",
            "The Rev John J Cavanaugh CSC served as president from 1946 to 1952 Cavanaughs legacy at Notre Dame in the postwar years was devoted to raising academic standards and reshaping the university administration to suit it to an enlarged educational mission and an expanded student body and stressing advanced studies and research at a time when Notre Dame quadrupled in student census undergraduate enrollment increased by more than half and graduate student enrollment grew fivefold Cavanaugh also established the Lobund Institute for Animal Studies and Notre Dames Medieval Institute Cavanaugh also presided over the construction of the Nieuwland Science Hall Fisher Hall and the Morris Inn as well as the Hall of Liberal Arts now OShaughnessy Hall made possible by a donation from IA OShaughnessy at the time the largest ever made to an American Catholic university Cavanaugh also established a system of advisory councils at the university which continue today and are vital to the universitys governance and development\n",
            "\n",
            "ORIGINAL AND PREPROCESSED QUESTION:\n",
            "Which institute involving animal life did Cavanaugh create at Notre Dame?\n",
            "Which institute involving animal life did Cavanaugh create at Notre Dame\n",
            "\n",
            "ORIGINAL AND PREPROCESSED PASSAGE:\n",
            "The university first offered graduate degrees, in the form of a Master of Arts (MA), in the 1854–1855 academic year. The program expanded to include Master of Laws (LL.M.) and Master of Civil Engineering in its early stages of growth, before a formal graduate school education was developed with a thesis not required to receive the degrees. This changed in 1924 with formal requirements developed for graduate degrees, including offering Doctorate (PhD) degrees. Today each of the five colleges offer graduate education. Most of the departments from the College of Arts and Letters offer PhD programs, while a professional Master of Divinity (M.Div.) program also exists. All of the departments in the College of Science offer PhD programs, except for the Department of Pre-Professional Studies. The School of Architecture offers a Master of Architecture, while each of the departments of the College of Engineering offer PhD programs. The College of Business offers multiple professional programs including MBA and Master of Science in Accountancy programs. It also operates facilities in Chicago and Cincinnati for its executive MBA program. Additionally, the Alliance for Catholic Education program offers a Master of Education program where students study at the university during the summer and teach in Catholic elementary schools, middle schools, and high schools across the Southern United States for two school years.\n",
            "The university first offered graduate degrees in the form of a Master of Arts MA in the 18541855 academic year The program expanded to include Master of Laws LLM and Master of Civil Engineering in its early stages of growth before a formal graduate school education was developed with a thesis not required to receive the degrees This changed in 1924 with formal requirements developed for graduate degrees including offering Doctorate PhD degrees Today each of the five colleges offer graduate education Most of the departments from the College of Arts and Letters offer PhD programs while a professional Master of Divinity MDiv program also exists All of the departments in the College of Science offer PhD programs except for the Department of PreProfessional Studies The School of Architecture offers a Master of Architecture while each of the departments of the College of Engineering offer PhD programs The College of Business offers multiple professional programs including MBA and Master of Science in Accountancy programs It also operates facilities in Chicago and Cincinnati for its executive MBA program Additionally the Alliance for Catholic Education program offers a Master of Education program where students study at the university during the summer and teach in Catholic elementary schools middle schools and high schools across the Southern United States for two school years\n",
            "\n",
            "ORIGINAL AND PREPROCESSED QUESTION:\n",
            "What type of degree is an M.Div.?\n",
            "What type of degree is an MDiv\n",
            "\n"
          ],
          "name": "stdout"
        }
      ]
    },
    {
      "cell_type": "code",
      "metadata": {
        "id": "fcWltP9pr7XJ",
        "colab": {
          "base_uri": "https://localhost:8080/"
        },
        "outputId": "3dbe938f-056f-4d79-9287-022f119ed9b7"
      },
      "source": [
        "#@title clean dataset { form-width: \"25%\" }\r\n",
        "\r\n",
        "!gcloud config set project feisty-mechanic-221914\r\n",
        "!gsutil cp gs://squad_squad/error_IDs.txt ./error_IDs.txt\r\n",
        "\r\n",
        "with open(\"error_IDs.txt\", \"r\") as f:\r\n",
        "    unwanted_id = f.read()  # remove samples that contain errors from the dataset\r\n",
        "\r\n",
        "unwanted_id = unwanted_id.split(\"\\n\")[:-1]\r\n",
        "df_clean = df.set_index('id')\r\n",
        "df_clean = df_clean.drop(unwanted_id)\r\n",
        "\r\n",
        "df_original_clean = df_original.set_index('id')\r\n",
        "df_original_clean = df_original_clean.drop(unwanted_id)"
      ],
      "execution_count": 11,
      "outputs": [
        {
          "output_type": "stream",
          "text": [
            "Updated property [core/project].\n",
            "Copying gs://squad_squad/error_IDs.txt...\n",
            "/ [1 files][  5.7 KiB/  5.7 KiB]                                                \n",
            "Operation completed over 1 objects/5.7 KiB.                                      \n"
          ],
          "name": "stdout"
        }
      ]
    },
    {
      "cell_type": "code",
      "metadata": {
        "id": "cLaIJR0XvyBK"
      },
      "source": [
        "#@title train-test split { form-width: \"25%\" }\r\n",
        "\r\n",
        "os.environ['PYTHONHASHSEED']=str(seed_value)\r\n",
        "random.seed(seed_value)\r\n",
        "np.random.seed(seed_value)\r\n",
        "\r\n",
        "split_value = 0.1 #@param {type:\"number\"} \r\n",
        "test_dim = int(len(df_clean['title'].unique()) * split_value)\r\n",
        "test_titles = np.random.choice(df_clean['title'].unique(), size=test_dim, replace=False)\r\n",
        "\r\n",
        "# creating train and test sets\r\n",
        "df_test = df_clean[df_clean['title'].isin(test_titles)]\r\n",
        "df_train = df_clean[~(df_clean['title'].isin(test_titles))]\r\n",
        "\r\n",
        "df_original_test = df_original_clean[df_original_clean['title'].isin(test_titles)]\r\n",
        "df_original_train = df_original_clean[~(df_original_clean['title'].isin(test_titles))]"
      ],
      "execution_count": 12,
      "outputs": []
    },
    {
      "cell_type": "code",
      "metadata": {
        "id": "WUunpQ9x2sG6"
      },
      "source": [
        "#@title tf-idf { form-width: \"25%\" }\r\n",
        "\r\n",
        "vectorizer =  TfidfVectorizer()\r\n",
        "\r\n",
        "# get unique preprocessed passages from the training set\r\n",
        "passage_prep_train = df_train['passage'].unique().tolist()\r\n",
        "# use the tf-idf vectorizer to learn the vocabulary and the inverse document frequency, computing the document-term matrix on the training set\r\n",
        "passage_tf_idf = vectorizer.fit_transform(passage_prep_train)\r\n",
        "\r\n",
        "# obtain unique passages from the test set\r\n",
        "passage_prep_test = df_test['passage'].unique().tolist() # preprocessed\r\n",
        "passage_test = df_original_test['passage'].unique()      # original\r\n",
        "\r\n",
        "# transform test passages and questions\r\n",
        "passage_test_tf_idf = vectorizer.transform(passage_prep_test)\r\n",
        "question_tf_idf = vectorizer.transform(df_test['question'].tolist())\r\n",
        "\r\n",
        "# compute similarity\r\n",
        "results = cosine_similarity(passage_test_tf_idf, question_tf_idf)"
      ],
      "execution_count": 13,
      "outputs": []
    },
    {
      "cell_type": "code",
      "metadata": {
        "id": "7nPP3e7bcKUh",
        "colab": {
          "base_uri": "https://localhost:8080/",
          "height": 366,
          "referenced_widgets": [
            "77e2e0cf012f4da0965e0bf2e32bdf83",
            "9fd1cedbc99f4614818a33211605bab3",
            "042f4d9a40a540979f84f3f2df59d117",
            "fd751a3596934d4fa991db00fe1e5ab5",
            "2ac7c003a86047fda7132e37569c6ed3",
            "29e1f9d3d84d43bd9ee23a4147526383",
            "8ea76fc531ce4e29a0a483b6418c7d4b",
            "368c74650b184676b5883cf53a7c0b34"
          ]
        },
        "outputId": "36d8318f-300f-4efc-ba71-92f81ea7a9b5"
      },
      "source": [
        "#@title single passage score { form-width: \"25%\" }\n",
        "\n",
        "# In this cell we evaluate how effective is tf-idf in finding the right passage for a question\n",
        "\n",
        "# we compute the result accuracy for each k between 1 and k_results:\n",
        "# in particular, for each question we take the k most probable passages and check\n",
        "# if the right passage is among them \n",
        "k_results = 10  \n",
        "\n",
        "tp = 0 #true positives\n",
        "accuracy = []\n",
        "for k in tqdm(range(1, k_results+1)):\n",
        "    for j,result in enumerate(results.T):\n",
        "        result = np.argsort(result)\n",
        "        if df_original_test['passage'].tolist()[j] in [text for text in passage_test[result[-k:].tolist()]]:\n",
        "            tp+=1\n",
        "    accuracy.append(tp/len(df_original_test))\n",
        "    tp = 0\n",
        "\n",
        "print(accuracy,sep='\\n')\n",
        "plt.plot(list(range(1, k_results+1)),accuracy,\"-s\");\n",
        "plt.xlabel(\"k\");\n",
        "plt.ylabel(\"Accuracy\");"
      ],
      "execution_count": 28,
      "outputs": [
        {
          "output_type": "display_data",
          "data": {
            "application/vnd.jupyter.widget-view+json": {
              "model_id": "77e2e0cf012f4da0965e0bf2e32bdf83",
              "version_minor": 0,
              "version_major": 2
            },
            "text/plain": [
              "HBox(children=(FloatProgress(value=0.0, max=10.0), HTML(value='')))"
            ]
          },
          "metadata": {
            "tags": []
          }
        },
        {
          "output_type": "stream",
          "text": [
            "\n",
            "[0.5450475657526581, 0.6624230554001119, 0.7250979294907667, 0.7620313374370453, 0.7890318970341355, 0.8115556799104645, 0.8282036933407946, 0.8412143256855065, 0.8538052602126469, 0.8649972020145495]\n"
          ],
          "name": "stdout"
        },
        {
          "output_type": "display_data",
          "data": {
            "image/png": "[encoded data removed]",
            "text/plain": [
              "<Figure size 432x288 with 1 Axes>"
            ]
          },
          "metadata": {
            "tags": [],
            "needs_background": "light"
          }
        }
      ]
    },
    {
      "cell_type": "code",
      "metadata": {
        "id": "MapqT-lwm-N5",
        "colab": {
          "base_uri": "https://localhost:8080/",
          "height": 366,
          "referenced_widgets": [
            "35a86879250e4b39abc99c7b2953b16b",
            "53551953a2a440d1a0610aa0b57f206e",
            "d2247dbf8c1746c299847b1aeb3c9552",
            "aab52dc1e6ca4de0a5d3342df19e8f89",
            "195e5bd62fb4469e8f295e3a26194bf7",
            "5f1bd671a235410a866be1b130825c33",
            "6653d680f18c4a1688445f1785900047",
            "a114b93dc80b4c16a62fd8b41ebda913"
          ]
        },
        "outputId": "1da48073-a827-4563-bc59-f71fbe363cb8"
      },
      "source": [
        "#@title full document score { form-width: \"25%\" }\n",
        "\n",
        "# In this cell we evaluate how effective is tf-idf in finding the right document (passage title) for a question\n",
        "\n",
        "passage_group = df_original_test.groupby('passage').groups\n",
        "\n",
        "k_results = 10\n",
        "tp = 0\n",
        "document_accuracy = []\n",
        "for k in tqdm(range(1,k_results+1)):\n",
        "    for j,result in enumerate(results.T):\n",
        "        result = np.argsort(result)\n",
        "        for h in range(1,k+1):\n",
        "            if df_original_test[\"title\"].tolist()[j] == df_original_test.loc[passage_group[passage_test[result[-h]]][0]]['title']:\n",
        "                tp+=1\n",
        "                break\n",
        "    document_accuracy.append(tp/len(df_original_test))\n",
        "    tp = 0\n",
        "\n",
        "print(document_accuracy,sep='\\n')\n",
        "plt.plot(list(range(1, k_results+1)),document_accuracy,\"-s\");\n",
        "plt.xlabel(\"k\");\n",
        "plt.ylabel(\"Accuracy\");"
      ],
      "execution_count": 29,
      "outputs": [
        {
          "output_type": "display_data",
          "data": {
            "application/vnd.jupyter.widget-view+json": {
              "model_id": "35a86879250e4b39abc99c7b2953b16b",
              "version_minor": 0,
              "version_major": 2
            },
            "text/plain": [
              "HBox(children=(FloatProgress(value=0.0, max=10.0), HTML(value='')))"
            ]
          },
          "metadata": {
            "tags": []
          }
        },
        {
          "output_type": "stream",
          "text": [
            "\n",
            "[0.8547845551203134, 0.9162003357582541, 0.9360660324566312, 0.9457190822607723, 0.9534135422495803, 0.9597090095131505, 0.9629266927811976, 0.9657246782316732, 0.9682428651371013, 0.9710408505875769]\n"
          ],
          "name": "stdout"
        },
        {
          "output_type": "display_data",
          "data": {
            "image/png": "[encoded data removed]",
            "text/plain": [
              "<Figure size 432x288 with 1 Axes>"
            ]
          },
          "metadata": {
            "tags": [],
            "needs_background": "light"
          }
        }
      ]
    },
    {
      "cell_type": "markdown",
      "metadata": {
        "id": "N1qvIn6ucZZV"
      },
      "source": [
        "# GET READY FOR THE CRUISE NET"
      ]
    },
    {
      "cell_type": "code",
      "metadata": {
        "id": "bUHJqljfReRH"
      },
      "source": [
        "#@title Get links from Wiki page { form-width: \"25%\" }\r\n",
        "\r\n",
        "wiki_wiki = wikipediaapi.Wikipedia('en')\r\n",
        "page_py = wiki_wiki.page(\"Tom Cruise filmography\")\r\n",
        "def get_links(page):\r\n",
        "    links = page.links\r\n",
        "    for title in sorted(links.keys()):\r\n",
        "        if links[title].ns != 0 or \"Unauthorized\" in title or \"Being Tom Cruise\" in title:  # remove some links not strictly related to the tom cruise filmography\r\n",
        "            links.pop(title)\r\n",
        "    return links\r\n",
        "\r\n",
        "links = get_links(page_py)"
      ],
      "execution_count": 16,
      "outputs": []
    },
    {
      "cell_type": "code",
      "metadata": {
        "id": "S4mL71t6WFyR",
        "colab": {
          "base_uri": "https://localhost:8080/",
          "height": 66,
          "referenced_widgets": [
            "c2c289927c4d4ba3911a9825cf356417",
            "5415c781f0a74057b695554aca0aa47a",
            "39ff2a8345b443ec8e452a6e3d1046cf",
            "c1b7643f86b34f30aefcc6c58511d86d",
            "c607f9eb3cdc430495533673c682fe12",
            "a81b14b465cc42ae88f4d20bc1510c25",
            "9163bd17bb944ffb89f36299419879e2",
            "0d3d4e4cd4494fb583b97dd7e0977d22"
          ]
        },
        "outputId": "9ff6585d-75b6-4a68-f106-caadef8cb1af"
      },
      "source": [
        "#@title Get Wiki pages { form-width: \"25%\" }\r\n",
        "\r\n",
        "pages_text = {}\r\n",
        "for title in tqdm(links):\r\n",
        "    page_py = links[title]\r\n",
        "    pages_text[title] = page_py.text\r\n",
        "\r\n",
        "# remove the last sections of the wiki page from the text\r\n",
        "for title in pages_text:\r\n",
        "    stop_index = pages_text[title].rfind(\"References\")\r\n",
        "    pages_text[title] = pages_text[title][:stop_index]"
      ],
      "execution_count": null,
      "outputs": [
        {
          "output_type": "display_data",
          "data": {
            "application/vnd.jupyter.widget-view+json": {
              "model_id": "c2c289927c4d4ba3911a9825cf356417",
              "version_minor": 0,
              "version_major": 2
            },
            "text/plain": [
              "HBox(children=(FloatProgress(value=0.0, max=127.0), HTML(value='')))"
            ]
          },
          "metadata": {
            "tags": []
          }
        },
        {
          "output_type": "stream",
          "text": [
            "\n"
          ],
          "name": "stdout"
        }
      ]
    },
    {
      "cell_type": "code",
      "metadata": {
        "id": "c-pxxUCvkNuO"
      },
      "source": [
        "#@title preprocess wiki pages { form-width: \"25%\" }\r\n",
        "pages_text_preprocessed = preprocess_text(pages_text.values())\r\n",
        "titles = list(pages_text.keys())"
      ],
      "execution_count": null,
      "outputs": []
    },
    {
      "cell_type": "code",
      "metadata": {
        "id": "vQq9cbZerEyx",
        "colab": {
          "base_uri": "https://localhost:8080/"
        },
        "outputId": "92e32823-85b5-40f7-f65e-f8284187a597"
      },
      "source": [
        "#@title tf-idf wiki { form-width: \"25%\" }\r\n",
        "vectorizer =  TfidfVectorizer()\r\n",
        "\r\n",
        "questions = [\"When was Tom Cruise born?\", \"What was the first film Tom Cruise acted in?\", \"What does Tom Cruise believe in?\", \"What is Tom Cruise character's name in Mission Impossible?\", \"What is Vanilla Sky?\", \"Who directed Mission Impossible?\"]\r\n",
        "\r\n",
        "# fit the vectorizer on the preprocessed wikipedia text\r\n",
        "passages_vectorized = vectorizer.fit_transform(pages_text_preprocessed)\r\n",
        "questions_vectorized = vectorizer.transform(questions)\r\n",
        "\r\n",
        "results = cosine_similarity(questions_vectorized,passages_vectorized)\r\n",
        "\r\n",
        "for i,row in enumerate(results):\r\n",
        "    index = np.argmax(row)\r\n",
        "    print(questions[i], end = \" ---> \")\r\n",
        "    print(titles[index])"
      ],
      "execution_count": null,
      "outputs": [
        {
          "output_type": "stream",
          "text": [
            "When was Tom Cruise born? ---> Tom Cruise\n",
            "What was the first film Tom Cruise acted in? ---> Tom Cruise\n",
            "What does Tom Cruise believe in? ---> Tom Cruise\n",
            "What is Tom Cruise character's name in Mission Impossible? ---> Mission: Impossible (film series)\n",
            "What is Vanilla Sky? ---> Vanilla Sky\n",
            "Who directed Mission Impossible? ---> Mission: Impossible (film series)\n"
          ],
          "name": "stdout"
        }
      ]
    },
    {
      "cell_type": "code",
      "metadata": {
        "id": "jJ_hLG8WdF1-",
        "colab": {
          "base_uri": "https://localhost:8080/"
        },
        "outputId": "7b146f40-a41b-48b2-b8b2-86933dc24e0f"
      },
      "source": [
        "#@title model definition { form-width: \"25%\" }\r\n",
        "\r\n",
        "!pip install transformers > /dev/null\r\n",
        "import transformers\r\n",
        "\r\n",
        "pretrained_model_str = \"roberta-base\"\r\n",
        "bert_hf_layer = transformers.TFRobertaModel.from_pretrained(\r\n",
        "    pretrained_model_str, output_attentions=True)\r\n",
        "\r\n",
        "#@title model definition { form-width: \"25%\" }\r\n",
        "\r\n",
        "input_word_ids = tf.keras.layers.Input(shape=(max_seq_length,), dtype=tf.int32, name='input_word_ids')\r\n",
        "input_mask = tf.keras.layers.Input(shape=(max_seq_length,), dtype=tf.int32, name='input_mask')\r\n",
        "input_type_ids = tf.keras.layers.Input(shape=(max_seq_length,), dtype=tf.int32, name='input_type_ids')\r\n",
        "\r\n",
        "#pooled_output, sequence_output = bert_layer([input_word_ids, input_mask, input_type_ids])\r\n",
        "\r\n",
        "#HUGGINGFACE 🤗🤗🤗🤗🤗🤗🤗🤗🤗🤗🤗🤗🤗\r\n",
        "sequence_output = bert_hf_layer(input_ids=input_word_ids, attention_mask=input_mask, \r\n",
        "                                token_type_ids=input_type_ids).last_hidden_state\r\n",
        "\r\n",
        "#do_lower_case = bert_layer.resolved_object.do_lower_case.numpy()\r\n",
        "\r\n",
        "start_logits = layers.Dense(1, name=\"start_logit\", use_bias=False)(sequence_output)\r\n",
        "start_logits = layers.Flatten(name=\"flatten_start\")(start_logits)\r\n",
        "\r\n",
        "end_logits = layers.Dense(1, name=\"end_logit\", use_bias=False)(sequence_output)\r\n",
        "end_logits = layers.Flatten(name=\"flatten_end\")(end_logits)\r\n",
        "\r\n",
        "start_probs = layers.Activation(keras.activations.softmax, name=\"softmax_start\")(start_logits)\r\n",
        "end_probs = layers.Activation(keras.activations.softmax, name=\"softmax_end\")(end_logits)\r\n",
        "\r\n",
        "model = keras.Model(inputs=[input_word_ids, input_mask, input_type_ids], \r\n",
        "                    outputs=[start_probs, end_probs],\r\n",
        "                    name=\"BERT_QA\")\r\n",
        "\r\n",
        "loss = keras.losses.SparseCategoricalCrossentropy(from_logits=False)\r\n",
        "\r\n",
        "optimizer = keras.optimizers.Adam(lr=1e-5, beta_1=0.9, beta_2=0.98, epsilon=1e-9)\r\n",
        "\r\n",
        "model.summary(line_length=150)\r\n",
        "\r\n",
        "# load weights from the SQuAD v2 training\r\n",
        "!wget https://api.wandb.ai/files/buio/SQUAD/jkgwaatn/model-best.h5\r\n",
        "model.load_weights(\"model-best.h5\")"
      ],
      "execution_count": null,
      "outputs": [
        {
          "output_type": "stream",
          "text": [
            "Some layers from the model checkpoint at roberta-base were not used when initializing TFRobertaModel: ['lm_head']\n",
            "- This IS expected if you are initializing TFRobertaModel from the checkpoint of a model trained on another task or with another architecture (e.g. initializing a BertForSequenceClassification model from a BertForPreTraining model).\n",
            "- This IS NOT expected if you are initializing TFRobertaModel from the checkpoint of a model that you expect to be exactly identical (initializing a BertForSequenceClassification model from a BertForSequenceClassification model).\n",
            "All the layers of TFRobertaModel were initialized from the model checkpoint at roberta-base.\n",
            "If your task is similar to the task the model of the checkpoint was trained on, you can already use TFRobertaModel for predictions without further training.\n"
          ],
          "name": "stderr"
        },
        {
          "output_type": "stream",
          "text": [
            "WARNING:tensorflow:The parameters `output_attentions`, `output_hidden_states` and `use_cache` cannot be updated when calling a model.They have to be set to True/False in the config object (i.e.: `config=XConfig.from_pretrained('name', output_attentions=True)`).\n",
            "WARNING:tensorflow:AutoGraph could not transform <bound method Socket.send of <zmq.sugar.socket.Socket object at 0x7f8d38ad8ec0>> and will run it as-is.\n",
            "Please report this to the TensorFlow team. When filing the bug, set the verbosity to 10 (on Linux, `export AUTOGRAPH_VERBOSITY=10`) and attach the full output.\n",
            "Cause: module, class, method, function, traceback, frame, or code object was expected, got cython_function_or_method\n",
            "To silence this warning, decorate the function with @tf.autograph.experimental.do_not_convert\n"
          ],
          "name": "stdout"
        },
        {
          "output_type": "stream",
          "text": [
            "WARNING:tensorflow:AutoGraph could not transform <bound method Socket.send of <zmq.sugar.socket.Socket object at 0x7f8d38ad8ec0>> and will run it as-is.\n",
            "Please report this to the TensorFlow team. When filing the bug, set the verbosity to 10 (on Linux, `export AUTOGRAPH_VERBOSITY=10`) and attach the full output.\n",
            "Cause: module, class, method, function, traceback, frame, or code object was expected, got cython_function_or_method\n",
            "To silence this warning, decorate the function with @tf.autograph.experimental.do_not_convert\n"
          ],
          "name": "stderr"
        },
        {
          "output_type": "stream",
          "text": [
            "WARNING: AutoGraph could not transform <bound method Socket.send of <zmq.sugar.socket.Socket object at 0x7f8d38ad8ec0>> and will run it as-is.\n",
            "Please report this to the TensorFlow team. When filing the bug, set the verbosity to 10 (on Linux, `export AUTOGRAPH_VERBOSITY=10`) and attach the full output.\n",
            "Cause: module, class, method, function, traceback, frame, or code object was expected, got cython_function_or_method\n",
            "To silence this warning, decorate the function with @tf.autograph.experimental.do_not_convert\n",
            "WARNING:tensorflow:AutoGraph could not transform <function wrap at 0x7f8d54389c20> and will run it as-is.\n",
            "Cause: while/else statement not yet supported\n",
            "To silence this warning, decorate the function with @tf.autograph.experimental.do_not_convert\n"
          ],
          "name": "stdout"
        },
        {
          "output_type": "stream",
          "text": [
            "WARNING:tensorflow:The parameters `output_attentions`, `output_hidden_states` and `use_cache` cannot be updated when calling a model.They have to be set to True/False in the config object (i.e.: `config=XConfig.from_pretrained('name', output_attentions=True)`).\n"
          ],
          "name": "stderr"
        },
        {
          "output_type": "stream",
          "text": [
            "WARNING:tensorflow:The parameter `return_dict` cannot be set in graph mode and will always be set to `True`.\n"
          ],
          "name": "stdout"
        },
        {
          "output_type": "stream",
          "text": [
            "WARNING:tensorflow:AutoGraph could not transform <function wrap at 0x7f8d54389c20> and will run it as-is.\n",
            "Cause: while/else statement not yet supported\n",
            "To silence this warning, decorate the function with @tf.autograph.experimental.do_not_convert\n"
          ],
          "name": "stderr"
        },
        {
          "output_type": "stream",
          "text": [
            "WARNING: AutoGraph could not transform <function wrap at 0x7f8d54389c20> and will run it as-is.\n",
            "Cause: while/else statement not yet supported\n",
            "To silence this warning, decorate the function with @tf.autograph.experimental.do_not_convert\n"
          ],
          "name": "stdout"
        },
        {
          "output_type": "stream",
          "text": [
            "WARNING:tensorflow:The parameter `return_dict` cannot be set in graph mode and will always be set to `True`.\n"
          ],
          "name": "stderr"
        },
        {
          "output_type": "stream",
          "text": [
            "Model: \"BERT_QA\"\n",
            "______________________________________________________________________________________________________________________________________________________\n",
            "Layer (type)                                     Output Shape                     Param #           Connected to                                      \n",
            "======================================================================================================================================================\n",
            "input_word_ids (InputLayer)                      [(None, 512)]                    0                                                                   \n",
            "______________________________________________________________________________________________________________________________________________________\n",
            "input_mask (InputLayer)                          [(None, 512)]                    0                                                                   \n",
            "______________________________________________________________________________________________________________________________________________________\n",
            "input_type_ids (InputLayer)                      [(None, 512)]                    0                                                                   \n",
            "______________________________________________________________________________________________________________________________________________________\n",
            "tf_roberta_model (TFRobertaModel)                TFBaseModelOutputWithPooling(las 124645632         input_word_ids[0][0]                              \n",
            "                                                                                                    input_mask[0][0]                                  \n",
            "                                                                                                    input_type_ids[0][0]                              \n",
            "______________________________________________________________________________________________________________________________________________________\n",
            "start_logit (Dense)                              (None, 512, 1)                   768               tf_roberta_model[0][12]                           \n",
            "______________________________________________________________________________________________________________________________________________________\n",
            "end_logit (Dense)                                (None, 512, 1)                   768               tf_roberta_model[0][12]                           \n",
            "______________________________________________________________________________________________________________________________________________________\n",
            "flatten_start (Flatten)                          (None, 512)                      0                 start_logit[0][0]                                 \n",
            "______________________________________________________________________________________________________________________________________________________\n",
            "flatten_end (Flatten)                            (None, 512)                      0                 end_logit[0][0]                                   \n",
            "______________________________________________________________________________________________________________________________________________________\n",
            "softmax_start (Activation)                       (None, 512)                      0                 flatten_start[0][0]                               \n",
            "______________________________________________________________________________________________________________________________________________________\n",
            "softmax_end (Activation)                         (None, 512)                      0                 flatten_end[0][0]                                 \n",
            "======================================================================================================================================================\n",
            "Total params: 124,647,168\n",
            "Trainable params: 124,647,168\n",
            "Non-trainable params: 0\n",
            "______________________________________________________________________________________________________________________________________________________\n",
            "--2021-03-12 18:44:38--  https://api.wandb.ai/files/buio/SQUAD/jkgwaatn/model-best.h5\n",
            "Resolving api.wandb.ai (api.wandb.ai)... 35.186.228.49\n",
            "Connecting to api.wandb.ai (api.wandb.ai)|35.186.228.49|:443... connected.\n",
            "HTTP request sent, awaiting response... 307 Temporary Redirect\n",
            "Location: https://storage.googleapis.com/wandb-production.appspot.com/buio/SQUAD/jkgwaatn/model-best.h5?Expires=1615574738&GoogleAccessId=wandb-production%40appspot.gserviceaccount.com&Signature=OJok65TlHUw8DLbCgTq%2BMmYIB0w3jbwBY1ZKxNHEqsnljatgzriicnrod4vFf3yaE8P1ssy2BkrwYqzBEdhVVMXLLI%2F1p%2BR6zdRbhNQS4m4M8NB0tPmHSlTLDBTAS9%2FAn7DksdN6zndAXR07Kb3%2FGMZNOU2LcASTQmi6t%2B4s5cr%2Fm%2B%2FNY8Lh6%2B1OCSJtGuqVdKhL%2FevZ9myUfvEkL0QvikhRsoA6sRBiiMxIGwH6iLKOiEga5QLqpSXlCtc8s%2FqYcVLqBVRyuqq8GdNNOIqg6UJP%2BaTxAAH2ar0dftcmqDppiuVapMHVOlUDAQknyxzwYNQp2rHJvJucW0geN8yNVw%3D%3D [following]\n",
            "--2021-03-12 18:44:38--  https://storage.googleapis.com/wandb-production.appspot.com/buio/SQUAD/jkgwaatn/model-best.h5?Expires=1615574738&GoogleAccessId=wandb-production%40appspot.gserviceaccount.com&Signature=OJok65TlHUw8DLbCgTq%2BMmYIB0w3jbwBY1ZKxNHEqsnljatgzriicnrod4vFf3yaE8P1ssy2BkrwYqzBEdhVVMXLLI%2F1p%2BR6zdRbhNQS4m4M8NB0tPmHSlTLDBTAS9%2FAn7DksdN6zndAXR07Kb3%2FGMZNOU2LcASTQmi6t%2B4s5cr%2Fm%2B%2FNY8Lh6%2B1OCSJtGuqVdKhL%2FevZ9myUfvEkL0QvikhRsoA6sRBiiMxIGwH6iLKOiEga5QLqpSXlCtc8s%2FqYcVLqBVRyuqq8GdNNOIqg6UJP%2BaTxAAH2ar0dftcmqDppiuVapMHVOlUDAQknyxzwYNQp2rHJvJucW0geN8yNVw%3D%3D\n",
            "Resolving storage.googleapis.com (storage.googleapis.com)... 108.177.111.128, 142.251.6.128, 74.125.126.128, ...\n",
            "Connecting to storage.googleapis.com (storage.googleapis.com)|108.177.111.128|:443... connected.\n",
            "HTTP request sent, awaiting response... 200 OK\n",
            "Length: 498862712 (476M) [application/keras]\n",
            "Saving to: ‘model-best.h5.3’\n",
            "\n",
            "model-best.h5.3     100%[===================>] 475.75M   207MB/s    in 2.3s    \n",
            "\n",
            "2021-03-12 18:44:40 (207 MB/s) - ‘model-best.h5.3’ saved [498862712/498862712]\n",
            "\n"
          ],
          "name": "stdout"
        }
      ]
    },
    {
      "cell_type": "code",
      "metadata": {
        "id": "E5H5JxL0ePOH"
      },
      "source": [
        "#@title transformer input preparation { form-width: \"25%\" }\r\n",
        "\r\n",
        "import nltk.data\r\n",
        "\r\n",
        "from  transformers import AutoTokenizer\r\n",
        "\r\n",
        "vocab_file = bert_layer.resolved_object.vocab_file.asset_path.numpy().decode(\"utf-8\")\r\n",
        "\r\n",
        "tokenizer = AutoTokenizer.from_pretrained(pretrained_model_str)\r\n",
        "max_seq_length = 512\r\n",
        "\r\n",
        "def preprocess_bert(text):\r\n",
        "    tokenized_text = tokenizer(text, return_offsets_mapping=True)\r\n",
        "\r\n",
        "    rows_out = tokenized_text.input_ids\r\n",
        "\r\n",
        "    return rows_out\r\n",
        "\r\n",
        "def custom_inference(context, question):\r\n",
        "    tokenizer_nltk = nltk.data.load('tokenizers/punkt/english.pickle')  # sentence tokenizer\r\n",
        "    context_sentences = tokenizer_nltk.tokenize(context)\r\n",
        "    preprocessed_context = [\" \".join(str(line).split()) for line in context_sentences]\r\n",
        "    preprocessed_question = \" \".join(str(question).split())\r\n",
        "    tokenized_question = preprocess_bert(preprocessed_question)\r\n",
        "    tokenized_sentences = [preprocess_bert(preprocessed_line) for preprocessed_line in preprocessed_context]\r\n",
        "    sentence_index = 0\r\n",
        "    tokenized_passages = []\r\n",
        "\r\n",
        "    while sentence_index < len(tokenized_sentences):\r\n",
        "        start = sentence_index\r\n",
        "        len_count = len(tokenized_question)\r\n",
        "        while len_count <= 512 and sentence_index < len(tokenized_sentences):\r\n",
        "            len_count += len(tokenized_sentences[sentence_index])\r\n",
        "            sentence_index += 1\r\n",
        "        end = sentence_index -1\r\n",
        "        tokenized_passages.append(preprocess_bert(\" \".join(preprocessed_context[start:end])))\r\n",
        "\r\n",
        "    prob = []\r\n",
        "    candidate_ans = []\r\n",
        "    for tokenized_passage in tokenized_passages:\r\n",
        "        input_ids = tokenized_passage + tokenized_question[1:]\r\n",
        "        token_type_ids = [0] * len(tokenized_passage) + [1] * len(tokenized_question[1:])\r\n",
        "        attention_mask = [1] * len(input_ids)\r\n",
        "        padding_length = max_seq_length - len(input_ids)\r\n",
        "        if padding_length > 0:\r\n",
        "            input_ids = input_ids + ([0] * padding_length)\r\n",
        "            attention_mask = attention_mask + ([0] * padding_length)\r\n",
        "            token_type_ids = token_type_ids + ([0] * padding_length)\r\n",
        "        input_word_ids = np.array(input_ids)\r\n",
        "        input_mask = np.array(attention_mask)\r\n",
        "        input_type_ids = np.array(token_type_ids)\r\n",
        "        predictions = model.predict([np.expand_dims(input_word_ids, axis =0), \r\n",
        "                                    np.expand_dims(input_mask, axis = 0), \r\n",
        "                                    np.expand_dims(input_type_ids,axis=0)])\r\n",
        "        start, end = list(np.argmax(predictions, axis=-1).squeeze())\r\n",
        "        if start > end:\r\n",
        "            continue \r\n",
        "        else:\r\n",
        "            prob_start,prob_end = list(np.max(predictions, axis=-1).squeeze())\r\n",
        "            prob_sum = prob_start+prob_end\r\n",
        "            predicted_ans = tokenizer.decode(tokenized_passage[start : end+1])\r\n",
        "            if predicted_ans != '' and predicted_ans != \"<s>\":\r\n",
        "                candidate_ans.append(predicted_ans)\r\n",
        "                prob.append(prob_sum)\r\n",
        "\r\n",
        "    print(*zip(prob, candidate_ans), sep='\\n')  \r\n",
        "    try:     \r\n",
        "        ans = candidate_ans[np.argmax(prob)]\r\n",
        "    except:\r\n",
        "        ans = \"I'm really sorry, I wasn't able to find an answer :(\"\r\n",
        "    return ans"
      ],
      "execution_count": null,
      "outputs": []
    },
    {
      "cell_type": "code",
      "metadata": {
        "colab": {
          "base_uri": "https://localhost:8080/"
        },
        "id": "MCySwiPOkWIu",
        "outputId": "6e4069d2-35e0-4810-8da1-b28bca8c6106"
      },
      "source": [
        "#@title custom inference { form-width: \"25%\" }\r\n",
        "\r\n",
        "questions = [\"Who is the first bride of Tom Cruise?\", \"When was Tom Cruise born?\", \"What is Mission Impossible?\", \"What does Tom Cruise believe in?\", \"What is the genre of Mission Impossible?\", \"Who is the villain in Mission impossible 3?\", \"Who is the villain in Mission impossible ghost protocol?\" \"What is Tom Cruise character's name in Mission Impossible III?\", \"What is Vanilla Sky?\", \"Who directed Mission Impossible?\"]\r\n",
        "question = questions[0]\r\n",
        "question_vectorized = vectorizer.transform([question])\r\n",
        "result = cosine_similarity(question_vectorized,passages_vectorized)\r\n",
        "index = np.argmax(result[0])\r\n",
        "print(\"TF-IDF result:\")\r\n",
        "print(question, end = \" ---> \")\r\n",
        "print(titles[index])\r\n",
        "context = pages_text[titles[index]]\r\n",
        "predicted_ans = custom_inference(context,question)\r\n",
        "print()\r\n",
        "print(\"BERT answer:\")\r\n",
        "print(predicted_ans)"
      ],
      "execution_count": null,
      "outputs": [
        {
          "output_type": "stream",
          "text": [
            "TF-IDF result:\n",
            "Who is the first bride of Tom Cruise? ---> Tom Cruise\n",
            "WARNING:tensorflow:The parameters `output_attentions`, `output_hidden_states` and `use_cache` cannot be updated when calling a model.They have to be set to True/False in the config object (i.e.: `config=XConfig.from_pretrained('name', output_attentions=True)`).\n"
          ],
          "name": "stdout"
        },
        {
          "output_type": "stream",
          "text": [
            "WARNING:tensorflow:The parameters `output_attentions`, `output_hidden_states` and `use_cache` cannot be updated when calling a model.They have to be set to True/False in the config object (i.e.: `config=XConfig.from_pretrained('name', output_attentions=True)`).\n"
          ],
          "name": "stderr"
        },
        {
          "output_type": "stream",
          "text": [
            "WARNING:tensorflow:The parameter `return_dict` cannot be set in graph mode and will always be set to `True`.\n"
          ],
          "name": "stdout"
        },
        {
          "output_type": "stream",
          "text": [
            "WARNING:tensorflow:The parameter `return_dict` cannot be set in graph mode and will always be set to `True`.\n"
          ],
          "name": "stderr"
        },
        {
          "output_type": "stream",
          "text": [
            "(1.5755904, ' Mimi Rogers')\n",
            "(1.9074783, ' Jack South')\n",
            "(1.8383498, ' Nicole Kidman')\n",
            "(1.4113784, ' Julian Sands')\n",
            "(1.4067633, ' Cameron Diaz')\n",
            "(1.7063069, ' Kathryn Bigelow')\n",
            "(1.9589767, ' Mimi Rogers')\n",
            "(1.3722897, ' Katie Holmes')\n",
            "(1.9474514, ' Mimi Rogers')\n",
            "(1.8999519, ' Kidman')\n",
            "\n",
            "BERT answer:\n",
            " Mimi Rogers\n"
          ],
          "name": "stdout"
        }
      ]
    }
  ]
}