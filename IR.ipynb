{
  "nbformat": 4,
  "nbformat_minor": 0,
  "metadata": {
    "accelerator": "GPU",
    "colab": {
      "name": "IR.ipynb",
      "provenance": [],
      "collapsed_sections": [],
      "toc_visible": true,
      "machine_shape": "hm",
      "include_colab_link": true
    },
    "kernelspec": {
      "display_name": "Python 3",
      "name": "python3"
    },
    "widgets": {
      "application/vnd.jupyter.widget-state+json": {
        "9a701e37e71f4f62b4748555e853eb0b": {
          "model_module": "@jupyter-widgets/controls",
          "model_name": "HBoxModel",
          "state": {
            "_view_name": "HBoxView",
            "_dom_classes": [],
            "_model_name": "HBoxModel",
            "_view_module": "@jupyter-widgets/controls",
            "_model_module_version": "1.5.0",
            "_view_count": null,
            "_view_module_version": "1.5.0",
            "box_style": "",
            "layout": "IPY_MODEL_7209572657794582a6640c4d896e197a",
            "_model_module": "@jupyter-widgets/controls",
            "children": [
              "IPY_MODEL_b61ea515253f4d6cbdfb2f1bccc1647a",
              "IPY_MODEL_bc9d3709780d4a7a8f362b6d7d9ecbed"
            ]
          }
        },
        "7209572657794582a6640c4d896e197a": {
          "model_module": "@jupyter-widgets/base",
          "model_name": "LayoutModel",
          "state": {
            "_view_name": "LayoutView",
            "grid_template_rows": null,
            "right": null,
            "justify_content": null,
            "_view_module": "@jupyter-widgets/base",
            "overflow": null,
            "_model_module_version": "1.2.0",
            "_view_count": null,
            "flex_flow": null,
            "width": null,
            "min_width": null,
            "border": null,
            "align_items": null,
            "bottom": null,
            "_model_module": "@jupyter-widgets/base",
            "top": null,
            "grid_column": null,
            "overflow_y": null,
            "overflow_x": null,
            "grid_auto_flow": null,
            "grid_area": null,
            "grid_template_columns": null,
            "flex": null,
            "_model_name": "LayoutModel",
            "justify_items": null,
            "grid_row": null,
            "max_height": null,
            "align_content": null,
            "visibility": null,
            "align_self": null,
            "height": null,
            "min_height": null,
            "padding": null,
            "grid_auto_rows": null,
            "grid_gap": null,
            "max_width": null,
            "order": null,
            "_view_module_version": "1.2.0",
            "grid_template_areas": null,
            "object_position": null,
            "object_fit": null,
            "grid_auto_columns": null,
            "margin": null,
            "display": null,
            "left": null
          }
        },
        "b61ea515253f4d6cbdfb2f1bccc1647a": {
          "model_module": "@jupyter-widgets/controls",
          "model_name": "FloatProgressModel",
          "state": {
            "_view_name": "ProgressView",
            "style": "IPY_MODEL_031de22da7cb4208bd67773cb88d8312",
            "_dom_classes": [],
            "description": "Downloading: 100%",
            "_model_name": "FloatProgressModel",
            "bar_style": "success",
            "max": 466,
            "_view_module": "@jupyter-widgets/controls",
            "_model_module_version": "1.5.0",
            "value": 466,
            "_view_count": null,
            "_view_module_version": "1.5.0",
            "orientation": "horizontal",
            "min": 0,
            "description_tooltip": null,
            "_model_module": "@jupyter-widgets/controls",
            "layout": "IPY_MODEL_1e170e32827847ea9e459a9bf69de3f2"
          }
        },
        "bc9d3709780d4a7a8f362b6d7d9ecbed": {
          "model_module": "@jupyter-widgets/controls",
          "model_name": "HTMLModel",
          "state": {
            "_view_name": "HTMLView",
            "style": "IPY_MODEL_92e6465178594e9f89359254bedc644b",
            "_dom_classes": [],
            "description": "",
            "_model_name": "HTMLModel",
            "placeholder": "​",
            "_view_module": "@jupyter-widgets/controls",
            "_model_module_version": "1.5.0",
            "value": " 466/466 [00:02&lt;00:00, 212B/s]",
            "_view_count": null,
            "_view_module_version": "1.5.0",
            "description_tooltip": null,
            "_model_module": "@jupyter-widgets/controls",
            "layout": "IPY_MODEL_d717a7432a9d4631ac559ab6d8579fe1"
          }
        },
        "031de22da7cb4208bd67773cb88d8312": {
          "model_module": "@jupyter-widgets/controls",
          "model_name": "ProgressStyleModel",
          "state": {
            "_view_name": "StyleView",
            "_model_name": "ProgressStyleModel",
            "description_width": "initial",
            "_view_module": "@jupyter-widgets/base",
            "_model_module_version": "1.5.0",
            "_view_count": null,
            "_view_module_version": "1.2.0",
            "bar_color": null,
            "_model_module": "@jupyter-widgets/controls"
          }
        },
        "1e170e32827847ea9e459a9bf69de3f2": {
          "model_module": "@jupyter-widgets/base",
          "model_name": "LayoutModel",
          "state": {
            "_view_name": "LayoutView",
            "grid_template_rows": null,
            "right": null,
            "justify_content": null,
            "_view_module": "@jupyter-widgets/base",
            "overflow": null,
            "_model_module_version": "1.2.0",
            "_view_count": null,
            "flex_flow": null,
            "width": null,
            "min_width": null,
            "border": null,
            "align_items": null,
            "bottom": null,
            "_model_module": "@jupyter-widgets/base",
            "top": null,
            "grid_column": null,
            "overflow_y": null,
            "overflow_x": null,
            "grid_auto_flow": null,
            "grid_area": null,
            "grid_template_columns": null,
            "flex": null,
            "_model_name": "LayoutModel",
            "justify_items": null,
            "grid_row": null,
            "max_height": null,
            "align_content": null,
            "visibility": null,
            "align_self": null,
            "height": null,
            "min_height": null,
            "padding": null,
            "grid_auto_rows": null,
            "grid_gap": null,
            "max_width": null,
            "order": null,
            "_view_module_version": "1.2.0",
            "grid_template_areas": null,
            "object_position": null,
            "object_fit": null,
            "grid_auto_columns": null,
            "margin": null,
            "display": null,
            "left": null
          }
        },
        "92e6465178594e9f89359254bedc644b": {
          "model_module": "@jupyter-widgets/controls",
          "model_name": "DescriptionStyleModel",
          "state": {
            "_view_name": "StyleView",
            "_model_name": "DescriptionStyleModel",
            "description_width": "",
            "_view_module": "@jupyter-widgets/base",
            "_model_module_version": "1.5.0",
            "_view_count": null,
            "_view_module_version": "1.2.0",
            "_model_module": "@jupyter-widgets/controls"
          }
        },
        "d717a7432a9d4631ac559ab6d8579fe1": {
          "model_module": "@jupyter-widgets/base",
          "model_name": "LayoutModel",
          "state": {
            "_view_name": "LayoutView",
            "grid_template_rows": null,
            "right": null,
            "justify_content": null,
            "_view_module": "@jupyter-widgets/base",
            "overflow": null,
            "_model_module_version": "1.2.0",
            "_view_count": null,
            "flex_flow": null,
            "width": null,
            "min_width": null,
            "border": null,
            "align_items": null,
            "bottom": null,
            "_model_module": "@jupyter-widgets/base",
            "top": null,
            "grid_column": null,
            "overflow_y": null,
            "overflow_x": null,
            "grid_auto_flow": null,
            "grid_area": null,
            "grid_template_columns": null,
            "flex": null,
            "_model_name": "LayoutModel",
            "justify_items": null,
            "grid_row": null,
            "max_height": null,
            "align_content": null,
            "visibility": null,
            "align_self": null,
            "height": null,
            "min_height": null,
            "padding": null,
            "grid_auto_rows": null,
            "grid_gap": null,
            "max_width": null,
            "order": null,
            "_view_module_version": "1.2.0",
            "grid_template_areas": null,
            "object_position": null,
            "object_fit": null,
            "grid_auto_columns": null,
            "margin": null,
            "display": null,
            "left": null
          }
        },
        "fadce891e24c4f58ba9af3dca3faeae2": {
          "model_module": "@jupyter-widgets/controls",
          "model_name": "HBoxModel",
          "state": {
            "_view_name": "HBoxView",
            "_dom_classes": [],
            "_model_name": "HBoxModel",
            "_view_module": "@jupyter-widgets/controls",
            "_model_module_version": "1.5.0",
            "_view_count": null,
            "_view_module_version": "1.5.0",
            "box_style": "",
            "layout": "IPY_MODEL_f669678432514d81be7bbef92c7e05a2",
            "_model_module": "@jupyter-widgets/controls",
            "children": [
              "IPY_MODEL_1632f95547be42199247c456ae6e1166",
              "IPY_MODEL_f7e3356888a2416e8755068cb543b97f"
            ]
          }
        },
        "f669678432514d81be7bbef92c7e05a2": {
          "model_module": "@jupyter-widgets/base",
          "model_name": "LayoutModel",
          "state": {
            "_view_name": "LayoutView",
            "grid_template_rows": null,
            "right": null,
            "justify_content": null,
            "_view_module": "@jupyter-widgets/base",
            "overflow": null,
            "_model_module_version": "1.2.0",
            "_view_count": null,
            "flex_flow": null,
            "width": null,
            "min_width": null,
            "border": null,
            "align_items": null,
            "bottom": null,
            "_model_module": "@jupyter-widgets/base",
            "top": null,
            "grid_column": null,
            "overflow_y": null,
            "overflow_x": null,
            "grid_auto_flow": null,
            "grid_area": null,
            "grid_template_columns": null,
            "flex": null,
            "_model_name": "LayoutModel",
            "justify_items": null,
            "grid_row": null,
            "max_height": null,
            "align_content": null,
            "visibility": null,
            "align_self": null,
            "height": null,
            "min_height": null,
            "padding": null,
            "grid_auto_rows": null,
            "grid_gap": null,
            "max_width": null,
            "order": null,
            "_view_module_version": "1.2.0",
            "grid_template_areas": null,
            "object_position": null,
            "object_fit": null,
            "grid_auto_columns": null,
            "margin": null,
            "display": null,
            "left": null
          }
        },
        "1632f95547be42199247c456ae6e1166": {
          "model_module": "@jupyter-widgets/controls",
          "model_name": "FloatProgressModel",
          "state": {
            "_view_name": "ProgressView",
            "style": "IPY_MODEL_90d262a0148c484c9727e516be08d439",
            "_dom_classes": [],
            "description": "Downloading: 100%",
            "_model_name": "FloatProgressModel",
            "bar_style": "success",
            "max": 54466044,
            "_view_module": "@jupyter-widgets/controls",
            "_model_module_version": "1.5.0",
            "value": 54466044,
            "_view_count": null,
            "_view_module_version": "1.5.0",
            "orientation": "horizontal",
            "min": 0,
            "description_tooltip": null,
            "_model_module": "@jupyter-widgets/controls",
            "layout": "IPY_MODEL_75e5cac0504246d7ad4fa376c7414ae8"
          }
        },
        "f7e3356888a2416e8755068cb543b97f": {
          "model_module": "@jupyter-widgets/controls",
          "model_name": "HTMLModel",
          "state": {
            "_view_name": "HTMLView",
            "style": "IPY_MODEL_050f11326cd24f09bf78e20aeff261d3",
            "_dom_classes": [],
            "description": "",
            "_model_name": "HTMLModel",
            "placeholder": "​",
            "_view_module": "@jupyter-widgets/controls",
            "_model_module_version": "1.5.0",
            "value": " 54.5M/54.5M [00:01&lt;00:00, 42.6MB/s]",
            "_view_count": null,
            "_view_module_version": "1.5.0",
            "description_tooltip": null,
            "_model_module": "@jupyter-widgets/controls",
            "layout": "IPY_MODEL_bb05b05cc911461fbc8679ab43fd23e8"
          }
        },
        "90d262a0148c484c9727e516be08d439": {
          "model_module": "@jupyter-widgets/controls",
          "model_name": "ProgressStyleModel",
          "state": {
            "_view_name": "StyleView",
            "_model_name": "ProgressStyleModel",
            "description_width": "initial",
            "_view_module": "@jupyter-widgets/base",
            "_model_module_version": "1.5.0",
            "_view_count": null,
            "_view_module_version": "1.2.0",
            "bar_color": null,
            "_model_module": "@jupyter-widgets/controls"
          }
        },
        "75e5cac0504246d7ad4fa376c7414ae8": {
          "model_module": "@jupyter-widgets/base",
          "model_name": "LayoutModel",
          "state": {
            "_view_name": "LayoutView",
            "grid_template_rows": null,
            "right": null,
            "justify_content": null,
            "_view_module": "@jupyter-widgets/base",
            "overflow": null,
            "_model_module_version": "1.2.0",
            "_view_count": null,
            "flex_flow": null,
            "width": null,
            "min_width": null,
            "border": null,
            "align_items": null,
            "bottom": null,
            "_model_module": "@jupyter-widgets/base",
            "top": null,
            "grid_column": null,
            "overflow_y": null,
            "overflow_x": null,
            "grid_auto_flow": null,
            "grid_area": null,
            "grid_template_columns": null,
            "flex": null,
            "_model_name": "LayoutModel",
            "justify_items": null,
            "grid_row": null,
            "max_height": null,
            "align_content": null,
            "visibility": null,
            "align_self": null,
            "height": null,
            "min_height": null,
            "padding": null,
            "grid_auto_rows": null,
            "grid_gap": null,
            "max_width": null,
            "order": null,
            "_view_module_version": "1.2.0",
            "grid_template_areas": null,
            "object_position": null,
            "object_fit": null,
            "grid_auto_columns": null,
            "margin": null,
            "display": null,
            "left": null
          }
        },
        "050f11326cd24f09bf78e20aeff261d3": {
          "model_module": "@jupyter-widgets/controls",
          "model_name": "DescriptionStyleModel",
          "state": {
            "_view_name": "StyleView",
            "_model_name": "DescriptionStyleModel",
            "description_width": "",
            "_view_module": "@jupyter-widgets/base",
            "_model_module_version": "1.5.0",
            "_view_count": null,
            "_view_module_version": "1.2.0",
            "_model_module": "@jupyter-widgets/controls"
          }
        },
        "bb05b05cc911461fbc8679ab43fd23e8": {
          "model_module": "@jupyter-widgets/base",
          "model_name": "LayoutModel",
          "state": {
            "_view_name": "LayoutView",
            "grid_template_rows": null,
            "right": null,
            "justify_content": null,
            "_view_module": "@jupyter-widgets/base",
            "overflow": null,
            "_model_module_version": "1.2.0",
            "_view_count": null,
            "flex_flow": null,
            "width": null,
            "min_width": null,
            "border": null,
            "align_items": null,
            "bottom": null,
            "_model_module": "@jupyter-widgets/base",
            "top": null,
            "grid_column": null,
            "overflow_y": null,
            "overflow_x": null,
            "grid_auto_flow": null,
            "grid_area": null,
            "grid_template_columns": null,
            "flex": null,
            "_model_name": "LayoutModel",
            "justify_items": null,
            "grid_row": null,
            "max_height": null,
            "align_content": null,
            "visibility": null,
            "align_self": null,
            "height": null,
            "min_height": null,
            "padding": null,
            "grid_auto_rows": null,
            "grid_gap": null,
            "max_width": null,
            "order": null,
            "_view_module_version": "1.2.0",
            "grid_template_areas": null,
            "object_position": null,
            "object_fit": null,
            "grid_auto_columns": null,
            "margin": null,
            "display": null,
            "left": null
          }
        },
        "d63d5af444b34cdfbefb947e002de2a0": {
          "model_module": "@jupyter-widgets/controls",
          "model_name": "HBoxModel",
          "state": {
            "_view_name": "HBoxView",
            "_dom_classes": [],
            "_model_name": "HBoxModel",
            "_view_module": "@jupyter-widgets/controls",
            "_model_module_version": "1.5.0",
            "_view_count": null,
            "_view_module_version": "1.5.0",
            "box_style": "",
            "layout": "IPY_MODEL_4b00a424e33344dcb96a66d6c2bdf68e",
            "_model_module": "@jupyter-widgets/controls",
            "children": [
              "IPY_MODEL_c09ebda6e941428498bd2eb36be54866",
              "IPY_MODEL_a5c52faa49c443f9badf034834dd004e"
            ]
          }
        },
        "4b00a424e33344dcb96a66d6c2bdf68e": {
          "model_module": "@jupyter-widgets/base",
          "model_name": "LayoutModel",
          "state": {
            "_view_name": "LayoutView",
            "grid_template_rows": null,
            "right": null,
            "justify_content": null,
            "_view_module": "@jupyter-widgets/base",
            "overflow": null,
            "_model_module_version": "1.2.0",
            "_view_count": null,
            "flex_flow": null,
            "width": null,
            "min_width": null,
            "border": null,
            "align_items": null,
            "bottom": null,
            "_model_module": "@jupyter-widgets/base",
            "top": null,
            "grid_column": null,
            "overflow_y": null,
            "overflow_x": null,
            "grid_auto_flow": null,
            "grid_area": null,
            "grid_template_columns": null,
            "flex": null,
            "_model_name": "LayoutModel",
            "justify_items": null,
            "grid_row": null,
            "max_height": null,
            "align_content": null,
            "visibility": null,
            "align_self": null,
            "height": null,
            "min_height": null,
            "padding": null,
            "grid_auto_rows": null,
            "grid_gap": null,
            "max_width": null,
            "order": null,
            "_view_module_version": "1.2.0",
            "grid_template_areas": null,
            "object_position": null,
            "object_fit": null,
            "grid_auto_columns": null,
            "margin": null,
            "display": null,
            "left": null
          }
        },
        "c09ebda6e941428498bd2eb36be54866": {
          "model_module": "@jupyter-widgets/controls",
          "model_name": "FloatProgressModel",
          "state": {
            "_view_name": "ProgressView",
            "style": "IPY_MODEL_79dc92455df1449a9c678d31a10fa4ba",
            "_dom_classes": [],
            "description": "Downloading: 100%",
            "_model_name": "FloatProgressModel",
            "bar_style": "success",
            "max": 231508,
            "_view_module": "@jupyter-widgets/controls",
            "_model_module_version": "1.5.0",
            "value": 231508,
            "_view_count": null,
            "_view_module_version": "1.5.0",
            "orientation": "horizontal",
            "min": 0,
            "description_tooltip": null,
            "_model_module": "@jupyter-widgets/controls",
            "layout": "IPY_MODEL_f01750cdb43740b89977a595842a3555"
          }
        },
        "a5c52faa49c443f9badf034834dd004e": {
          "model_module": "@jupyter-widgets/controls",
          "model_name": "HTMLModel",
          "state": {
            "_view_name": "HTMLView",
            "style": "IPY_MODEL_30cd54d6509e41079a965df86003538f",
            "_dom_classes": [],
            "description": "",
            "_model_name": "HTMLModel",
            "placeholder": "​",
            "_view_module": "@jupyter-widgets/controls",
            "_model_module_version": "1.5.0",
            "value": " 232k/232k [00:01&lt;00:00, 141kB/s]",
            "_view_count": null,
            "_view_module_version": "1.5.0",
            "description_tooltip": null,
            "_model_module": "@jupyter-widgets/controls",
            "layout": "IPY_MODEL_31efccad0b2e4a1a970e39455a470432"
          }
        },
        "79dc92455df1449a9c678d31a10fa4ba": {
          "model_module": "@jupyter-widgets/controls",
          "model_name": "ProgressStyleModel",
          "state": {
            "_view_name": "StyleView",
            "_model_name": "ProgressStyleModel",
            "description_width": "initial",
            "_view_module": "@jupyter-widgets/base",
            "_model_module_version": "1.5.0",
            "_view_count": null,
            "_view_module_version": "1.2.0",
            "bar_color": null,
            "_model_module": "@jupyter-widgets/controls"
          }
        },
        "f01750cdb43740b89977a595842a3555": {
          "model_module": "@jupyter-widgets/base",
          "model_name": "LayoutModel",
          "state": {
            "_view_name": "LayoutView",
            "grid_template_rows": null,
            "right": null,
            "justify_content": null,
            "_view_module": "@jupyter-widgets/base",
            "overflow": null,
            "_model_module_version": "1.2.0",
            "_view_count": null,
            "flex_flow": null,
            "width": null,
            "min_width": null,
            "border": null,
            "align_items": null,
            "bottom": null,
            "_model_module": "@jupyter-widgets/base",
            "top": null,
            "grid_column": null,
            "overflow_y": null,
            "overflow_x": null,
            "grid_auto_flow": null,
            "grid_area": null,
            "grid_template_columns": null,
            "flex": null,
            "_model_name": "LayoutModel",
            "justify_items": null,
            "grid_row": null,
            "max_height": null,
            "align_content": null,
            "visibility": null,
            "align_self": null,
            "height": null,
            "min_height": null,
            "padding": null,
            "grid_auto_rows": null,
            "grid_gap": null,
            "max_width": null,
            "order": null,
            "_view_module_version": "1.2.0",
            "grid_template_areas": null,
            "object_position": null,
            "object_fit": null,
            "grid_auto_columns": null,
            "margin": null,
            "display": null,
            "left": null
          }
        },
        "30cd54d6509e41079a965df86003538f": {
          "model_module": "@jupyter-widgets/controls",
          "model_name": "DescriptionStyleModel",
          "state": {
            "_view_name": "StyleView",
            "_model_name": "DescriptionStyleModel",
            "description_width": "",
            "_view_module": "@jupyter-widgets/base",
            "_model_module_version": "1.5.0",
            "_view_count": null,
            "_view_module_version": "1.2.0",
            "_model_module": "@jupyter-widgets/controls"
          }
        },
        "31efccad0b2e4a1a970e39455a470432": {
          "model_module": "@jupyter-widgets/base",
          "model_name": "LayoutModel",
          "state": {
            "_view_name": "LayoutView",
            "grid_template_rows": null,
            "right": null,
            "justify_content": null,
            "_view_module": "@jupyter-widgets/base",
            "overflow": null,
            "_model_module_version": "1.2.0",
            "_view_count": null,
            "flex_flow": null,
            "width": null,
            "min_width": null,
            "border": null,
            "align_items": null,
            "bottom": null,
            "_model_module": "@jupyter-widgets/base",
            "top": null,
            "grid_column": null,
            "overflow_y": null,
            "overflow_x": null,
            "grid_auto_flow": null,
            "grid_area": null,
            "grid_template_columns": null,
            "flex": null,
            "_model_name": "LayoutModel",
            "justify_items": null,
            "grid_row": null,
            "max_height": null,
            "align_content": null,
            "visibility": null,
            "align_self": null,
            "height": null,
            "min_height": null,
            "padding": null,
            "grid_auto_rows": null,
            "grid_gap": null,
            "max_width": null,
            "order": null,
            "_view_module_version": "1.2.0",
            "grid_template_areas": null,
            "object_position": null,
            "object_fit": null,
            "grid_auto_columns": null,
            "margin": null,
            "display": null,
            "left": null
          }
        },
        "e473332c94f841d6b767517b3ca2c2e3": {
          "model_module": "@jupyter-widgets/controls",
          "model_name": "HBoxModel",
          "state": {
            "_view_name": "HBoxView",
            "_dom_classes": [],
            "_model_name": "HBoxModel",
            "_view_module": "@jupyter-widgets/controls",
            "_model_module_version": "1.5.0",
            "_view_count": null,
            "_view_module_version": "1.5.0",
            "box_style": "",
            "layout": "IPY_MODEL_e8f9ed8a641a4bc0880fc6af24df0a3f",
            "_model_module": "@jupyter-widgets/controls",
            "children": [
              "IPY_MODEL_3b216e92128249f4962a2c418829df64",
              "IPY_MODEL_80690ca5c36c4072a95e5a35896d77cc"
            ]
          }
        },
        "e8f9ed8a641a4bc0880fc6af24df0a3f": {
          "model_module": "@jupyter-widgets/base",
          "model_name": "LayoutModel",
          "state": {
            "_view_name": "LayoutView",
            "grid_template_rows": null,
            "right": null,
            "justify_content": null,
            "_view_module": "@jupyter-widgets/base",
            "overflow": null,
            "_model_module_version": "1.2.0",
            "_view_count": null,
            "flex_flow": null,
            "width": null,
            "min_width": null,
            "border": null,
            "align_items": null,
            "bottom": null,
            "_model_module": "@jupyter-widgets/base",
            "top": null,
            "grid_column": null,
            "overflow_y": null,
            "overflow_x": null,
            "grid_auto_flow": null,
            "grid_area": null,
            "grid_template_columns": null,
            "flex": null,
            "_model_name": "LayoutModel",
            "justify_items": null,
            "grid_row": null,
            "max_height": null,
            "align_content": null,
            "visibility": null,
            "align_self": null,
            "height": null,
            "min_height": null,
            "padding": null,
            "grid_auto_rows": null,
            "grid_gap": null,
            "max_width": null,
            "order": null,
            "_view_module_version": "1.2.0",
            "grid_template_areas": null,
            "object_position": null,
            "object_fit": null,
            "grid_auto_columns": null,
            "margin": null,
            "display": null,
            "left": null
          }
        },
        "3b216e92128249f4962a2c418829df64": {
          "model_module": "@jupyter-widgets/controls",
          "model_name": "FloatProgressModel",
          "state": {
            "_view_name": "ProgressView",
            "style": "IPY_MODEL_ac1b4f3ff1304fe3933ed23ff7bad017",
            "_dom_classes": [],
            "description": "Downloading: 100%",
            "_model_name": "FloatProgressModel",
            "bar_style": "success",
            "max": 466062,
            "_view_module": "@jupyter-widgets/controls",
            "_model_module_version": "1.5.0",
            "value": 466062,
            "_view_count": null,
            "_view_module_version": "1.5.0",
            "orientation": "horizontal",
            "min": 0,
            "description_tooltip": null,
            "_model_module": "@jupyter-widgets/controls",
            "layout": "IPY_MODEL_29fc17726d6c49bdacd930e86712c29a"
          }
        },
        "80690ca5c36c4072a95e5a35896d77cc": {
          "model_module": "@jupyter-widgets/controls",
          "model_name": "HTMLModel",
          "state": {
            "_view_name": "HTMLView",
            "style": "IPY_MODEL_03e90704a48f45e794fa5b8e32021bba",
            "_dom_classes": [],
            "description": "",
            "_model_name": "HTMLModel",
            "placeholder": "​",
            "_view_module": "@jupyter-widgets/controls",
            "_model_module_version": "1.5.0",
            "value": " 466k/466k [00:00&lt;00:00, 491kB/s]",
            "_view_count": null,
            "_view_module_version": "1.5.0",
            "description_tooltip": null,
            "_model_module": "@jupyter-widgets/controls",
            "layout": "IPY_MODEL_756bb943731d4535a6998aabe18c4e33"
          }
        },
        "ac1b4f3ff1304fe3933ed23ff7bad017": {
          "model_module": "@jupyter-widgets/controls",
          "model_name": "ProgressStyleModel",
          "state": {
            "_view_name": "StyleView",
            "_model_name": "ProgressStyleModel",
            "description_width": "initial",
            "_view_module": "@jupyter-widgets/base",
            "_model_module_version": "1.5.0",
            "_view_count": null,
            "_view_module_version": "1.2.0",
            "bar_color": null,
            "_model_module": "@jupyter-widgets/controls"
          }
        },
        "29fc17726d6c49bdacd930e86712c29a": {
          "model_module": "@jupyter-widgets/base",
          "model_name": "LayoutModel",
          "state": {
            "_view_name": "LayoutView",
            "grid_template_rows": null,
            "right": null,
            "justify_content": null,
            "_view_module": "@jupyter-widgets/base",
            "overflow": null,
            "_model_module_version": "1.2.0",
            "_view_count": null,
            "flex_flow": null,
            "width": null,
            "min_width": null,
            "border": null,
            "align_items": null,
            "bottom": null,
            "_model_module": "@jupyter-widgets/base",
            "top": null,
            "grid_column": null,
            "overflow_y": null,
            "overflow_x": null,
            "grid_auto_flow": null,
            "grid_area": null,
            "grid_template_columns": null,
            "flex": null,
            "_model_name": "LayoutModel",
            "justify_items": null,
            "grid_row": null,
            "max_height": null,
            "align_content": null,
            "visibility": null,
            "align_self": null,
            "height": null,
            "min_height": null,
            "padding": null,
            "grid_auto_rows": null,
            "grid_gap": null,
            "max_width": null,
            "order": null,
            "_view_module_version": "1.2.0",
            "grid_template_areas": null,
            "object_position": null,
            "object_fit": null,
            "grid_auto_columns": null,
            "margin": null,
            "display": null,
            "left": null
          }
        },
        "03e90704a48f45e794fa5b8e32021bba": {
          "model_module": "@jupyter-widgets/controls",
          "model_name": "DescriptionStyleModel",
          "state": {
            "_view_name": "StyleView",
            "_model_name": "DescriptionStyleModel",
            "description_width": "",
            "_view_module": "@jupyter-widgets/base",
            "_model_module_version": "1.5.0",
            "_view_count": null,
            "_view_module_version": "1.2.0",
            "_model_module": "@jupyter-widgets/controls"
          }
        },
        "756bb943731d4535a6998aabe18c4e33": {
          "model_module": "@jupyter-widgets/base",
          "model_name": "LayoutModel",
          "state": {
            "_view_name": "LayoutView",
            "grid_template_rows": null,
            "right": null,
            "justify_content": null,
            "_view_module": "@jupyter-widgets/base",
            "overflow": null,
            "_model_module_version": "1.2.0",
            "_view_count": null,
            "flex_flow": null,
            "width": null,
            "min_width": null,
            "border": null,
            "align_items": null,
            "bottom": null,
            "_model_module": "@jupyter-widgets/base",
            "top": null,
            "grid_column": null,
            "overflow_y": null,
            "overflow_x": null,
            "grid_auto_flow": null,
            "grid_area": null,
            "grid_template_columns": null,
            "flex": null,
            "_model_name": "LayoutModel",
            "justify_items": null,
            "grid_row": null,
            "max_height": null,
            "align_content": null,
            "visibility": null,
            "align_self": null,
            "height": null,
            "min_height": null,
            "padding": null,
            "grid_auto_rows": null,
            "grid_gap": null,
            "max_width": null,
            "order": null,
            "_view_module_version": "1.2.0",
            "grid_template_areas": null,
            "object_position": null,
            "object_fit": null,
            "grid_auto_columns": null,
            "margin": null,
            "display": null,
            "left": null
          }
        },
        "6461c35a4b0d4e08b02c72c8c502b402": {
          "model_module": "@jupyter-widgets/controls",
          "model_name": "VBoxModel",
          "state": {
            "_view_name": "VBoxView",
            "_dom_classes": [],
            "_model_name": "VBoxModel",
            "_view_module": "@jupyter-widgets/controls",
            "_model_module_version": "1.5.0",
            "_view_count": null,
            "_view_module_version": "1.5.0",
            "box_style": "",
            "layout": "IPY_MODEL_42371baae114444797030bc7f7297d8b",
            "_model_module": "@jupyter-widgets/controls",
            "children": [
              "IPY_MODEL_35af17a49f334e36b67c6fb8fe8ad571",
              "IPY_MODEL_cdda17af9744459a8c325112d55b9761"
            ]
          }
        },
        "42371baae114444797030bc7f7297d8b": {
          "model_module": "@jupyter-widgets/base",
          "model_name": "LayoutModel",
          "state": {
            "_view_name": "LayoutView",
            "grid_template_rows": null,
            "right": null,
            "justify_content": null,
            "_view_module": "@jupyter-widgets/base",
            "overflow": null,
            "_model_module_version": "1.2.0",
            "_view_count": null,
            "flex_flow": null,
            "width": null,
            "min_width": null,
            "border": null,
            "align_items": null,
            "bottom": null,
            "_model_module": "@jupyter-widgets/base",
            "top": null,
            "grid_column": null,
            "overflow_y": null,
            "overflow_x": null,
            "grid_auto_flow": null,
            "grid_area": null,
            "grid_template_columns": null,
            "flex": null,
            "_model_name": "LayoutModel",
            "justify_items": null,
            "grid_row": null,
            "max_height": null,
            "align_content": null,
            "visibility": null,
            "align_self": null,
            "height": null,
            "min_height": null,
            "padding": null,
            "grid_auto_rows": null,
            "grid_gap": null,
            "max_width": null,
            "order": null,
            "_view_module_version": "1.2.0",
            "grid_template_areas": null,
            "object_position": null,
            "object_fit": null,
            "grid_auto_columns": null,
            "margin": null,
            "display": null,
            "left": null
          }
        },
        "35af17a49f334e36b67c6fb8fe8ad571": {
          "model_module": "@jupyter-widgets/controls",
          "model_name": "LabelModel",
          "state": {
            "_view_name": "LabelView",
            "style": "IPY_MODEL_ce2c6bac73ec4ffc99de5e29c62e7779",
            "_dom_classes": [],
            "description": "",
            "_model_name": "LabelModel",
            "placeholder": "​",
            "_view_module": "@jupyter-widgets/controls",
            "_model_module_version": "1.5.0",
            "value": " 52.24MB of 52.24MB uploaded (0.00MB deduped)\r",
            "_view_count": null,
            "_view_module_version": "1.5.0",
            "description_tooltip": null,
            "_model_module": "@jupyter-widgets/controls",
            "layout": "IPY_MODEL_6664650779eb48fab65f9c857678b4f0"
          }
        },
        "cdda17af9744459a8c325112d55b9761": {
          "model_module": "@jupyter-widgets/controls",
          "model_name": "FloatProgressModel",
          "state": {
            "_view_name": "ProgressView",
            "style": "IPY_MODEL_787758d2dd4d4a31b7a18a4df0cfdfd6",
            "_dom_classes": [],
            "description": "",
            "_model_name": "FloatProgressModel",
            "bar_style": "",
            "max": 1,
            "_view_module": "@jupyter-widgets/controls",
            "_model_module_version": "1.5.0",
            "value": 1,
            "_view_count": null,
            "_view_module_version": "1.5.0",
            "orientation": "horizontal",
            "min": 0,
            "description_tooltip": null,
            "_model_module": "@jupyter-widgets/controls",
            "layout": "IPY_MODEL_3d2a465b1a774d35ae2da012dfd196c3"
          }
        },
        "ce2c6bac73ec4ffc99de5e29c62e7779": {
          "model_module": "@jupyter-widgets/controls",
          "model_name": "DescriptionStyleModel",
          "state": {
            "_view_name": "StyleView",
            "_model_name": "DescriptionStyleModel",
            "description_width": "",
            "_view_module": "@jupyter-widgets/base",
            "_model_module_version": "1.5.0",
            "_view_count": null,
            "_view_module_version": "1.2.0",
            "_model_module": "@jupyter-widgets/controls"
          }
        },
        "6664650779eb48fab65f9c857678b4f0": {
          "model_module": "@jupyter-widgets/base",
          "model_name": "LayoutModel",
          "state": {
            "_view_name": "LayoutView",
            "grid_template_rows": null,
            "right": null,
            "justify_content": null,
            "_view_module": "@jupyter-widgets/base",
            "overflow": null,
            "_model_module_version": "1.2.0",
            "_view_count": null,
            "flex_flow": null,
            "width": null,
            "min_width": null,
            "border": null,
            "align_items": null,
            "bottom": null,
            "_model_module": "@jupyter-widgets/base",
            "top": null,
            "grid_column": null,
            "overflow_y": null,
            "overflow_x": null,
            "grid_auto_flow": null,
            "grid_area": null,
            "grid_template_columns": null,
            "flex": null,
            "_model_name": "LayoutModel",
            "justify_items": null,
            "grid_row": null,
            "max_height": null,
            "align_content": null,
            "visibility": null,
            "align_self": null,
            "height": null,
            "min_height": null,
            "padding": null,
            "grid_auto_rows": null,
            "grid_gap": null,
            "max_width": null,
            "order": null,
            "_view_module_version": "1.2.0",
            "grid_template_areas": null,
            "object_position": null,
            "object_fit": null,
            "grid_auto_columns": null,
            "margin": null,
            "display": null,
            "left": null
          }
        },
        "787758d2dd4d4a31b7a18a4df0cfdfd6": {
          "model_module": "@jupyter-widgets/controls",
          "model_name": "ProgressStyleModel",
          "state": {
            "_view_name": "StyleView",
            "_model_name": "ProgressStyleModel",
            "description_width": "",
            "_view_module": "@jupyter-widgets/base",
            "_model_module_version": "1.5.0",
            "_view_count": null,
            "_view_module_version": "1.2.0",
            "bar_color": null,
            "_model_module": "@jupyter-widgets/controls"
          }
        },
        "3d2a465b1a774d35ae2da012dfd196c3": {
          "model_module": "@jupyter-widgets/base",
          "model_name": "LayoutModel",
          "state": {
            "_view_name": "LayoutView",
            "grid_template_rows": null,
            "right": null,
            "justify_content": null,
            "_view_module": "@jupyter-widgets/base",
            "overflow": null,
            "_model_module_version": "1.2.0",
            "_view_count": null,
            "flex_flow": null,
            "width": null,
            "min_width": null,
            "border": null,
            "align_items": null,
            "bottom": null,
            "_model_module": "@jupyter-widgets/base",
            "top": null,
            "grid_column": null,
            "overflow_y": null,
            "overflow_x": null,
            "grid_auto_flow": null,
            "grid_area": null,
            "grid_template_columns": null,
            "flex": null,
            "_model_name": "LayoutModel",
            "justify_items": null,
            "grid_row": null,
            "max_height": null,
            "align_content": null,
            "visibility": null,
            "align_self": null,
            "height": null,
            "min_height": null,
            "padding": null,
            "grid_auto_rows": null,
            "grid_gap": null,
            "max_width": null,
            "order": null,
            "_view_module_version": "1.2.0",
            "grid_template_areas": null,
            "object_position": null,
            "object_fit": null,
            "grid_auto_columns": null,
            "margin": null,
            "display": null,
            "left": null
          }
        }
      }
    }
  },
  "cells": [
    {
      "cell_type": "markdown",
      "metadata": {
        "id": "view-in-github",
        "colab_type": "text"
      },
      "source": [
        "<a href=\"https://colab.research.google.com/github/the-SQuAD-squad/IR/blob/electra/IR.ipynb\" target=\"_parent\"><img src=\"https://colab.research.google.com/assets/colab-badge.svg\" alt=\"Open In Colab\"/></a>"
      ]
    },
    {
      "cell_type": "markdown",
      "metadata": {
        "id": "7ADKyT7Kdi30"
      },
      "source": [
        "# NLP Poject\r\n",
        "## Information Retrieval on SQuAD\r\n",
        "\r\n",
        "Verì, Rambaldi, Serfilippi, Buiani"
      ]
    },
    {
      "cell_type": "code",
      "metadata": {
        "colab": {
          "base_uri": "https://localhost:8080/",
          "height": 438,
          "referenced_widgets": [
            "9a701e37e71f4f62b4748555e853eb0b",
            "7209572657794582a6640c4d896e197a",
            "b61ea515253f4d6cbdfb2f1bccc1647a",
            "bc9d3709780d4a7a8f362b6d7d9ecbed",
            "031de22da7cb4208bd67773cb88d8312",
            "1e170e32827847ea9e459a9bf69de3f2",
            "92e6465178594e9f89359254bedc644b",
            "d717a7432a9d4631ac559ab6d8579fe1",
            "fadce891e24c4f58ba9af3dca3faeae2",
            "f669678432514d81be7bbef92c7e05a2",
            "1632f95547be42199247c456ae6e1166",
            "f7e3356888a2416e8755068cb543b97f",
            "90d262a0148c484c9727e516be08d439",
            "75e5cac0504246d7ad4fa376c7414ae8",
            "050f11326cd24f09bf78e20aeff261d3",
            "bb05b05cc911461fbc8679ab43fd23e8",
            "d63d5af444b34cdfbefb947e002de2a0",
            "4b00a424e33344dcb96a66d6c2bdf68e",
            "c09ebda6e941428498bd2eb36be54866",
            "a5c52faa49c443f9badf034834dd004e",
            "79dc92455df1449a9c678d31a10fa4ba",
            "f01750cdb43740b89977a595842a3555",
            "30cd54d6509e41079a965df86003538f",
            "31efccad0b2e4a1a970e39455a470432",
            "e473332c94f841d6b767517b3ca2c2e3",
            "e8f9ed8a641a4bc0880fc6af24df0a3f",
            "3b216e92128249f4962a2c418829df64",
            "80690ca5c36c4072a95e5a35896d77cc",
            "ac1b4f3ff1304fe3933ed23ff7bad017",
            "29fc17726d6c49bdacd930e86712c29a",
            "03e90704a48f45e794fa5b8e32021bba",
            "756bb943731d4535a6998aabe18c4e33"
          ]
        },
        "id": "wFibP1RFJ2jZ",
        "outputId": "d66a2922-6e0a-4abb-b563-bb7c031e0c3d"
      },
      "source": [
        "#@title Init { form-width: \"25%\" }\n",
        "import os\n",
        "import random\n",
        "import math\n",
        "import numpy as np\n",
        "import tensorflow as tf\n",
        "import json\n",
        "import pandas as pd\n",
        "import re\n",
        "import string\n",
        "\n",
        "!pip install transformers -q\n",
        "import transformers\n",
        "from transformers import AutoTokenizer\n",
        "\n",
        "pd.set_option('display.max_colwidth', -1)\n",
        "\n",
        "# fix random seeds\n",
        "seed_value = 42 #@param {type:\"integer\"}\n",
        "\n",
        "os.environ['PYTHONHASHSEED']=str(seed_value)\n",
        "random.seed(seed_value)\n",
        "np.random.seed(seed_value)\n",
        "\n",
        "tf.compat.v1.set_random_seed(seed_value)\n",
        "\n",
        "session_conf = tf.compat.v1.ConfigProto(intra_op_parallelism_threads=1, inter_op_parallelism_threads=1)\n",
        "sess = tf.compat.v1.Session(graph=tf.compat.v1.get_default_graph(), config=session_conf)\n",
        "tf.compat.v1.keras.backend.set_session(sess)\n",
        "\n",
        "# Huggingface bert and associated tokenizer\n",
        "max_seq_length = 512\n",
        "pretrained_model_str = \"google/electra-small-discriminator\"\n",
        "\n",
        "bert_hf_layer = transformers.TFElectraModel.from_pretrained(\n",
        "    pretrained_model_str, output_attentions=True)\n",
        "\n",
        "tokenizer = AutoTokenizer.from_pretrained(pretrained_model_str)"
      ],
      "execution_count": 2,
      "outputs": [
        {
          "output_type": "stream",
          "text": [
            "\u001b[K     |████████████████████████████████| 1.9MB 8.6MB/s \n",
            "\u001b[K     |████████████████████████████████| 3.2MB 42.1MB/s \n",
            "\u001b[K     |████████████████████████████████| 890kB 34.8MB/s \n",
            "\u001b[?25h  Building wheel for sacremoses (setup.py) ... \u001b[?25l\u001b[?25hdone\n"
          ],
          "name": "stdout"
        },
        {
          "output_type": "stream",
          "text": [
            "/usr/local/lib/python3.7/dist-packages/ipykernel_launcher.py:16: FutureWarning: Passing a negative integer is deprecated in version 1.0 and will not be supported in future version. Instead, use None to not limit the column width.\n",
            "  app.launch_new_instance()\n"
          ],
          "name": "stderr"
        },
        {
          "output_type": "display_data",
          "data": {
            "application/vnd.jupyter.widget-view+json": {
              "model_id": "9a701e37e71f4f62b4748555e853eb0b",
              "version_minor": 0,
              "version_major": 2
            },
            "text/plain": [
              "HBox(children=(FloatProgress(value=0.0, description='Downloading', max=466.0, style=ProgressStyle(description_…"
            ]
          },
          "metadata": {
            "tags": []
          }
        },
        {
          "output_type": "stream",
          "text": [
            "\n"
          ],
          "name": "stdout"
        },
        {
          "output_type": "display_data",
          "data": {
            "application/vnd.jupyter.widget-view+json": {
              "model_id": "fadce891e24c4f58ba9af3dca3faeae2",
              "version_minor": 0,
              "version_major": 2
            },
            "text/plain": [
              "HBox(children=(FloatProgress(value=0.0, description='Downloading', max=54466044.0, style=ProgressStyle(descrip…"
            ]
          },
          "metadata": {
            "tags": []
          }
        },
        {
          "output_type": "stream",
          "text": [
            "\n"
          ],
          "name": "stdout"
        },
        {
          "output_type": "stream",
          "text": [
            "Some layers from the model checkpoint at google/electra-small-discriminator were not used when initializing TFElectraModel: ['discriminator_predictions']\n",
            "- This IS expected if you are initializing TFElectraModel from the checkpoint of a model trained on another task or with another architecture (e.g. initializing a BertForSequenceClassification model from a BertForPreTraining model).\n",
            "- This IS NOT expected if you are initializing TFElectraModel from the checkpoint of a model that you expect to be exactly identical (initializing a BertForSequenceClassification model from a BertForSequenceClassification model).\n",
            "All the layers of TFElectraModel were initialized from the model checkpoint at google/electra-small-discriminator.\n",
            "If your task is similar to the task the model of the checkpoint was trained on, you can already use TFElectraModel for predictions without further training.\n"
          ],
          "name": "stderr"
        },
        {
          "output_type": "display_data",
          "data": {
            "application/vnd.jupyter.widget-view+json": {
              "model_id": "d63d5af444b34cdfbefb947e002de2a0",
              "version_minor": 0,
              "version_major": 2
            },
            "text/plain": [
              "HBox(children=(FloatProgress(value=0.0, description='Downloading', max=231508.0, style=ProgressStyle(descripti…"
            ]
          },
          "metadata": {
            "tags": []
          }
        },
        {
          "output_type": "stream",
          "text": [
            "\n"
          ],
          "name": "stdout"
        },
        {
          "output_type": "display_data",
          "data": {
            "application/vnd.jupyter.widget-view+json": {
              "model_id": "e473332c94f841d6b767517b3ca2c2e3",
              "version_minor": 0,
              "version_major": 2
            },
            "text/plain": [
              "HBox(children=(FloatProgress(value=0.0, description='Downloading', max=466062.0, style=ProgressStyle(descripti…"
            ]
          },
          "metadata": {
            "tags": []
          }
        },
        {
          "output_type": "stream",
          "text": [
            "\n"
          ],
          "name": "stdout"
        }
      ]
    },
    {
      "cell_type": "code",
      "metadata": {
        "colab": {
          "base_uri": "https://localhost:8080/"
        },
        "id": "PUGjp7aOKRyW",
        "outputId": "417cdfbf-af6d-419b-ca88-065cd05d5147"
      },
      "source": [
        "#@title df creation { form-width: \"25%\" }\n",
        "\n",
        "# the official dataset is identical to the provided one\n",
        "!wget https://rajpurkar.github.io/SQuAD-explorer/dataset/train-v1.1.json -O training_set.json\n",
        "\n",
        "with open(\"training_set.json\", \"r\") as f:\n",
        "    json_file = json.load(f)\n",
        "data = json_file[\"data\"]\n",
        "\n",
        "rows = []\n",
        "for document in data:\n",
        "  for par in document['paragraphs']:\n",
        "    for qas in par['qas']:\n",
        "      rows.append({\n",
        "        'id' : qas['id'],\n",
        "        'title': document[\"title\"],\n",
        "        'passage': par['context'],\n",
        "        'question' : qas['question'],\n",
        "        'answer_idx' : (qas['answers'][0]['answer_start'], \n",
        "                    qas['answers'][0]['answer_start'] + len(qas['answers'][0]['text'])),\n",
        "        'answer_text' : qas['answers'][0]['text']\n",
        "      })\n",
        "\n",
        "df_original = pd.DataFrame(rows)"
      ],
      "execution_count": 3,
      "outputs": [
        {
          "output_type": "stream",
          "text": [
            "--2021-03-16 11:17:32--  https://rajpurkar.github.io/SQuAD-explorer/dataset/train-v1.1.json\n",
            "Resolving rajpurkar.github.io (rajpurkar.github.io)... 185.199.108.153, 185.199.109.153, 185.199.110.153, ...\n",
            "Connecting to rajpurkar.github.io (rajpurkar.github.io)|185.199.108.153|:443... connected.\n",
            "HTTP request sent, awaiting response... 200 OK\n",
            "Length: 30288272 (29M) [application/json]\n",
            "Saving to: ‘training_set.json’\n",
            "\n",
            "training_set.json   100%[===================>]  28.88M  99.5MB/s    in 0.3s    \n",
            "\n",
            "2021-03-16 11:17:32 (99.5 MB/s) - ‘training_set.json’ saved [30288272/30288272]\n",
            "\n"
          ],
          "name": "stdout"
        }
      ]
    },
    {
      "cell_type": "code",
      "metadata": {
        "colab": {
          "base_uri": "https://localhost:8080/",
          "height": 1000
        },
        "id": "ssgBa3_tKpM8",
        "outputId": "bf54356f-6279-4745-b7e1-cd27a401f0a8"
      },
      "source": [
        "#@title clean dataset { form-width: \"25%\" }\n",
        "\n",
        "!gcloud config set project feisty-mechanic-221914\n",
        "!gsutil cp gs://squad_squad/error_IDs.txt ./error_IDs.txt\n",
        "\n",
        "with open(\"error_IDs.txt\", \"r\") as f:\n",
        "    unwanted_id = f.read()\n",
        "\n",
        "unwanted_id = unwanted_id.split(\"\\n\")[:-1]\n",
        "df_bert = df_original.set_index('id')\n",
        "df_bert = df_bert.drop(unwanted_id)\n",
        "df_bert.head()"
      ],
      "execution_count": 4,
      "outputs": [
        {
          "output_type": "stream",
          "text": [
            "Updated property [core/project].\n",
            "Copying gs://squad_squad/error_IDs.txt...\n",
            "/ [1 files][  5.7 KiB/  5.7 KiB]                                                \n",
            "Operation completed over 1 objects/5.7 KiB.                                      \n"
          ],
          "name": "stdout"
        },
        {
          "output_type": "execute_result",
          "data": {
            "text/html": [
              "<div>\n",
              "<style scoped>\n",
              "    .dataframe tbody tr th:only-of-type {\n",
              "        vertical-align: middle;\n",
              "    }\n",
              "\n",
              "    .dataframe tbody tr th {\n",
              "        vertical-align: top;\n",
              "    }\n",
              "\n",
              "    .dataframe thead th {\n",
              "        text-align: right;\n",
              "    }\n",
              "</style>\n",
              "<table border=\"1\" class=\"dataframe\">\n",
              "  <thead>\n",
              "    <tr style=\"text-align: right;\">\n",
              "      <th></th>\n",
              "      <th>title</th>\n",
              "      <th>passage</th>\n",
              "      <th>question</th>\n",
              "      <th>answer_idx</th>\n",
              "      <th>answer_text</th>\n",
              "    </tr>\n",
              "    <tr>\n",
              "      <th>id</th>\n",
              "      <th></th>\n",
              "      <th></th>\n",
              "      <th></th>\n",
              "      <th></th>\n",
              "      <th></th>\n",
              "    </tr>\n",
              "  </thead>\n",
              "  <tbody>\n",
              "    <tr>\n",
              "      <th>5733be284776f41900661182</th>\n",
              "      <td>University_of_Notre_Dame</td>\n",
              "      <td>Architecturally, the school has a Catholic character. Atop the Main Building's gold dome is a golden statue of the Virgin Mary. Immediately in front of the Main Building and facing it, is a copper statue of Christ with arms upraised with the legend \"Venite Ad Me Omnes\". Next to the Main Building is the Basilica of the Sacred Heart. Immediately behind the basilica is the Grotto, a Marian place of prayer and reflection. It is a replica of the grotto at Lourdes, France where the Virgin Mary reputedly appeared to Saint Bernadette Soubirous in 1858. At the end of the main drive (and in a direct line that connects through 3 statues and the Gold Dome), is a simple, modern stone statue of Mary.</td>\n",
              "      <td>To whom did the Virgin Mary allegedly appear in 1858 in Lourdes France?</td>\n",
              "      <td>(515, 541)</td>\n",
              "      <td>Saint Bernadette Soubirous</td>\n",
              "    </tr>\n",
              "    <tr>\n",
              "      <th>5733be284776f4190066117f</th>\n",
              "      <td>University_of_Notre_Dame</td>\n",
              "      <td>Architecturally, the school has a Catholic character. Atop the Main Building's gold dome is a golden statue of the Virgin Mary. Immediately in front of the Main Building and facing it, is a copper statue of Christ with arms upraised with the legend \"Venite Ad Me Omnes\". Next to the Main Building is the Basilica of the Sacred Heart. Immediately behind the basilica is the Grotto, a Marian place of prayer and reflection. It is a replica of the grotto at Lourdes, France where the Virgin Mary reputedly appeared to Saint Bernadette Soubirous in 1858. At the end of the main drive (and in a direct line that connects through 3 statues and the Gold Dome), is a simple, modern stone statue of Mary.</td>\n",
              "      <td>What is in front of the Notre Dame Main Building?</td>\n",
              "      <td>(188, 213)</td>\n",
              "      <td>a copper statue of Christ</td>\n",
              "    </tr>\n",
              "    <tr>\n",
              "      <th>5733be284776f41900661180</th>\n",
              "      <td>University_of_Notre_Dame</td>\n",
              "      <td>Architecturally, the school has a Catholic character. Atop the Main Building's gold dome is a golden statue of the Virgin Mary. Immediately in front of the Main Building and facing it, is a copper statue of Christ with arms upraised with the legend \"Venite Ad Me Omnes\". Next to the Main Building is the Basilica of the Sacred Heart. Immediately behind the basilica is the Grotto, a Marian place of prayer and reflection. It is a replica of the grotto at Lourdes, France where the Virgin Mary reputedly appeared to Saint Bernadette Soubirous in 1858. At the end of the main drive (and in a direct line that connects through 3 statues and the Gold Dome), is a simple, modern stone statue of Mary.</td>\n",
              "      <td>The Basilica of the Sacred heart at Notre Dame is beside to which structure?</td>\n",
              "      <td>(279, 296)</td>\n",
              "      <td>the Main Building</td>\n",
              "    </tr>\n",
              "    <tr>\n",
              "      <th>5733be284776f41900661181</th>\n",
              "      <td>University_of_Notre_Dame</td>\n",
              "      <td>Architecturally, the school has a Catholic character. Atop the Main Building's gold dome is a golden statue of the Virgin Mary. Immediately in front of the Main Building and facing it, is a copper statue of Christ with arms upraised with the legend \"Venite Ad Me Omnes\". Next to the Main Building is the Basilica of the Sacred Heart. Immediately behind the basilica is the Grotto, a Marian place of prayer and reflection. It is a replica of the grotto at Lourdes, France where the Virgin Mary reputedly appeared to Saint Bernadette Soubirous in 1858. At the end of the main drive (and in a direct line that connects through 3 statues and the Gold Dome), is a simple, modern stone statue of Mary.</td>\n",
              "      <td>What is the Grotto at Notre Dame?</td>\n",
              "      <td>(381, 420)</td>\n",
              "      <td>a Marian place of prayer and reflection</td>\n",
              "    </tr>\n",
              "    <tr>\n",
              "      <th>5733be284776f4190066117e</th>\n",
              "      <td>University_of_Notre_Dame</td>\n",
              "      <td>Architecturally, the school has a Catholic character. Atop the Main Building's gold dome is a golden statue of the Virgin Mary. Immediately in front of the Main Building and facing it, is a copper statue of Christ with arms upraised with the legend \"Venite Ad Me Omnes\". Next to the Main Building is the Basilica of the Sacred Heart. Immediately behind the basilica is the Grotto, a Marian place of prayer and reflection. It is a replica of the grotto at Lourdes, France where the Virgin Mary reputedly appeared to Saint Bernadette Soubirous in 1858. At the end of the main drive (and in a direct line that connects through 3 statues and the Gold Dome), is a simple, modern stone statue of Mary.</td>\n",
              "      <td>What sits on top of the Main Building at Notre Dame?</td>\n",
              "      <td>(92, 126)</td>\n",
              "      <td>a golden statue of the Virgin Mary</td>\n",
              "    </tr>\n",
              "  </tbody>\n",
              "</table>\n",
              "</div>"
            ],
            "text/plain": [
              "                                             title  ...                              answer_text\n",
              "id                                                  ...                                         \n",
              "5733be284776f41900661182  University_of_Notre_Dame  ...  Saint Bernadette Soubirous             \n",
              "5733be284776f4190066117f  University_of_Notre_Dame  ...  a copper statue of Christ              \n",
              "5733be284776f41900661180  University_of_Notre_Dame  ...  the Main Building                      \n",
              "5733be284776f41900661181  University_of_Notre_Dame  ...  a Marian place of prayer and reflection\n",
              "5733be284776f4190066117e  University_of_Notre_Dame  ...  a golden statue of the Virgin Mary     \n",
              "\n",
              "[5 rows x 5 columns]"
            ]
          },
          "metadata": {
            "tags": []
          },
          "execution_count": 4
        }
      ]
    },
    {
      "cell_type": "code",
      "metadata": {
        "colab": {
          "base_uri": "https://localhost:8080/",
          "height": 1000
        },
        "id": "3NmgPXxseEZy",
        "outputId": "a7498cdc-7c8a-4d0a-cf97-2a3d912616dc"
      },
      "source": [
        "#@title Electra preprocessing { form-width: \"25%\" }\r\n",
        "\r\n",
        "from tqdm import tqdm\r\n",
        "\r\n",
        "def preprocess_bert(text):\r\n",
        "    tokenized_text = tokenizer(list(text), padding=\"max_length\", max_length=max_seq_length, truncation=True)\r\n",
        "    return tokenized_text.input_ids\r\n",
        "\r\n",
        "df_bert_preprocessed = df_bert.copy()\r\n",
        "# pre-process passage and question text\r\n",
        "print(\"Preprocessing passage...\")\r\n",
        "df_bert_preprocessed['passage'] = preprocess_bert(df_bert['passage'])\r\n",
        "print(\"Preprocessing question...\")\r\n",
        "df_bert_preprocessed['question'] = preprocess_bert(df_bert['question'])\r\n",
        "df_bert_preprocessed.head()"
      ],
      "execution_count": 5,
      "outputs": [
        {
          "output_type": "stream",
          "text": [
            "Preprocessing passage...\n",
            "Preprocessing question...\n"
          ],
          "name": "stdout"
        },
        {
          "output_type": "execute_result",
          "data": {
            "text/html": [
              "<div>\n",
              "<style scoped>\n",
              "    .dataframe tbody tr th:only-of-type {\n",
              "        vertical-align: middle;\n",
              "    }\n",
              "\n",
              "    .dataframe tbody tr th {\n",
              "        vertical-align: top;\n",
              "    }\n",
              "\n",
              "    .dataframe thead th {\n",
              "        text-align: right;\n",
              "    }\n",
              "</style>\n",
              "<table border=\"1\" class=\"dataframe\">\n",
              "  <thead>\n",
              "    <tr style=\"text-align: right;\">\n",
              "      <th></th>\n",
              "      <th>title</th>\n",
              "      <th>passage</th>\n",
              "      <th>question</th>\n",
              "      <th>answer_idx</th>\n",
              "      <th>answer_text</th>\n",
              "    </tr>\n",
              "    <tr>\n",
              "      <th>id</th>\n",
              "      <th></th>\n",
              "      <th></th>\n",
              "      <th></th>\n",
              "      <th></th>\n",
              "      <th></th>\n",
              "    </tr>\n",
              "  </thead>\n",
              "  <tbody>\n",
              "    <tr>\n",
              "      <th>5733be284776f41900661182</th>\n",
              "      <td>University_of_Notre_Dame</td>\n",
              "      <td>[101, 6549, 2135, 1010, 1996, 2082, 2038, 1037, 3234, 2839, 1012, 10234, 1996, 2364, 2311, 1005, 1055, 2751, 8514, 2003, 1037, 3585, 6231, 1997, 1996, 6261, 2984, 1012, 3202, 1999, 2392, 1997, 1996, 2364, 2311, 1998, 5307, 2009, 1010, 2003, 1037, 6967, 6231, 1997, 4828, 2007, 2608, 2039, 14995, 6924, 2007, 1996, 5722, 1000, 2310, 3490, 2618, 4748, 2033, 18168, 5267, 1000, 1012, 2279, 2000, 1996, 2364, 2311, 2003, 1996, 13546, 1997, 1996, 6730, 2540, 1012, 3202, 2369, 1996, 13546, 2003, 1996, 24665, 23052, 1010, 1037, 14042, 2173, 1997, 7083, 1998, 9185, 1012, 2009, 2003, 1037, 15059, 1997, 1996, 24665, ...]</td>\n",
              "      <td>[101, 2000, 3183, 2106, 1996, 6261, 2984, 9382, 3711, 1999, 8517, 1999, 10223, 26371, 2605, 1029, 102, 0, 0, 0, 0, 0, 0, 0, 0, 0, 0, 0, 0, 0, 0, 0, 0, 0, 0, 0, 0, 0, 0, 0, 0, 0, 0, 0, 0, 0, 0, 0, 0, 0, 0, 0, 0, 0, 0, 0, 0, 0, 0, 0, 0, 0, 0, 0, 0, 0, 0, 0, 0, 0, 0, 0, 0, 0, 0, 0, 0, 0, 0, 0, 0, 0, 0, 0, 0, 0, 0, 0, 0, 0, 0, 0, 0, 0, 0, 0, 0, 0, 0, 0, ...]</td>\n",
              "      <td>(515, 541)</td>\n",
              "      <td>Saint Bernadette Soubirous</td>\n",
              "    </tr>\n",
              "    <tr>\n",
              "      <th>5733be284776f4190066117f</th>\n",
              "      <td>University_of_Notre_Dame</td>\n",
              "      <td>[101, 6549, 2135, 1010, 1996, 2082, 2038, 1037, 3234, 2839, 1012, 10234, 1996, 2364, 2311, 1005, 1055, 2751, 8514, 2003, 1037, 3585, 6231, 1997, 1996, 6261, 2984, 1012, 3202, 1999, 2392, 1997, 1996, 2364, 2311, 1998, 5307, 2009, 1010, 2003, 1037, 6967, 6231, 1997, 4828, 2007, 2608, 2039, 14995, 6924, 2007, 1996, 5722, 1000, 2310, 3490, 2618, 4748, 2033, 18168, 5267, 1000, 1012, 2279, 2000, 1996, 2364, 2311, 2003, 1996, 13546, 1997, 1996, 6730, 2540, 1012, 3202, 2369, 1996, 13546, 2003, 1996, 24665, 23052, 1010, 1037, 14042, 2173, 1997, 7083, 1998, 9185, 1012, 2009, 2003, 1037, 15059, 1997, 1996, 24665, ...]</td>\n",
              "      <td>[101, 2054, 2003, 1999, 2392, 1997, 1996, 10289, 8214, 2364, 2311, 1029, 102, 0, 0, 0, 0, 0, 0, 0, 0, 0, 0, 0, 0, 0, 0, 0, 0, 0, 0, 0, 0, 0, 0, 0, 0, 0, 0, 0, 0, 0, 0, 0, 0, 0, 0, 0, 0, 0, 0, 0, 0, 0, 0, 0, 0, 0, 0, 0, 0, 0, 0, 0, 0, 0, 0, 0, 0, 0, 0, 0, 0, 0, 0, 0, 0, 0, 0, 0, 0, 0, 0, 0, 0, 0, 0, 0, 0, 0, 0, 0, 0, 0, 0, 0, 0, 0, 0, 0, ...]</td>\n",
              "      <td>(188, 213)</td>\n",
              "      <td>a copper statue of Christ</td>\n",
              "    </tr>\n",
              "    <tr>\n",
              "      <th>5733be284776f41900661180</th>\n",
              "      <td>University_of_Notre_Dame</td>\n",
              "      <td>[101, 6549, 2135, 1010, 1996, 2082, 2038, 1037, 3234, 2839, 1012, 10234, 1996, 2364, 2311, 1005, 1055, 2751, 8514, 2003, 1037, 3585, 6231, 1997, 1996, 6261, 2984, 1012, 3202, 1999, 2392, 1997, 1996, 2364, 2311, 1998, 5307, 2009, 1010, 2003, 1037, 6967, 6231, 1997, 4828, 2007, 2608, 2039, 14995, 6924, 2007, 1996, 5722, 1000, 2310, 3490, 2618, 4748, 2033, 18168, 5267, 1000, 1012, 2279, 2000, 1996, 2364, 2311, 2003, 1996, 13546, 1997, 1996, 6730, 2540, 1012, 3202, 2369, 1996, 13546, 2003, 1996, 24665, 23052, 1010, 1037, 14042, 2173, 1997, 7083, 1998, 9185, 1012, 2009, 2003, 1037, 15059, 1997, 1996, 24665, ...]</td>\n",
              "      <td>[101, 1996, 13546, 1997, 1996, 6730, 2540, 2012, 10289, 8214, 2003, 3875, 2000, 2029, 3252, 1029, 102, 0, 0, 0, 0, 0, 0, 0, 0, 0, 0, 0, 0, 0, 0, 0, 0, 0, 0, 0, 0, 0, 0, 0, 0, 0, 0, 0, 0, 0, 0, 0, 0, 0, 0, 0, 0, 0, 0, 0, 0, 0, 0, 0, 0, 0, 0, 0, 0, 0, 0, 0, 0, 0, 0, 0, 0, 0, 0, 0, 0, 0, 0, 0, 0, 0, 0, 0, 0, 0, 0, 0, 0, 0, 0, 0, 0, 0, 0, 0, 0, 0, 0, 0, ...]</td>\n",
              "      <td>(279, 296)</td>\n",
              "      <td>the Main Building</td>\n",
              "    </tr>\n",
              "    <tr>\n",
              "      <th>5733be284776f41900661181</th>\n",
              "      <td>University_of_Notre_Dame</td>\n",
              "      <td>[101, 6549, 2135, 1010, 1996, 2082, 2038, 1037, 3234, 2839, 1012, 10234, 1996, 2364, 2311, 1005, 1055, 2751, 8514, 2003, 1037, 3585, 6231, 1997, 1996, 6261, 2984, 1012, 3202, 1999, 2392, 1997, 1996, 2364, 2311, 1998, 5307, 2009, 1010, 2003, 1037, 6967, 6231, 1997, 4828, 2007, 2608, 2039, 14995, 6924, 2007, 1996, 5722, 1000, 2310, 3490, 2618, 4748, 2033, 18168, 5267, 1000, 1012, 2279, 2000, 1996, 2364, 2311, 2003, 1996, 13546, 1997, 1996, 6730, 2540, 1012, 3202, 2369, 1996, 13546, 2003, 1996, 24665, 23052, 1010, 1037, 14042, 2173, 1997, 7083, 1998, 9185, 1012, 2009, 2003, 1037, 15059, 1997, 1996, 24665, ...]</td>\n",
              "      <td>[101, 2054, 2003, 1996, 24665, 23052, 2012, 10289, 8214, 1029, 102, 0, 0, 0, 0, 0, 0, 0, 0, 0, 0, 0, 0, 0, 0, 0, 0, 0, 0, 0, 0, 0, 0, 0, 0, 0, 0, 0, 0, 0, 0, 0, 0, 0, 0, 0, 0, 0, 0, 0, 0, 0, 0, 0, 0, 0, 0, 0, 0, 0, 0, 0, 0, 0, 0, 0, 0, 0, 0, 0, 0, 0, 0, 0, 0, 0, 0, 0, 0, 0, 0, 0, 0, 0, 0, 0, 0, 0, 0, 0, 0, 0, 0, 0, 0, 0, 0, 0, 0, 0, ...]</td>\n",
              "      <td>(381, 420)</td>\n",
              "      <td>a Marian place of prayer and reflection</td>\n",
              "    </tr>\n",
              "    <tr>\n",
              "      <th>5733be284776f4190066117e</th>\n",
              "      <td>University_of_Notre_Dame</td>\n",
              "      <td>[101, 6549, 2135, 1010, 1996, 2082, 2038, 1037, 3234, 2839, 1012, 10234, 1996, 2364, 2311, 1005, 1055, 2751, 8514, 2003, 1037, 3585, 6231, 1997, 1996, 6261, 2984, 1012, 3202, 1999, 2392, 1997, 1996, 2364, 2311, 1998, 5307, 2009, 1010, 2003, 1037, 6967, 6231, 1997, 4828, 2007, 2608, 2039, 14995, 6924, 2007, 1996, 5722, 1000, 2310, 3490, 2618, 4748, 2033, 18168, 5267, 1000, 1012, 2279, 2000, 1996, 2364, 2311, 2003, 1996, 13546, 1997, 1996, 6730, 2540, 1012, 3202, 2369, 1996, 13546, 2003, 1996, 24665, 23052, 1010, 1037, 14042, 2173, 1997, 7083, 1998, 9185, 1012, 2009, 2003, 1037, 15059, 1997, 1996, 24665, ...]</td>\n",
              "      <td>[101, 2054, 7719, 2006, 2327, 1997, 1996, 2364, 2311, 2012, 10289, 8214, 1029, 102, 0, 0, 0, 0, 0, 0, 0, 0, 0, 0, 0, 0, 0, 0, 0, 0, 0, 0, 0, 0, 0, 0, 0, 0, 0, 0, 0, 0, 0, 0, 0, 0, 0, 0, 0, 0, 0, 0, 0, 0, 0, 0, 0, 0, 0, 0, 0, 0, 0, 0, 0, 0, 0, 0, 0, 0, 0, 0, 0, 0, 0, 0, 0, 0, 0, 0, 0, 0, 0, 0, 0, 0, 0, 0, 0, 0, 0, 0, 0, 0, 0, 0, 0, 0, 0, 0, ...]</td>\n",
              "      <td>(92, 126)</td>\n",
              "      <td>a golden statue of the Virgin Mary</td>\n",
              "    </tr>\n",
              "  </tbody>\n",
              "</table>\n",
              "</div>"
            ],
            "text/plain": [
              "                                             title  ...                              answer_text\n",
              "id                                                  ...                                         \n",
              "5733be284776f41900661182  University_of_Notre_Dame  ...  Saint Bernadette Soubirous             \n",
              "5733be284776f4190066117f  University_of_Notre_Dame  ...  a copper statue of Christ              \n",
              "5733be284776f41900661180  University_of_Notre_Dame  ...  the Main Building                      \n",
              "5733be284776f41900661181  University_of_Notre_Dame  ...  a Marian place of prayer and reflection\n",
              "5733be284776f4190066117e  University_of_Notre_Dame  ...  a golden statue of the Virgin Mary     \n",
              "\n",
              "[5 rows x 5 columns]"
            ]
          },
          "metadata": {
            "tags": []
          },
          "execution_count": 5
        }
      ]
    },
    {
      "cell_type": "code",
      "metadata": {
        "id": "iUyheBBjYcHT"
      },
      "source": [
        "#@title data loader and split { form-width: \"25%\" }\r\n",
        "\r\n",
        "class IRDataset(tf.keras.utils.Sequence):\r\n",
        "    def __init__(self, df, batch_size):\r\n",
        "        self.df = df\r\n",
        "        self.batch_size = batch_size\r\n",
        "        self.uniq_passages = df_bert.loc[df.index].groupby('passage').groups\r\n",
        "\r\n",
        "    def __len__(self):\r\n",
        "        return len(self.uniq_passages)//self.batch_size\r\n",
        "\r\n",
        "    def __getitem__(self, idx):\r\n",
        "        keys = list(self.uniq_passages.keys())[idx * self.batch_size : (idx + 1) * self.batch_size]\r\n",
        "        id = []\r\n",
        "        for i in keys:\r\n",
        "            id.append(np.random.choice(self.uniq_passages[i]))\r\n",
        "\r\n",
        "        p = self.df['passage'].loc[id].tolist()\r\n",
        "        q = self.df['question'].loc[id].tolist()\r\n",
        "\r\n",
        "        return (np.stack(p), np.stack(q)), np.identity(self.batch_size)\r\n",
        "        \r\n",
        "split_value = 0.1 \r\n",
        "val_dim = int(len(df_bert_preprocessed['title'].unique()) * split_value)\r\n",
        "val_titles = np.random.choice(df_bert_preprocessed['title'].unique(), size=val_dim, replace=False)\r\n",
        "\r\n",
        "df_bert_val = df_bert_preprocessed[df_bert_preprocessed['title'].isin(val_titles)]\r\n",
        "df_bert_train = df_bert_preprocessed[~(df_bert_preprocessed['title'].isin(val_titles))]"
      ],
      "execution_count": 19,
      "outputs": []
    },
    {
      "cell_type": "code",
      "metadata": {
        "colab": {
          "base_uri": "https://localhost:8080/"
        },
        "id": "jwVwRBxzKwep",
        "outputId": "c0f0f2cc-7448-49e6-feb6-fc2dc281d409"
      },
      "source": [
        "#@title model definition { form-width: \"25%\" }\n",
        "\n",
        "from tensorflow.keras.losses import cosine_similarity, MSE, mae\n",
        "\n",
        "input_passage_ids = tf.keras.layers.Input(batch_input_shape=(16, max_seq_length,), dtype=tf.int32, name='input_passage_ids')\n",
        "input_question_ids = tf.keras.layers.Input(batch_input_shape=(16, max_seq_length,), dtype=tf.int32, name='input_question_ids')\n",
        "\n",
        "bert_hf_layer = transformers.TFElectraModel.from_pretrained(pretrained_model_str)\n",
        "\n",
        "passage_encoding = bert_hf_layer(input_ids=[input_passage_ids]).last_hidden_state[:,0]\n",
        "question_encoding = bert_hf_layer(input_ids=[input_question_ids]).last_hidden_state[:,0]\n",
        "\n",
        "densep = tf.keras.layers.Dense(256)\n",
        "denseq = tf.keras.layers.Dense(256)\n",
        "\n",
        "outp = densep(passage_encoding)\n",
        "#outp1,_ = tf.linalg.normalize(outp)\n",
        "outq = denseq(question_encoding)\n",
        "#outq1,_ = tf.linalg.normalize(outq)\n",
        "\n",
        "outdot = tf.tensordot(outp, outq, axes=(1,1))\n",
        "\n",
        "softmax = tf.keras.layers.Softmax(axis=0)\n",
        "output = softmax(outdot)\n",
        "\n",
        "model = tf.keras.Model(inputs=[input_passage_ids, input_question_ids], \n",
        "                    outputs=output,\n",
        "                    name=\"BERT_IR\")\n",
        "\n",
        "model.summary(line_length=250)"
      ],
      "execution_count": 20,
      "outputs": [
        {
          "output_type": "stream",
          "text": [
            "Some layers from the model checkpoint at google/electra-small-discriminator were not used when initializing TFElectraModel: ['discriminator_predictions']\n",
            "- This IS expected if you are initializing TFElectraModel from the checkpoint of a model trained on another task or with another architecture (e.g. initializing a BertForSequenceClassification model from a BertForPreTraining model).\n",
            "- This IS NOT expected if you are initializing TFElectraModel from the checkpoint of a model that you expect to be exactly identical (initializing a BertForSequenceClassification model from a BertForSequenceClassification model).\n",
            "All the layers of TFElectraModel were initialized from the model checkpoint at google/electra-small-discriminator.\n",
            "If your task is similar to the task the model of the checkpoint was trained on, you can already use TFElectraModel for predictions without further training.\n"
          ],
          "name": "stderr"
        },
        {
          "output_type": "stream",
          "text": [
            "WARNING:tensorflow:The parameters `output_attentions`, `output_hidden_states` and `use_cache` cannot be updated when calling a model.They have to be set to True/False in the config object (i.e.: `config=XConfig.from_pretrained('name', output_attentions=True)`).\n",
            "WARNING:tensorflow:The parameter `return_dict` cannot be set in graph mode and will always be set to `True`.\n",
            "WARNING:tensorflow:The parameters `output_attentions`, `output_hidden_states` and `use_cache` cannot be updated when calling a model.They have to be set to True/False in the config object (i.e.: `config=XConfig.from_pretrained('name', output_attentions=True)`).\n",
            "WARNING:tensorflow:The parameter `return_dict` cannot be set in graph mode and will always be set to `True`.\n",
            "Model: \"BERT_IR\"\n",
            "__________________________________________________________________________________________________________________________________________________________________________________________________________________________________________________________\n",
            "Layer (type)                                                                      Output Shape                                           Param #                       Connected to                                                                       \n",
            "==========================================================================================================================================================================================================================================================\n",
            "input_passage_ids (InputLayer)                                                    [(16, 512)]                                            0                                                                                                                \n",
            "__________________________________________________________________________________________________________________________________________________________________________________________________________________________________________________________\n",
            "input_question_ids (InputLayer)                                                   [(16, 512)]                                            0                                                                                                                \n",
            "__________________________________________________________________________________________________________________________________________________________________________________________________________________________________________________________\n",
            "tf_electra_model (TFElectraModel)                                                 TFBaseModelOutput(last_hidden_state=(16, 512, 256), hi 13483008                      input_passage_ids[0][0]                                                            \n",
            "                                                                                                                                                                       input_question_ids[0][0]                                                           \n",
            "__________________________________________________________________________________________________________________________________________________________________________________________________________________________________________________________\n",
            "tf.__operators__.getitem_1 (SlicingOpLambda)                                      (16, 256)                                              0                             tf_electra_model[0][0]                                                             \n",
            "__________________________________________________________________________________________________________________________________________________________________________________________________________________________________________________________\n",
            "tf.__operators__.getitem_2 (SlicingOpLambda)                                      (16, 256)                                              0                             tf_electra_model[1][0]                                                             \n",
            "__________________________________________________________________________________________________________________________________________________________________________________________________________________________________________________________\n",
            "dense (Dense)                                                                     (16, 256)                                              65792                         tf.__operators__.getitem_1[0][0]                                                   \n",
            "__________________________________________________________________________________________________________________________________________________________________________________________________________________________________________________________\n",
            "dense_1 (Dense)                                                                   (16, 256)                                              65792                         tf.__operators__.getitem_2[0][0]                                                   \n",
            "__________________________________________________________________________________________________________________________________________________________________________________________________________________________________________________________\n",
            "tf.tensordot (TFOpLambda)                                                         (16, 16)                                               0                             dense[0][0]                                                                        \n",
            "                                                                                                                                                                       dense_1[0][0]                                                                      \n",
            "__________________________________________________________________________________________________________________________________________________________________________________________________________________________________________________________\n",
            "softmax (Softmax)                                                                 (16, 16)                                               0                             tf.tensordot[0][0]                                                                 \n",
            "==========================================================================================================================================================================================================================================================\n",
            "Total params: 13,614,592\n",
            "Trainable params: 13,614,592\n",
            "Non-trainable params: 0\n",
            "__________________________________________________________________________________________________________________________________________________________________________________________________________________________________________________________\n"
          ],
          "name": "stdout"
        }
      ]
    },
    {
      "cell_type": "code",
      "metadata": {
        "id": "LaYw_ZnZmflK",
        "colab": {
          "base_uri": "https://localhost:8080/",
          "height": 1000,
          "referenced_widgets": [
            "6461c35a4b0d4e08b02c72c8c502b402",
            "42371baae114444797030bc7f7297d8b",
            "35af17a49f334e36b67c6fb8fe8ad571",
            "cdda17af9744459a8c325112d55b9761",
            "ce2c6bac73ec4ffc99de5e29c62e7779",
            "6664650779eb48fab65f9c857678b4f0",
            "787758d2dd4d4a31b7a18a4df0cfdfd6",
            "3d2a465b1a774d35ae2da012dfd196c3"
          ]
        },
        "outputId": "78993b5f-4ba2-457e-b375-5461611fa92d"
      },
      "source": [
        "#@title train { form-width: \"25%\" }\r\n",
        "\r\n",
        "from transformers.optimization_tf import AdamWeightDecay\r\n",
        "from tensorflow.keras.callbacks import EarlyStopping, ModelCheckpoint\r\n",
        "\r\n",
        "batch_size = 16\r\n",
        "epochs = 200\r\n",
        "\r\n",
        "seq_train = IRDataset(df_bert_train, batch_size)\r\n",
        "seq_val = IRDataset(df_bert_val, batch_size)\r\n",
        "\r\n",
        "saveDir = os.path.join(os.getcwd(), 'saved_models')\r\n",
        "if not os.path.isdir(saveDir):\r\n",
        "    os.makedirs(saveDir)\r\n",
        "chkpt = saveDir + '/squad_check.hdf5'\r\n",
        "\r\n",
        "es_cb = EarlyStopping(monitor='val_loss', patience=10,verbose=1, mode='auto', restore_best_weights=True)\r\n",
        "cp_cb = ModelCheckpoint(filepath = chkpt, monitor='val_loss', verbose=1, \r\n",
        "                        save_best_only=True, mode='auto', \r\n",
        "                        save_weights_only=True)\r\n",
        "callbacks = [es_cb, cp_cb]\r\n",
        "\r\n",
        "ENABLE_WANDB = True        #@param {type:\"boolean\"}\r\n",
        "wandb_experiment_name = \"electra+norm\"  #@param {type: \"string\"}\r\n",
        "if ENABLE_WANDB:\r\n",
        "    !pip install wandb > /dev/null\r\n",
        "    !wandb login\r\n",
        "    import wandb\r\n",
        "    from wandb.keras import WandbCallback\r\n",
        "    wandb.init(project=\"IR\", name=wandb_experiment_name)\r\n",
        "    wandb.config.batch_size = batch_size\r\n",
        "    wandb.config.epochs = epochs\r\n",
        "    callbacks.append(WandbCallback(log_batch_frequency=10,\r\n",
        "                                   save_weights_only=True))\r\n",
        "\r\n",
        "tf.keras.backend.clear_session()\r\n",
        "\r\n",
        "optimizer = AdamWeightDecay(lr=1e-5, beta_1=0.9, beta_2=0.98, epsilon=1e-9)\r\n",
        "model.compile(optimizer=optimizer, loss=\"categorical_crossentropy\", metrics = \"accuracy\")\r\n",
        "history = model.fit(seq_train, epochs=epochs,\r\n",
        "                    callbacks=callbacks, \r\n",
        "                    validation_data=seq_val,\r\n",
        "                    batch_size=batch_size)"
      ],
      "execution_count": 11,
      "outputs": [
        {
          "output_type": "stream",
          "text": [
            "\u001b[34m\u001b[1mwandb\u001b[0m: Currently logged in as: \u001b[33mveri\u001b[0m (use `wandb login --relogin` to force relogin)\n"
          ],
          "name": "stdout"
        },
        {
          "output_type": "display_data",
          "data": {
            "text/html": [
              "Finishing last run (ID:3de80mlh) before initializing another..."
            ],
            "text/plain": [
              "<IPython.core.display.HTML object>"
            ]
          },
          "metadata": {
            "tags": []
          }
        },
        {
          "output_type": "display_data",
          "data": {
            "text/html": [
              "<br/>Waiting for W&B process to finish, PID 478<br/>Program ended successfully."
            ],
            "text/plain": [
              "<IPython.core.display.HTML object>"
            ]
          },
          "metadata": {
            "tags": []
          }
        },
        {
          "output_type": "display_data",
          "data": {
            "application/vnd.jupyter.widget-view+json": {
              "model_id": "6461c35a4b0d4e08b02c72c8c502b402",
              "version_minor": 0,
              "version_major": 2
            },
            "text/plain": [
              "VBox(children=(Label(value=' 52.20MB of 52.20MB uploaded (0.00MB deduped)\\r'), FloatProgress(value=1.0, max=1.…"
            ]
          },
          "metadata": {
            "tags": []
          }
        },
        {
          "output_type": "display_data",
          "data": {
            "text/html": [
              "Find user logs for this run at: <code>/content/wandb/run-20210316_112824-3de80mlh/logs/debug.log</code>"
            ],
            "text/plain": [
              "<IPython.core.display.HTML object>"
            ]
          },
          "metadata": {
            "tags": []
          }
        },
        {
          "output_type": "display_data",
          "data": {
            "text/html": [
              "Find internal logs for this run at: <code>/content/wandb/run-20210316_112824-3de80mlh/logs/debug-internal.log</code>"
            ],
            "text/plain": [
              "<IPython.core.display.HTML object>"
            ]
          },
          "metadata": {
            "tags": []
          }
        },
        {
          "output_type": "display_data",
          "data": {
            "text/html": [
              "<h3>Run summary:</h3><br/><style>\n",
              "    table.wandb td:nth-child(1) { padding: 0 10px; text-align: right }\n",
              "    </style><table class=\"wandb\">\n",
              "<tr><td>loss</td><td>3.24398</td></tr><tr><td>accuracy</td><td>0.055</td></tr><tr><td>_runtime</td><td>114</td></tr><tr><td>_timestamp</td><td>1615894219</td></tr><tr><td>_step</td><td>27</td></tr><tr><td>epoch</td><td>6</td></tr><tr><td>val_loss</td><td>2.77185</td></tr><tr><td>val_accuracy</td><td>0.125</td></tr><tr><td>best_val_loss</td><td>2.71517</td></tr><tr><td>best_epoch</td><td>1</td></tr></table>"
            ],
            "text/plain": [
              "<IPython.core.display.HTML object>"
            ]
          },
          "metadata": {
            "tags": []
          }
        },
        {
          "output_type": "display_data",
          "data": {
            "text/html": [
              "<h3>Run history:</h3><br/><style>\n",
              "    table.wandb td:nth-child(1) { padding: 0 10px; text-align: right }\n",
              "    </style><table class=\"wandb\">\n",
              "<tr><td>loss</td><td>█▆▅▄▂▃▃▃▂▂▂▂▁▂▂▂▃▂▂▂▁▂▂▂▁▂▂▂</td></tr><tr><td>accuracy</td><td>▁▄▄▄█▄▅▅▅▆▆▆█▆▆▅▅▅▄▄█▆▅▅█▅▄▄</td></tr><tr><td>_runtime</td><td>▁▁▂▂▂▃▃▃▃▄▄▄▄▅▅▅▅▆▆▆▆▆▇▇▇▇██</td></tr><tr><td>_timestamp</td><td>▁▁▂▂▂▃▃▃▃▄▄▄▄▅▅▅▅▆▆▆▆▆▇▇▇▇██</td></tr><tr><td>_step</td><td>▁▁▂▂▂▂▃▃▃▃▄▄▄▄▅▅▅▅▆▆▆▆▇▇▇▇██</td></tr><tr><td>epoch</td><td>▁▂▃▅▆▇█</td></tr><tr><td>val_loss</td><td>▅▁▇▇███</td></tr><tr><td>val_accuracy</td><td>█▅▆▅▁▃█</td></tr></table><br/>"
            ],
            "text/plain": [
              "<IPython.core.display.HTML object>"
            ]
          },
          "metadata": {
            "tags": []
          }
        },
        {
          "output_type": "display_data",
          "data": {
            "text/html": [
              "Synced 5 W&B file(s), 1 media file(s), 0 artifact file(s) and 1 other file(s)"
            ],
            "text/plain": [
              "<IPython.core.display.HTML object>"
            ]
          },
          "metadata": {
            "tags": []
          }
        },
        {
          "output_type": "display_data",
          "data": {
            "text/html": [
              "\n",
              "                    <br/>Synced <strong style=\"color:#cdcd00\">electra+norm</strong>: <a href=\"https://wandb.ai/veri/IR/runs/3de80mlh\" target=\"_blank\">https://wandb.ai/veri/IR/runs/3de80mlh</a><br/>\n",
              "                "
            ],
            "text/plain": [
              "<IPython.core.display.HTML object>"
            ]
          },
          "metadata": {
            "tags": []
          }
        },
        {
          "output_type": "display_data",
          "data": {
            "text/html": [
              "...Successfully finished last run (ID:3de80mlh). Initializing new run:<br/><br/>"
            ],
            "text/plain": [
              "<IPython.core.display.HTML object>"
            ]
          },
          "metadata": {
            "tags": []
          }
        },
        {
          "output_type": "display_data",
          "data": {
            "text/html": [
              "\n",
              "                Tracking run with wandb version 0.10.22<br/>\n",
              "                Syncing run <strong style=\"color:#cdcd00\">electra+norm</strong> to <a href=\"https://wandb.ai\" target=\"_blank\">Weights & Biases</a> <a href=\"https://docs.wandb.com/integrations/jupyter.html\" target=\"_blank\">(Documentation)</a>.<br/>\n",
              "                Project page: <a href=\"https://wandb.ai/veri/IR\" target=\"_blank\">https://wandb.ai/veri/IR</a><br/>\n",
              "                Run page: <a href=\"https://wandb.ai/veri/IR/runs/3ssoxz09\" target=\"_blank\">https://wandb.ai/veri/IR/runs/3ssoxz09</a><br/>\n",
              "                Run data is saved locally in <code>/content/wandb/run-20210316_113335-3ssoxz09</code><br/><br/>\n",
              "            "
            ],
            "text/plain": [
              "<IPython.core.display.HTML object>"
            ]
          },
          "metadata": {
            "tags": []
          }
        },
        {
          "output_type": "stream",
          "text": [
            "Epoch 1/200\n",
            "WARNING:tensorflow:The parameters `output_attentions`, `output_hidden_states` and `use_cache` cannot be updated when calling a model.They have to be set to True/False in the config object (i.e.: `config=XConfig.from_pretrained('name', output_attentions=True)`).\n",
            "WARNING:tensorflow:The parameter `return_dict` cannot be set in graph mode and will always be set to `True`.\n",
            "WARNING:tensorflow:The parameters `output_attentions`, `output_hidden_states` and `use_cache` cannot be updated when calling a model.They have to be set to True/False in the config object (i.e.: `config=XConfig.from_pretrained('name', output_attentions=True)`).\n",
            "WARNING:tensorflow:The parameter `return_dict` cannot be set in graph mode and will always be set to `True`.\n",
            "WARNING:tensorflow:The parameters `output_attentions`, `output_hidden_states` and `use_cache` cannot be updated when calling a model.They have to be set to True/False in the config object (i.e.: `config=XConfig.from_pretrained('name', output_attentions=True)`).\n",
            "WARNING:tensorflow:The parameter `return_dict` cannot be set in graph mode and will always be set to `True`.\n",
            "WARNING:tensorflow:The parameters `output_attentions`, `output_hidden_states` and `use_cache` cannot be updated when calling a model.They have to be set to True/False in the config object (i.e.: `config=XConfig.from_pretrained('name', output_attentions=True)`).\n",
            "WARNING:tensorflow:The parameter `return_dict` cannot be set in graph mode and will always be set to `True`.\n",
            "25/25 [==============================] - ETA: 0s - loss: 3.6115 - accuracy: 0.0999WARNING:tensorflow:The parameters `output_attentions`, `output_hidden_states` and `use_cache` cannot be updated when calling a model.They have to be set to True/False in the config object (i.e.: `config=XConfig.from_pretrained('name', output_attentions=True)`).\n",
            "WARNING:tensorflow:The parameter `return_dict` cannot be set in graph mode and will always be set to `True`.\n",
            "WARNING:tensorflow:The parameters `output_attentions`, `output_hidden_states` and `use_cache` cannot be updated when calling a model.They have to be set to True/False in the config object (i.e.: `config=XConfig.from_pretrained('name', output_attentions=True)`).\n",
            "WARNING:tensorflow:The parameter `return_dict` cannot be set in graph mode and will always be set to `True`.\n",
            "25/25 [==============================] - 33s 653ms/step - loss: 3.6076 - accuracy: 0.0997 - val_loss: 2.7810 - val_accuracy: 0.0625\n",
            "\n",
            "Epoch 00001: val_loss improved from inf to 2.78102, saving model to /content/saved_models/squad_check.hdf5\n",
            "Epoch 2/200\n",
            "25/25 [==============================] - 13s 499ms/step - loss: 3.3034 - accuracy: 0.0775 - val_loss: 2.7652 - val_accuracy: 0.1250\n",
            "\n",
            "Epoch 00002: val_loss improved from 2.78102 to 2.76516, saving model to /content/saved_models/squad_check.hdf5\n",
            "Epoch 3/200\n",
            "25/25 [==============================] - 13s 499ms/step - loss: 3.1950 - accuracy: 0.0442 - val_loss: 2.7675 - val_accuracy: 0.0938\n",
            "\n",
            "Epoch 00003: val_loss did not improve from 2.76516\n",
            "Epoch 4/200\n",
            "25/25 [==============================] - 13s 499ms/step - loss: 3.0866 - accuracy: 0.0484 - val_loss: 2.7651 - val_accuracy: 0.0625\n",
            "\n",
            "Epoch 00004: val_loss improved from 2.76516 to 2.76506, saving model to /content/saved_models/squad_check.hdf5\n",
            "Epoch 5/200\n",
            "25/25 [==============================] - 13s 499ms/step - loss: 3.1756 - accuracy: 0.0844 - val_loss: 2.7648 - val_accuracy: 0.2188\n",
            "\n",
            "Epoch 00005: val_loss improved from 2.76506 to 2.76483, saving model to /content/saved_models/squad_check.hdf5\n",
            "Epoch 6/200\n",
            "25/25 [==============================] - 13s 499ms/step - loss: 3.1405 - accuracy: 0.0927 - val_loss: 2.7786 - val_accuracy: 0.0312\n",
            "\n",
            "Epoch 00006: val_loss did not improve from 2.76483\n",
            "Epoch 7/200\n",
            "25/25 [==============================] - 13s 499ms/step - loss: 3.0301 - accuracy: 0.0562 - val_loss: 2.7699 - val_accuracy: 0.0625\n",
            "\n",
            "Epoch 00007: val_loss did not improve from 2.76483\n",
            "Epoch 8/200\n",
            "25/25 [==============================] - 13s 500ms/step - loss: 3.1123 - accuracy: 0.0790 - val_loss: 2.7755 - val_accuracy: 0.0625\n",
            "\n",
            "Epoch 00008: val_loss did not improve from 2.76483\n",
            "Epoch 9/200\n",
            "25/25 [==============================] - 13s 499ms/step - loss: 3.0711 - accuracy: 0.0550 - val_loss: 2.7696 - val_accuracy: 0.0625\n",
            "\n",
            "Epoch 00009: val_loss did not improve from 2.76483\n",
            "Epoch 10/200\n",
            "25/25 [==============================] - 13s 499ms/step - loss: 3.1438 - accuracy: 0.0375 - val_loss: 2.7662 - val_accuracy: 0.1562\n",
            "\n",
            "Epoch 00010: val_loss did not improve from 2.76483\n",
            "Epoch 11/200\n",
            "25/25 [==============================] - 13s 499ms/step - loss: 3.0430 - accuracy: 0.0709 - val_loss: 2.7765 - val_accuracy: 0.0938\n",
            "\n",
            "Epoch 00011: val_loss did not improve from 2.76483\n",
            "Epoch 12/200\n",
            "25/25 [==============================] - 13s 499ms/step - loss: 2.9882 - accuracy: 0.0544 - val_loss: 2.7737 - val_accuracy: 0.0625\n",
            "\n",
            "Epoch 00012: val_loss did not improve from 2.76483\n",
            "Epoch 13/200\n",
            "25/25 [==============================] - 13s 499ms/step - loss: 2.9942 - accuracy: 0.0542 - val_loss: 2.7716 - val_accuracy: 0.0938\n",
            "\n",
            "Epoch 00013: val_loss did not improve from 2.76483\n",
            "Epoch 14/200\n",
            "25/25 [==============================] - 13s 499ms/step - loss: 3.0557 - accuracy: 0.0768 - val_loss: 2.7731 - val_accuracy: 0.0938\n",
            "\n",
            "Epoch 00014: val_loss did not improve from 2.76483\n",
            "Epoch 15/200\n",
            "25/25 [==============================] - 13s 499ms/step - loss: 3.0362 - accuracy: 0.0455 - val_loss: 2.7745 - val_accuracy: 0.0312\n",
            "Restoring model weights from the end of the best epoch.\n",
            "\n",
            "Epoch 00015: val_loss did not improve from 2.76483\n",
            "Epoch 00015: early stopping\n"
          ],
          "name": "stdout"
        }
      ]
    },
    {
      "cell_type": "code",
      "metadata": {
        "id": "fpH1ADf0LrKC",
        "colab": {
          "base_uri": "https://localhost:8080/"
        },
        "outputId": "2f36623d-5832-4184-b588-a8eb63ffb93e"
      },
      "source": [
        "#@title inference model { form-width: \"25%\" }\r\n",
        "\r\n",
        "!wget https://api.wandb.ai/files/veri/IR/2fwa133x/model-best.h5\r\n",
        "\r\n",
        "model.load_weights('model-best.h5')\r\n",
        "\r\n",
        "bert_hf_layer.set_weights(model.layers[2].get_weights())\r\n",
        "densep.set_weights(model.layers[5].get_weights())\r\n",
        "denseq.set_weights(model.layers[6].get_weights())\r\n",
        "\r\n",
        "input_txt_ids = tf.keras.layers.Input(shape=(max_seq_length,), dtype=tf.int32)\r\n",
        "output = bert_hf_layer(input_ids=input_txt_ids).last_hidden_state[:,0]\r\n",
        "outp = densep(output)\r\n",
        "passage_encoder = tf.keras.Model(inputs=input_txt_ids, outputs=outp)\r\n",
        "outq = denseq(output)\r\n",
        "question_encoder = tf.keras.Model(inputs=input_txt_ids, outputs=outq)\r\n",
        "\r\n",
        "not_preprocessed = df_bert.loc[df_bert_val.index]['passage'].unique().tolist()\r\n",
        "prepr = preprocess_bert(not_preprocessed)\r\n",
        "#df_bert_val['passage']\r\n",
        "\r\n",
        "encoded_val_passage = np.zeros((len(prepr), 256))\r\n",
        "encoded_val_question = np.zeros((len(df_bert_val), 256))\r\n",
        "passages = np.stack(prepr)\r\n",
        "questions = np.stack(df_bert_val['question'])\r\n",
        "\r\n",
        "for i in tqdm(range(len(prepr)//batch_size)):\r\n",
        "    encoded_val_passage[i*batch_size : (i+1)*batch_size] = passage_encoder(passages[i*batch_size : (i+1)*batch_size])\r\n",
        "for i in tqdm(range(len(df_bert_val)//batch_size)):\r\n",
        "    encoded_val_question[i*batch_size : (i+1)*batch_size] = question_encoder(questions[i*batch_size : (i+1)*batch_size])"
      ],
      "execution_count": 12,
      "outputs": [
        {
          "output_type": "stream",
          "text": [
            "--2021-03-16 11:42:34--  https://api.wandb.ai/files/veri/IR/2fwa133x/model-best.h5\n",
            "Resolving api.wandb.ai (api.wandb.ai)... 35.186.228.49\n",
            "Connecting to api.wandb.ai (api.wandb.ai)|35.186.228.49|:443... connected.\n",
            "HTTP request sent, awaiting response... 307 Temporary Redirect\n",
            "Location: https://storage.googleapis.com/wandb-production.appspot.com/veri/IR/2fwa133x/model-best.h5?Expires=1615895014&GoogleAccessId=wandb-production%40appspot.gserviceaccount.com&Signature=WAbBMsOsKqFG24bjaRT3zRilUBFTPLiG9i7%2Fia34W329gXttogilnr2TLTQsGUYfXow06bpwZpv5JMQPQ4QLH%2BgeP9JJfrAE9AaUrE4Zl8N4PUqqVn7wyg%2F6vwOPCCIbCaTpuXICxIRsUsGhQJFPqsj%2FDWSkdxCfpZb%2BooUFb2M%2BkO1eAb%2FEr3iAGyQfn%2FCGeFpNHIiGMdiNVNw5FJFopSnt9l4f3JRPtOGWbe%2FAYCQ9DjeCTVCHtAXBuJ%2FMMHn%2BNRddX59HI9yHmBz%2FuneWNyGuqclfm1GnC9ZwLuWzhrNWFUWZev8MvnX2I9cGmZNH4ceVidqWFHUkn200TJXdFw%3D%3D [following]\n",
            "--2021-03-16 11:42:34--  https://storage.googleapis.com/wandb-production.appspot.com/veri/IR/2fwa133x/model-best.h5?Expires=1615895014&GoogleAccessId=wandb-production%40appspot.gserviceaccount.com&Signature=WAbBMsOsKqFG24bjaRT3zRilUBFTPLiG9i7%2Fia34W329gXttogilnr2TLTQsGUYfXow06bpwZpv5JMQPQ4QLH%2BgeP9JJfrAE9AaUrE4Zl8N4PUqqVn7wyg%2F6vwOPCCIbCaTpuXICxIRsUsGhQJFPqsj%2FDWSkdxCfpZb%2BooUFb2M%2BkO1eAb%2FEr3iAGyQfn%2FCGeFpNHIiGMdiNVNw5FJFopSnt9l4f3JRPtOGWbe%2FAYCQ9DjeCTVCHtAXBuJ%2FMMHn%2BNRddX59HI9yHmBz%2FuneWNyGuqclfm1GnC9ZwLuWzhrNWFUWZev8MvnX2I9cGmZNH4ceVidqWFHUkn200TJXdFw%3D%3D\n",
            "Resolving storage.googleapis.com (storage.googleapis.com)... 74.125.20.128, 74.125.142.128, 74.125.195.128, ...\n",
            "Connecting to storage.googleapis.com (storage.googleapis.com)|74.125.20.128|:443... connected.\n",
            "HTTP request sent, awaiting response... 200 OK\n",
            "Length: 54730552 (52M) [application/keras]\n",
            "Saving to: ‘model-best.h5’\n",
            "\n",
            "model-best.h5       100%[===================>]  52.19M   116MB/s    in 0.5s    \n",
            "\n",
            "2021-03-16 11:42:35 (116 MB/s) - ‘model-best.h5’ saved [54730552/54730552]\n",
            "\n",
            "WARNING:tensorflow:The parameters `output_attentions`, `output_hidden_states` and `use_cache` cannot be updated when calling a model.They have to be set to True/False in the config object (i.e.: `config=XConfig.from_pretrained('name', output_attentions=True)`).\n",
            "WARNING:tensorflow:The parameter `return_dict` cannot be set in graph mode and will always be set to `True`.\n"
          ],
          "name": "stdout"
        },
        {
          "output_type": "stream",
          "text": [
            "100%|██████████| 95/95 [00:08<00:00, 10.70it/s]\n",
            "100%|██████████| 431/431 [00:40<00:00, 10.75it/s]\n"
          ],
          "name": "stderr"
        }
      ]
    },
    {
      "cell_type": "code",
      "metadata": {
        "id": "IF-nu5TMxqkQ"
      },
      "source": [
        "dot = np.dot(encoded_val_passage,encoded_val_question.T)\r\n",
        "dot_sorted = np.argsort(dot, axis=0)\r\n",
        "dot_sorted = dot_sorted[::-1, :]"
      ],
      "execution_count": 13,
      "outputs": []
    },
    {
      "cell_type": "code",
      "metadata": {
        "id": "sHHP8Pt5oQs7",
        "colab": {
          "base_uri": "https://localhost:8080/"
        },
        "outputId": "f3aaae1d-f598-438c-e031-b4910948f021"
      },
      "source": [
        "dot_sorted"
      ],
      "execution_count": 14,
      "outputs": [
        {
          "output_type": "execute_result",
          "data": {
            "text/plain": [
              "array([[ 548,   42,   12, ..., 1520, 1520, 1520],\n",
              "       [ 551,   38,  836, ...,  509,  509,  509],\n",
              "       [ 672,   29,   42, ...,  500,  500,  500],\n",
              "       ...,\n",
              "       [ 463,  756,  784, ..., 1017, 1017, 1017],\n",
              "       [ 756,  784, 1472, ..., 1018, 1018, 1018],\n",
              "       [1210,  802,  802, ...,    0,    0,    0]])"
            ]
          },
          "metadata": {
            "tags": []
          },
          "execution_count": 14
        }
      ]
    },
    {
      "cell_type": "code",
      "metadata": {
        "id": "uwBfogVczJud"
      },
      "source": [
        "#@title recall - mrr { form-width: \"25%\" }\r\n",
        "\r\n",
        "import matplotlib.pyplot as plt\r\n",
        "\r\n",
        "K=10\r\n",
        "\r\n",
        "avg_recall = []\r\n",
        "mrr = []\r\n",
        "\r\n",
        "for k in range(1,K+1):\r\n",
        "    recall = []\r\n",
        "    reciprocal_ranks = []\r\n",
        "    for i in range(dot_sorted.shape[1]):\r\n",
        "        ok=0\r\n",
        "        mrr_found = False\r\n",
        "        for j in range(k):\r\n",
        "            if np.array_equal(passages[dot_sorted[j,i]], df_bert_val['passage'].iloc[i]):\r\n",
        "                ok = 1\r\n",
        "                reciprocal_ranks.append(1/(j+1))\r\n",
        "                mrr_found = True\r\n",
        "        if not mrr_found:\r\n",
        "            reciprocal_ranks.append(0)\r\n",
        "\r\n",
        "        recall.append(ok)\r\n",
        "\r\n",
        "    avg_recall.append(np.mean(recall))\r\n",
        "    mrr.append(np.mean(reciprocal_ranks))"
      ],
      "execution_count": 15,
      "outputs": []
    },
    {
      "cell_type": "code",
      "metadata": {
        "id": "00_aYxcXufaM",
        "colab": {
          "base_uri": "https://localhost:8080/",
          "height": 283
        },
        "outputId": "15998563-4346-414d-be10-58e70d99b892"
      },
      "source": [
        "#@title recall plot { form-width: \"25%\" }\r\n",
        "\r\n",
        "plt.plot(range(1,K+1), avg_recall, \"-s\");\r\n",
        "plt.ylim((0,1))\r\n",
        "plt.xlabel(\"recall\");\r\n",
        "plt.ylabel(\"precision\");"
      ],
      "execution_count": 17,
      "outputs": [
        {
          "output_type": "display_data",
          "data": {
            "image/png": "[encoded data removed]",
            "text/plain": [
              "<Figure size 432x288 with 1 Axes>"
            ]
          },
          "metadata": {
            "tags": [],
            "needs_background": "light"
          }
        }
      ]
    },
    {
      "cell_type": "code",
      "metadata": {
        "id": "XLAmE15bugkf",
        "colab": {
          "base_uri": "https://localhost:8080/",
          "height": 287
        },
        "outputId": "e2c76829-3f3d-4f8b-81a7-f75b9bda00dc"
      },
      "source": [
        "#@title mean reciprocal rank plot { form-width: \"25%\" }\r\n",
        "\r\n",
        "plt.plot(list(range(1,K+1)), mrr, \"-s\");\r\n",
        "plt.xlim((1,K))\r\n",
        "plt.ylim((0,1))"
      ],
      "execution_count": 18,
      "outputs": [
        {
          "output_type": "execute_result",
          "data": {
            "text/plain": [
              "(0.0, 1.0)"
            ]
          },
          "metadata": {
            "tags": []
          },
          "execution_count": 18
        },
        {
          "output_type": "display_data",
          "data": {
            "image/png": "[encoded data removed]",
            "text/plain": [
              "<Figure size 432x288 with 1 Axes>"
            ]
          },
          "metadata": {
            "tags": [],
            "needs_background": "light"
          }
        }
      ]
    }
  ]
}