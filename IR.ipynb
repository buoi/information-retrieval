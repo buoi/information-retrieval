{
  "nbformat": 4,
  "nbformat_minor": 0,
  "metadata": {
    "colab": {
      "name": "Copia di IR_3",
      "provenance": [],
      "collapsed_sections": [],
      "machine_shape": "hm",
      "include_colab_link": true
    },
    "kernelspec": {
      "display_name": "Python 3",
      "name": "python3"
    },
    "accelerator": "GPU",
    "widgets": {
      "application/vnd.jupyter.widget-state+json": {
        "ee733a22418e4bdb94240d6fe3233de9": {
          "model_module": "@jupyter-widgets/controls",
          "model_name": "HBoxModel",
          "state": {
            "_view_name": "HBoxView",
            "_dom_classes": [],
            "_model_name": "HBoxModel",
            "_view_module": "@jupyter-widgets/controls",
            "_model_module_version": "1.5.0",
            "_view_count": null,
            "_view_module_version": "1.5.0",
            "box_style": "",
            "layout": "IPY_MODEL_aa6c69b65ef741f9b44deafff6d574c9",
            "_model_module": "@jupyter-widgets/controls",
            "children": [
              "IPY_MODEL_409dc4b30c3844b6ae5e7c52b67141de",
              "IPY_MODEL_4da7ef7d616d4f4d99fdb8f95cf181f1"
            ]
          }
        },
        "aa6c69b65ef741f9b44deafff6d574c9": {
          "model_module": "@jupyter-widgets/base",
          "model_name": "LayoutModel",
          "state": {
            "_view_name": "LayoutView",
            "grid_template_rows": null,
            "right": null,
            "justify_content": null,
            "_view_module": "@jupyter-widgets/base",
            "overflow": null,
            "_model_module_version": "1.2.0",
            "_view_count": null,
            "flex_flow": null,
            "width": null,
            "min_width": null,
            "border": null,
            "align_items": null,
            "bottom": null,
            "_model_module": "@jupyter-widgets/base",
            "top": null,
            "grid_column": null,
            "overflow_y": null,
            "overflow_x": null,
            "grid_auto_flow": null,
            "grid_area": null,
            "grid_template_columns": null,
            "flex": null,
            "_model_name": "LayoutModel",
            "justify_items": null,
            "grid_row": null,
            "max_height": null,
            "align_content": null,
            "visibility": null,
            "align_self": null,
            "height": null,
            "min_height": null,
            "padding": null,
            "grid_auto_rows": null,
            "grid_gap": null,
            "max_width": null,
            "order": null,
            "_view_module_version": "1.2.0",
            "grid_template_areas": null,
            "object_position": null,
            "object_fit": null,
            "grid_auto_columns": null,
            "margin": null,
            "display": null,
            "left": null
          }
        },
        "409dc4b30c3844b6ae5e7c52b67141de": {
          "model_module": "@jupyter-widgets/controls",
          "model_name": "FloatProgressModel",
          "state": {
            "_view_name": "ProgressView",
            "style": "IPY_MODEL_6b9909e19ada4560a1c7019e0de8c620",
            "_dom_classes": [],
            "description": "100%",
            "_model_name": "FloatProgressModel",
            "bar_style": "success",
            "max": 87364,
            "_view_module": "@jupyter-widgets/controls",
            "_model_module_version": "1.5.0",
            "value": 87364,
            "_view_count": null,
            "_view_module_version": "1.5.0",
            "orientation": "horizontal",
            "min": 0,
            "description_tooltip": null,
            "_model_module": "@jupyter-widgets/controls",
            "layout": "IPY_MODEL_811008fe3c8c456e964599a1f3258923"
          }
        },
        "4da7ef7d616d4f4d99fdb8f95cf181f1": {
          "model_module": "@jupyter-widgets/controls",
          "model_name": "HTMLModel",
          "state": {
            "_view_name": "HTMLView",
            "style": "IPY_MODEL_104b889bbf4c4d548636cda0bb1ca7f9",
            "_dom_classes": [],
            "description": "",
            "_model_name": "HTMLModel",
            "placeholder": "​",
            "_view_module": "@jupyter-widgets/controls",
            "_model_module_version": "1.5.0",
            "value": " 87364/87364 [06:00&lt;00:00, 242.23it/s]",
            "_view_count": null,
            "_view_module_version": "1.5.0",
            "description_tooltip": null,
            "_model_module": "@jupyter-widgets/controls",
            "layout": "IPY_MODEL_9e56a33a6f2d4197be566a4b6183319a"
          }
        },
        "6b9909e19ada4560a1c7019e0de8c620": {
          "model_module": "@jupyter-widgets/controls",
          "model_name": "ProgressStyleModel",
          "state": {
            "_view_name": "StyleView",
            "_model_name": "ProgressStyleModel",
            "description_width": "initial",
            "_view_module": "@jupyter-widgets/base",
            "_model_module_version": "1.5.0",
            "_view_count": null,
            "_view_module_version": "1.2.0",
            "bar_color": null,
            "_model_module": "@jupyter-widgets/controls"
          }
        },
        "811008fe3c8c456e964599a1f3258923": {
          "model_module": "@jupyter-widgets/base",
          "model_name": "LayoutModel",
          "state": {
            "_view_name": "LayoutView",
            "grid_template_rows": null,
            "right": null,
            "justify_content": null,
            "_view_module": "@jupyter-widgets/base",
            "overflow": null,
            "_model_module_version": "1.2.0",
            "_view_count": null,
            "flex_flow": null,
            "width": null,
            "min_width": null,
            "border": null,
            "align_items": null,
            "bottom": null,
            "_model_module": "@jupyter-widgets/base",
            "top": null,
            "grid_column": null,
            "overflow_y": null,
            "overflow_x": null,
            "grid_auto_flow": null,
            "grid_area": null,
            "grid_template_columns": null,
            "flex": null,
            "_model_name": "LayoutModel",
            "justify_items": null,
            "grid_row": null,
            "max_height": null,
            "align_content": null,
            "visibility": null,
            "align_self": null,
            "height": null,
            "min_height": null,
            "padding": null,
            "grid_auto_rows": null,
            "grid_gap": null,
            "max_width": null,
            "order": null,
            "_view_module_version": "1.2.0",
            "grid_template_areas": null,
            "object_position": null,
            "object_fit": null,
            "grid_auto_columns": null,
            "margin": null,
            "display": null,
            "left": null
          }
        },
        "104b889bbf4c4d548636cda0bb1ca7f9": {
          "model_module": "@jupyter-widgets/controls",
          "model_name": "DescriptionStyleModel",
          "state": {
            "_view_name": "StyleView",
            "_model_name": "DescriptionStyleModel",
            "description_width": "",
            "_view_module": "@jupyter-widgets/base",
            "_model_module_version": "1.5.0",
            "_view_count": null,
            "_view_module_version": "1.2.0",
            "_model_module": "@jupyter-widgets/controls"
          }
        },
        "9e56a33a6f2d4197be566a4b6183319a": {
          "model_module": "@jupyter-widgets/base",
          "model_name": "LayoutModel",
          "state": {
            "_view_name": "LayoutView",
            "grid_template_rows": null,
            "right": null,
            "justify_content": null,
            "_view_module": "@jupyter-widgets/base",
            "overflow": null,
            "_model_module_version": "1.2.0",
            "_view_count": null,
            "flex_flow": null,
            "width": null,
            "min_width": null,
            "border": null,
            "align_items": null,
            "bottom": null,
            "_model_module": "@jupyter-widgets/base",
            "top": null,
            "grid_column": null,
            "overflow_y": null,
            "overflow_x": null,
            "grid_auto_flow": null,
            "grid_area": null,
            "grid_template_columns": null,
            "flex": null,
            "_model_name": "LayoutModel",
            "justify_items": null,
            "grid_row": null,
            "max_height": null,
            "align_content": null,
            "visibility": null,
            "align_self": null,
            "height": null,
            "min_height": null,
            "padding": null,
            "grid_auto_rows": null,
            "grid_gap": null,
            "max_width": null,
            "order": null,
            "_view_module_version": "1.2.0",
            "grid_template_areas": null,
            "object_position": null,
            "object_fit": null,
            "grid_auto_columns": null,
            "margin": null,
            "display": null,
            "left": null
          }
        },
        "c9e5a628539a4cfa880938af86a9bad2": {
          "model_module": "@jupyter-widgets/controls",
          "model_name": "HBoxModel",
          "state": {
            "_view_name": "HBoxView",
            "_dom_classes": [],
            "_model_name": "HBoxModel",
            "_view_module": "@jupyter-widgets/controls",
            "_model_module_version": "1.5.0",
            "_view_count": null,
            "_view_module_version": "1.5.0",
            "box_style": "",
            "layout": "IPY_MODEL_5e81a4a221db4c5d9a6d6b349f72e26e",
            "_model_module": "@jupyter-widgets/controls",
            "children": [
              "IPY_MODEL_431f7f57c4834836896d1bf87c34705c",
              "IPY_MODEL_43aa18edf26349f39fdd72b713b7d1e7"
            ]
          }
        },
        "5e81a4a221db4c5d9a6d6b349f72e26e": {
          "model_module": "@jupyter-widgets/base",
          "model_name": "LayoutModel",
          "state": {
            "_view_name": "LayoutView",
            "grid_template_rows": null,
            "right": null,
            "justify_content": null,
            "_view_module": "@jupyter-widgets/base",
            "overflow": null,
            "_model_module_version": "1.2.0",
            "_view_count": null,
            "flex_flow": null,
            "width": null,
            "min_width": null,
            "border": null,
            "align_items": null,
            "bottom": null,
            "_model_module": "@jupyter-widgets/base",
            "top": null,
            "grid_column": null,
            "overflow_y": null,
            "overflow_x": null,
            "grid_auto_flow": null,
            "grid_area": null,
            "grid_template_columns": null,
            "flex": null,
            "_model_name": "LayoutModel",
            "justify_items": null,
            "grid_row": null,
            "max_height": null,
            "align_content": null,
            "visibility": null,
            "align_self": null,
            "height": null,
            "min_height": null,
            "padding": null,
            "grid_auto_rows": null,
            "grid_gap": null,
            "max_width": null,
            "order": null,
            "_view_module_version": "1.2.0",
            "grid_template_areas": null,
            "object_position": null,
            "object_fit": null,
            "grid_auto_columns": null,
            "margin": null,
            "display": null,
            "left": null
          }
        },
        "431f7f57c4834836896d1bf87c34705c": {
          "model_module": "@jupyter-widgets/controls",
          "model_name": "FloatProgressModel",
          "state": {
            "_view_name": "ProgressView",
            "style": "IPY_MODEL_16fb014539694c3fb7eb37dd0924deba",
            "_dom_classes": [],
            "description": "100%",
            "_model_name": "FloatProgressModel",
            "bar_style": "success",
            "max": 174728,
            "_view_module": "@jupyter-widgets/controls",
            "_model_module_version": "1.5.0",
            "value": 174728,
            "_view_count": null,
            "_view_module_version": "1.5.0",
            "orientation": "horizontal",
            "min": 0,
            "description_tooltip": null,
            "_model_module": "@jupyter-widgets/controls",
            "layout": "IPY_MODEL_78a8d13f435c42b5b1e04b3785c541f0"
          }
        },
        "43aa18edf26349f39fdd72b713b7d1e7": {
          "model_module": "@jupyter-widgets/controls",
          "model_name": "HTMLModel",
          "state": {
            "_view_name": "HTMLView",
            "style": "IPY_MODEL_4e0058533d9b4be584ecd978a02fbb49",
            "_dom_classes": [],
            "description": "",
            "_model_name": "HTMLModel",
            "placeholder": "​",
            "_view_module": "@jupyter-widgets/controls",
            "_model_module_version": "1.5.0",
            "value": " 174728/174728 [21:28&lt;00:00, 135.64it/s]",
            "_view_count": null,
            "_view_module_version": "1.5.0",
            "description_tooltip": null,
            "_model_module": "@jupyter-widgets/controls",
            "layout": "IPY_MODEL_484876ec24b348f9902473b9c0a66c6d"
          }
        },
        "16fb014539694c3fb7eb37dd0924deba": {
          "model_module": "@jupyter-widgets/controls",
          "model_name": "ProgressStyleModel",
          "state": {
            "_view_name": "StyleView",
            "_model_name": "ProgressStyleModel",
            "description_width": "initial",
            "_view_module": "@jupyter-widgets/base",
            "_model_module_version": "1.5.0",
            "_view_count": null,
            "_view_module_version": "1.2.0",
            "bar_color": null,
            "_model_module": "@jupyter-widgets/controls"
          }
        },
        "78a8d13f435c42b5b1e04b3785c541f0": {
          "model_module": "@jupyter-widgets/base",
          "model_name": "LayoutModel",
          "state": {
            "_view_name": "LayoutView",
            "grid_template_rows": null,
            "right": null,
            "justify_content": null,
            "_view_module": "@jupyter-widgets/base",
            "overflow": null,
            "_model_module_version": "1.2.0",
            "_view_count": null,
            "flex_flow": null,
            "width": null,
            "min_width": null,
            "border": null,
            "align_items": null,
            "bottom": null,
            "_model_module": "@jupyter-widgets/base",
            "top": null,
            "grid_column": null,
            "overflow_y": null,
            "overflow_x": null,
            "grid_auto_flow": null,
            "grid_area": null,
            "grid_template_columns": null,
            "flex": null,
            "_model_name": "LayoutModel",
            "justify_items": null,
            "grid_row": null,
            "max_height": null,
            "align_content": null,
            "visibility": null,
            "align_self": null,
            "height": null,
            "min_height": null,
            "padding": null,
            "grid_auto_rows": null,
            "grid_gap": null,
            "max_width": null,
            "order": null,
            "_view_module_version": "1.2.0",
            "grid_template_areas": null,
            "object_position": null,
            "object_fit": null,
            "grid_auto_columns": null,
            "margin": null,
            "display": null,
            "left": null
          }
        },
        "4e0058533d9b4be584ecd978a02fbb49": {
          "model_module": "@jupyter-widgets/controls",
          "model_name": "DescriptionStyleModel",
          "state": {
            "_view_name": "StyleView",
            "_model_name": "DescriptionStyleModel",
            "description_width": "",
            "_view_module": "@jupyter-widgets/base",
            "_model_module_version": "1.5.0",
            "_view_count": null,
            "_view_module_version": "1.2.0",
            "_model_module": "@jupyter-widgets/controls"
          }
        },
        "484876ec24b348f9902473b9c0a66c6d": {
          "model_module": "@jupyter-widgets/base",
          "model_name": "LayoutModel",
          "state": {
            "_view_name": "LayoutView",
            "grid_template_rows": null,
            "right": null,
            "justify_content": null,
            "_view_module": "@jupyter-widgets/base",
            "overflow": null,
            "_model_module_version": "1.2.0",
            "_view_count": null,
            "flex_flow": null,
            "width": null,
            "min_width": null,
            "border": null,
            "align_items": null,
            "bottom": null,
            "_model_module": "@jupyter-widgets/base",
            "top": null,
            "grid_column": null,
            "overflow_y": null,
            "overflow_x": null,
            "grid_auto_flow": null,
            "grid_area": null,
            "grid_template_columns": null,
            "flex": null,
            "_model_name": "LayoutModel",
            "justify_items": null,
            "grid_row": null,
            "max_height": null,
            "align_content": null,
            "visibility": null,
            "align_self": null,
            "height": null,
            "min_height": null,
            "padding": null,
            "grid_auto_rows": null,
            "grid_gap": null,
            "max_width": null,
            "order": null,
            "_view_module_version": "1.2.0",
            "grid_template_areas": null,
            "object_position": null,
            "object_fit": null,
            "grid_auto_columns": null,
            "margin": null,
            "display": null,
            "left": null
          }
        }
      }
    }
  },
  "cells": [
    {
      "cell_type": "markdown",
      "metadata": {
        "id": "view-in-github",
        "colab_type": "text"
      },
      "source": [
        "<a href=\"https://colab.research.google.com/github/the-SQuAD-squad/IR/blob/electra/IR.ipynb\" target=\"_parent\"><img src=\"https://colab.research.google.com/assets/colab-badge.svg\" alt=\"Open In Colab\"/></a>"
      ]
    },
    {
      "cell_type": "markdown",
      "metadata": {
        "id": "-QeSehvkoMtT"
      },
      "source": [
        "DA FARE: \r\n",
        "-Sistemare dataset in modo che le coppie domanda passaggio siano giuste\r\n",
        "-Provare modello dense, senza trainare Bert"
      ]
    },
    {
      "cell_type": "code",
      "metadata": {
        "id": "wFibP1RFJ2jZ",
        "colab": {
          "base_uri": "https://localhost:8080/"
        },
        "outputId": "c4c9c1b7-0820-4cc2-8f3e-604999a770f3"
      },
      "source": [
        "#@title Init { form-width: \"25%\" }\n",
        "import os\n",
        "import random\n",
        "import math\n",
        "import numpy as np\n",
        "import tensorflow as tf\n",
        "import json\n",
        "import pandas as pd\n",
        "import re\n",
        "import string\n",
        "import tensorflow_hub as hub\n",
        "from tensorflow import keras\n",
        "from tensorflow.keras import layers\n",
        "from tqdm.notebook import tqdm\n",
        "!pip install tokenizers\n",
        "\n",
        "from tokenizers import BertWordPieceTokenizer\n",
        "\n",
        "!pip install transformers\n",
        "import transformers\n",
        "from transformers import AutoTokenizer\n",
        "pd.set_option('display.max_colwidth', -1)\n",
        "\n",
        "# fix random seeds\n",
        "seed_value = 42 #@param {type:\"integer\"}\n",
        "\n",
        "os.environ['PYTHONHASHSEED']=str(seed_value)\n",
        "random.seed(seed_value)\n",
        "np.random.seed(seed_value)\n",
        "\n",
        "tf.compat.v1.set_random_seed(seed_value)\n",
        "\n",
        "session_conf = tf.compat.v1.ConfigProto(intra_op_parallelism_threads=1, inter_op_parallelism_threads=1)\n",
        "sess = tf.compat.v1.Session(graph=tf.compat.v1.get_default_graph(), config=session_conf)\n",
        "tf.compat.v1.keras.backend.set_session(sess)\n",
        "\n",
        "# BERT params\n",
        "max_seq_length = 512\n",
        "# Huggingface bert and associated tokenizer\n",
        "pretrained_model_str = \"google/electra-small-discriminator\"\n",
        "bert_hf_layer = transformers.TFElectraModel.from_pretrained(\n",
        "    pretrained_model_str, output_attentions=True)\n",
        "\n",
        "#pretrained_model_str = \"roberta-base\"\n",
        "#bert_hf_layer = transformers.TFRobertaModel.from_pretrained(\n",
        "    #pretrained_model_str, output_attentions=True)\n",
        "\n",
        "tokenizer = AutoTokenizer.from_pretrained(pretrained_model_str)\n",
        "\n",
        "!nvidia-smi"
      ],
      "execution_count": 1,
      "outputs": [
        {
          "output_type": "stream",
          "text": [
            "Requirement already satisfied: tokenizers in /usr/local/lib/python3.7/dist-packages (0.10.1)\n",
            "Requirement already satisfied: transformers in /usr/local/lib/python3.7/dist-packages (4.3.2)\n",
            "Requirement already satisfied: sacremoses in /usr/local/lib/python3.7/dist-packages (from transformers) (0.0.43)\n",
            "Requirement already satisfied: filelock in /usr/local/lib/python3.7/dist-packages (from transformers) (3.0.12)\n",
            "Requirement already satisfied: numpy>=1.17 in /usr/local/lib/python3.7/dist-packages (from transformers) (1.19.5)\n",
            "Requirement already satisfied: packaging in /usr/local/lib/python3.7/dist-packages (from transformers) (20.9)\n",
            "Requirement already satisfied: tqdm>=4.27 in /usr/local/lib/python3.7/dist-packages (from transformers) (4.41.1)\n",
            "Requirement already satisfied: requests in /usr/local/lib/python3.7/dist-packages (from transformers) (2.23.0)\n",
            "Requirement already satisfied: tokenizers<0.11,>=0.10.1 in /usr/local/lib/python3.7/dist-packages (from transformers) (0.10.1)\n",
            "Requirement already satisfied: importlib-metadata; python_version < \"3.8\" in /usr/local/lib/python3.7/dist-packages (from transformers) (3.4.0)\n",
            "Requirement already satisfied: regex!=2019.12.17 in /usr/local/lib/python3.7/dist-packages (from transformers) (2019.12.20)\n",
            "Requirement already satisfied: click in /usr/local/lib/python3.7/dist-packages (from sacremoses->transformers) (7.1.2)\n",
            "Requirement already satisfied: joblib in /usr/local/lib/python3.7/dist-packages (from sacremoses->transformers) (1.0.1)\n",
            "Requirement already satisfied: six in /usr/local/lib/python3.7/dist-packages (from sacremoses->transformers) (1.15.0)\n",
            "Requirement already satisfied: pyparsing>=2.0.2 in /usr/local/lib/python3.7/dist-packages (from packaging->transformers) (2.4.7)\n",
            "Requirement already satisfied: urllib3!=1.25.0,!=1.25.1,<1.26,>=1.21.1 in /usr/local/lib/python3.7/dist-packages (from requests->transformers) (1.24.3)\n",
            "Requirement already satisfied: chardet<4,>=3.0.2 in /usr/local/lib/python3.7/dist-packages (from requests->transformers) (3.0.4)\n",
            "Requirement already satisfied: idna<3,>=2.5 in /usr/local/lib/python3.7/dist-packages (from requests->transformers) (2.10)\n",
            "Requirement already satisfied: certifi>=2017.4.17 in /usr/local/lib/python3.7/dist-packages (from requests->transformers) (2020.12.5)\n",
            "Requirement already satisfied: typing-extensions>=3.6.4; python_version < \"3.8\" in /usr/local/lib/python3.7/dist-packages (from importlib-metadata; python_version < \"3.8\"->transformers) (3.7.4.3)\n",
            "Requirement already satisfied: zipp>=0.5 in /usr/local/lib/python3.7/dist-packages (from importlib-metadata; python_version < \"3.8\"->transformers) (3.4.0)\n"
          ],
          "name": "stdout"
        },
        {
          "output_type": "stream",
          "text": [
            "/usr/local/lib/python3.7/dist-packages/ipykernel_launcher.py:22: FutureWarning: Passing a negative integer is deprecated in version 1.0 and will not be supported in future version. Instead, use None to not limit the column width.\n",
            "Some layers from the model checkpoint at google/electra-small-discriminator were not used when initializing TFElectraModel: ['discriminator_predictions']\n",
            "- This IS expected if you are initializing TFElectraModel from the checkpoint of a model trained on another task or with another architecture (e.g. initializing a BertForSequenceClassification model from a BertForPreTraining model).\n",
            "- This IS NOT expected if you are initializing TFElectraModel from the checkpoint of a model that you expect to be exactly identical (initializing a BertForSequenceClassification model from a BertForSequenceClassification model).\n",
            "All the layers of TFElectraModel were initialized from the model checkpoint at google/electra-small-discriminator.\n",
            "If your task is similar to the task the model of the checkpoint was trained on, you can already use TFElectraModel for predictions without further training.\n"
          ],
          "name": "stderr"
        },
        {
          "output_type": "stream",
          "text": [
            "Tue Feb 23 19:11:46 2021       \n",
            "+-----------------------------------------------------------------------------+\n",
            "| NVIDIA-SMI 460.39       Driver Version: 460.32.03    CUDA Version: 11.2     |\n",
            "|-------------------------------+----------------------+----------------------+\n",
            "| GPU  Name        Persistence-M| Bus-Id        Disp.A | Volatile Uncorr. ECC |\n",
            "| Fan  Temp  Perf  Pwr:Usage/Cap|         Memory-Usage | GPU-Util  Compute M. |\n",
            "|                               |                      |               MIG M. |\n",
            "|===============================+======================+======================|\n",
            "|   0  Tesla P100-PCIE...  Off  | 00000000:00:04.0 Off |                    0 |\n",
            "| N/A   47C    P0    40W / 250W |    515MiB / 16280MiB |      0%      Default |\n",
            "|                               |                      |                  N/A |\n",
            "+-------------------------------+----------------------+----------------------+\n",
            "                                                                               \n",
            "+-----------------------------------------------------------------------------+\n",
            "| Processes:                                                                  |\n",
            "|  GPU   GI   CI        PID   Type   Process name                  GPU Memory |\n",
            "|        ID   ID                                                   Usage      |\n",
            "|=============================================================================|\n",
            "+-----------------------------------------------------------------------------+\n"
          ],
          "name": "stdout"
        }
      ]
    },
    {
      "cell_type": "code",
      "metadata": {
        "id": "PUGjp7aOKRyW",
        "colab": {
          "base_uri": "https://localhost:8080/"
        },
        "outputId": "eb6775f3-c392-478d-8662-a8c72e9a934a"
      },
      "source": [
        "#@title df creation { form-width: \"25%\" }\n",
        "\n",
        "# the official dataset is identical to the provided one\n",
        "!wget https://rajpurkar.github.io/SQuAD-explorer/dataset/train-v1.1.json -O training_set.json\n",
        "\n",
        "with open(\"training_set.json\", \"r\") as f:\n",
        "    json_file = json.load(f)\n",
        "data = json_file[\"data\"]\n",
        "\n",
        "rows = []\n",
        "for document in data:\n",
        "  for par in document['paragraphs']:\n",
        "    for qas in par['qas']:\n",
        "      rows.append({\n",
        "        'id' : qas['id'],\n",
        "        'title': document[\"title\"],\n",
        "        'passage': par['context'],\n",
        "        'question' : qas['question'],\n",
        "        'answer_idx' : (qas['answers'][0]['answer_start'], \n",
        "                    qas['answers'][0]['answer_start'] + len(qas['answers'][0]['text'])),\n",
        "        'answer_text' : qas['answers'][0]['text']\n",
        "      })\n",
        "\n",
        "df_original = pd.DataFrame(rows)"
      ],
      "execution_count": 2,
      "outputs": [
        {
          "output_type": "stream",
          "text": [
            "--2021-02-23 19:11:46--  https://rajpurkar.github.io/SQuAD-explorer/dataset/train-v1.1.json\n",
            "Resolving rajpurkar.github.io (rajpurkar.github.io)... 185.199.108.153, 185.199.110.153, 185.199.111.153, ...\n",
            "Connecting to rajpurkar.github.io (rajpurkar.github.io)|185.199.108.153|:443... connected.\n",
            "HTTP request sent, awaiting response... 200 OK\n",
            "Length: 30288272 (29M) [application/json]\n",
            "Saving to: ‘training_set.json’\n",
            "\n",
            "training_set.json   100%[===================>]  28.88M  55.2MB/s    in 0.5s    \n",
            "\n",
            "2021-02-23 19:11:47 (55.2 MB/s) - ‘training_set.json’ saved [30288272/30288272]\n",
            "\n"
          ],
          "name": "stdout"
        }
      ]
    },
    {
      "cell_type": "code",
      "metadata": {
        "id": "ssgBa3_tKpM8",
        "colab": {
          "base_uri": "https://localhost:8080/",
          "height": 658
        },
        "outputId": "41eff4db-3550-43cf-8e38-c56e020143e6"
      },
      "source": [
        "#@title clean dataset { form-width: \"25%\" }\n",
        "\n",
        "!gcloud config set project feisty-mechanic-221914\n",
        "!gsutil cp gs://squad_squad/error_IDs.txt ./error_IDs.txt\n",
        "\n",
        "with open(\"error_IDs.txt\", \"r\") as f:\n",
        "    unwanted_id = f.read()\n",
        "\n",
        "unwanted_id = unwanted_id.split(\"\\n\")[:-1]\n",
        "df_bert = df_original.set_index('id')\n",
        "df_bert = df_bert.drop(unwanted_id)\n",
        "df_bert.head()"
      ],
      "execution_count": 3,
      "outputs": [
        {
          "output_type": "stream",
          "text": [
            "Updated property [core/project].\n",
            "Copying gs://squad_squad/error_IDs.txt...\n",
            "/ [1 files][  5.7 KiB/  5.7 KiB]                                                \n",
            "Operation completed over 1 objects/5.7 KiB.                                      \n"
          ],
          "name": "stdout"
        },
        {
          "output_type": "execute_result",
          "data": {
            "text/html": [
              "<div>\n",
              "<style scoped>\n",
              "    .dataframe tbody tr th:only-of-type {\n",
              "        vertical-align: middle;\n",
              "    }\n",
              "\n",
              "    .dataframe tbody tr th {\n",
              "        vertical-align: top;\n",
              "    }\n",
              "\n",
              "    .dataframe thead th {\n",
              "        text-align: right;\n",
              "    }\n",
              "</style>\n",
              "<table border=\"1\" class=\"dataframe\">\n",
              "  <thead>\n",
              "    <tr style=\"text-align: right;\">\n",
              "      <th></th>\n",
              "      <th>title</th>\n",
              "      <th>passage</th>\n",
              "      <th>question</th>\n",
              "      <th>answer_idx</th>\n",
              "      <th>answer_text</th>\n",
              "    </tr>\n",
              "    <tr>\n",
              "      <th>id</th>\n",
              "      <th></th>\n",
              "      <th></th>\n",
              "      <th></th>\n",
              "      <th></th>\n",
              "      <th></th>\n",
              "    </tr>\n",
              "  </thead>\n",
              "  <tbody>\n",
              "    <tr>\n",
              "      <th>5733be284776f41900661182</th>\n",
              "      <td>University_of_Notre_Dame</td>\n",
              "      <td>Architecturally, the school has a Catholic character. Atop the Main Building's gold dome is a golden statue of the Virgin Mary. Immediately in front of the Main Building and facing it, is a copper statue of Christ with arms upraised with the legend \"Venite Ad Me Omnes\". Next to the Main Building is the Basilica of the Sacred Heart. Immediately behind the basilica is the Grotto, a Marian place of prayer and reflection. It is a replica of the grotto at Lourdes, France where the Virgin Mary reputedly appeared to Saint Bernadette Soubirous in 1858. At the end of the main drive (and in a direct line that connects through 3 statues and the Gold Dome), is a simple, modern stone statue of Mary.</td>\n",
              "      <td>To whom did the Virgin Mary allegedly appear in 1858 in Lourdes France?</td>\n",
              "      <td>(515, 541)</td>\n",
              "      <td>Saint Bernadette Soubirous</td>\n",
              "    </tr>\n",
              "    <tr>\n",
              "      <th>5733be284776f4190066117f</th>\n",
              "      <td>University_of_Notre_Dame</td>\n",
              "      <td>Architecturally, the school has a Catholic character. Atop the Main Building's gold dome is a golden statue of the Virgin Mary. Immediately in front of the Main Building and facing it, is a copper statue of Christ with arms upraised with the legend \"Venite Ad Me Omnes\". Next to the Main Building is the Basilica of the Sacred Heart. Immediately behind the basilica is the Grotto, a Marian place of prayer and reflection. It is a replica of the grotto at Lourdes, France where the Virgin Mary reputedly appeared to Saint Bernadette Soubirous in 1858. At the end of the main drive (and in a direct line that connects through 3 statues and the Gold Dome), is a simple, modern stone statue of Mary.</td>\n",
              "      <td>What is in front of the Notre Dame Main Building?</td>\n",
              "      <td>(188, 213)</td>\n",
              "      <td>a copper statue of Christ</td>\n",
              "    </tr>\n",
              "    <tr>\n",
              "      <th>5733be284776f41900661180</th>\n",
              "      <td>University_of_Notre_Dame</td>\n",
              "      <td>Architecturally, the school has a Catholic character. Atop the Main Building's gold dome is a golden statue of the Virgin Mary. Immediately in front of the Main Building and facing it, is a copper statue of Christ with arms upraised with the legend \"Venite Ad Me Omnes\". Next to the Main Building is the Basilica of the Sacred Heart. Immediately behind the basilica is the Grotto, a Marian place of prayer and reflection. It is a replica of the grotto at Lourdes, France where the Virgin Mary reputedly appeared to Saint Bernadette Soubirous in 1858. At the end of the main drive (and in a direct line that connects through 3 statues and the Gold Dome), is a simple, modern stone statue of Mary.</td>\n",
              "      <td>The Basilica of the Sacred heart at Notre Dame is beside to which structure?</td>\n",
              "      <td>(279, 296)</td>\n",
              "      <td>the Main Building</td>\n",
              "    </tr>\n",
              "    <tr>\n",
              "      <th>5733be284776f41900661181</th>\n",
              "      <td>University_of_Notre_Dame</td>\n",
              "      <td>Architecturally, the school has a Catholic character. Atop the Main Building's gold dome is a golden statue of the Virgin Mary. Immediately in front of the Main Building and facing it, is a copper statue of Christ with arms upraised with the legend \"Venite Ad Me Omnes\". Next to the Main Building is the Basilica of the Sacred Heart. Immediately behind the basilica is the Grotto, a Marian place of prayer and reflection. It is a replica of the grotto at Lourdes, France where the Virgin Mary reputedly appeared to Saint Bernadette Soubirous in 1858. At the end of the main drive (and in a direct line that connects through 3 statues and the Gold Dome), is a simple, modern stone statue of Mary.</td>\n",
              "      <td>What is the Grotto at Notre Dame?</td>\n",
              "      <td>(381, 420)</td>\n",
              "      <td>a Marian place of prayer and reflection</td>\n",
              "    </tr>\n",
              "    <tr>\n",
              "      <th>5733be284776f4190066117e</th>\n",
              "      <td>University_of_Notre_Dame</td>\n",
              "      <td>Architecturally, the school has a Catholic character. Atop the Main Building's gold dome is a golden statue of the Virgin Mary. Immediately in front of the Main Building and facing it, is a copper statue of Christ with arms upraised with the legend \"Venite Ad Me Omnes\". Next to the Main Building is the Basilica of the Sacred Heart. Immediately behind the basilica is the Grotto, a Marian place of prayer and reflection. It is a replica of the grotto at Lourdes, France where the Virgin Mary reputedly appeared to Saint Bernadette Soubirous in 1858. At the end of the main drive (and in a direct line that connects through 3 statues and the Gold Dome), is a simple, modern stone statue of Mary.</td>\n",
              "      <td>What sits on top of the Main Building at Notre Dame?</td>\n",
              "      <td>(92, 126)</td>\n",
              "      <td>a golden statue of the Virgin Mary</td>\n",
              "    </tr>\n",
              "  </tbody>\n",
              "</table>\n",
              "</div>"
            ],
            "text/plain": [
              "                                             title  ...                              answer_text\n",
              "id                                                  ...                                         \n",
              "5733be284776f41900661182  University_of_Notre_Dame  ...  Saint Bernadette Soubirous             \n",
              "5733be284776f4190066117f  University_of_Notre_Dame  ...  a copper statue of Christ              \n",
              "5733be284776f41900661180  University_of_Notre_Dame  ...  the Main Building                      \n",
              "5733be284776f41900661181  University_of_Notre_Dame  ...  a Marian place of prayer and reflection\n",
              "5733be284776f4190066117e  University_of_Notre_Dame  ...  a golden statue of the Virgin Mary     \n",
              "\n",
              "[5 rows x 5 columns]"
            ]
          },
          "metadata": {
            "tags": []
          },
          "execution_count": 3
        }
      ]
    },
    {
      "cell_type": "code",
      "metadata": {
        "id": "A5ihqA3N-nFK",
        "colab": {
          "base_uri": "https://localhost:8080/",
          "height": 104,
          "referenced_widgets": [
            "ee733a22418e4bdb94240d6fe3233de9",
            "aa6c69b65ef741f9b44deafff6d574c9",
            "409dc4b30c3844b6ae5e7c52b67141de",
            "4da7ef7d616d4f4d99fdb8f95cf181f1",
            "6b9909e19ada4560a1c7019e0de8c620",
            "811008fe3c8c456e964599a1f3258923",
            "104b889bbf4c4d548636cda0bb1ca7f9",
            "9e56a33a6f2d4197be566a4b6183319a"
          ]
        },
        "outputId": "5f996ce2-9522-4172-c4e9-a7af895c36c7"
      },
      "source": [
        "\r\n",
        "pairs_true = [[passage , question] for passage, question in zip(df_bert['passage'],df_bert['question'])]\r\n",
        "labels_true = [1]*len(pairs_true)\r\n",
        "\r\n",
        "pairs_false = []\r\n",
        "\r\n",
        "groups = df_bert.groupby(\"title\").groups\r\n",
        "\r\n",
        "for index in tqdm(df_bert.index):\r\n",
        "    title = df_bert[\"title\"].loc[index]\r\n",
        "    passage = df_bert[\"passage\"].loc[index]\r\n",
        "    group = groups[title]\r\n",
        "    different_passages = set()\r\n",
        "    for id in group:\r\n",
        "        if df_bert[\"passage\"][id] != passage:\r\n",
        "            different_passages.add(df_bert[\"passage\"][id])\r\n",
        "    for passage in list(different_passages)[:1]: #take one for bilanced dataset\r\n",
        "        pairs_false.append([passage,df_bert['question'][index]])\r\n",
        "\r\n",
        "labels_false = [0]*len(pairs_false)\r\n",
        "\r\n",
        "\r\n",
        "print(len(pairs_true),len(pairs_false),sep='\\n')"
      ],
      "execution_count": 4,
      "outputs": [
        {
          "output_type": "display_data",
          "data": {
            "application/vnd.jupyter.widget-view+json": {
              "model_id": "ee733a22418e4bdb94240d6fe3233de9",
              "version_minor": 0,
              "version_major": 2
            },
            "text/plain": [
              "HBox(children=(FloatProgress(value=0.0, max=87364.0), HTML(value='')))"
            ]
          },
          "metadata": {
            "tags": []
          }
        },
        {
          "output_type": "stream",
          "text": [
            "\n",
            "87364\n",
            "87364\n"
          ],
          "name": "stdout"
        }
      ]
    },
    {
      "cell_type": "code",
      "metadata": {
        "id": "1TFYs42eDEtf",
        "colab": {
          "base_uri": "https://localhost:8080/",
          "height": 380
        },
        "outputId": "0a63f861-9f01-4b85-dd05-278fce097391"
      },
      "source": [
        "df_ir = pd.DataFrame({\r\n",
        "'pairs' : pairs_true + pairs_false,\r\n",
        "'labels': labels_true + labels_false\r\n",
        "})\r\n",
        "df_ir.head()"
      ],
      "execution_count": 23,
      "outputs": [
        {
          "output_type": "execute_result",
          "data": {
            "text/html": [
              "<div>\n",
              "<style scoped>\n",
              "    .dataframe tbody tr th:only-of-type {\n",
              "        vertical-align: middle;\n",
              "    }\n",
              "\n",
              "    .dataframe tbody tr th {\n",
              "        vertical-align: top;\n",
              "    }\n",
              "\n",
              "    .dataframe thead th {\n",
              "        text-align: right;\n",
              "    }\n",
              "</style>\n",
              "<table border=\"1\" class=\"dataframe\">\n",
              "  <thead>\n",
              "    <tr style=\"text-align: right;\">\n",
              "      <th></th>\n",
              "      <th>pairs</th>\n",
              "      <th>labels</th>\n",
              "    </tr>\n",
              "  </thead>\n",
              "  <tbody>\n",
              "    <tr>\n",
              "      <th>0</th>\n",
              "      <td>[Architecturally, the school has a Catholic character. Atop the Main Building's gold dome is a golden statue of the Virgin Mary. Immediately in front of the Main Building and facing it, is a copper statue of Christ with arms upraised with the legend \"Venite Ad Me Omnes\". Next to the Main Building is the Basilica of the Sacred Heart. Immediately behind the basilica is the Grotto, a Marian place of prayer and reflection. It is a replica of the grotto at Lourdes, France where the Virgin Mary reputedly appeared to Saint Bernadette Soubirous in 1858. At the end of the main drive (and in a direct line that connects through 3 statues and the Gold Dome), is a simple, modern stone statue of Mary., To whom did the Virgin Mary allegedly appear in 1858 in Lourdes France?]</td>\n",
              "      <td>1</td>\n",
              "    </tr>\n",
              "    <tr>\n",
              "      <th>1</th>\n",
              "      <td>[Architecturally, the school has a Catholic character. Atop the Main Building's gold dome is a golden statue of the Virgin Mary. Immediately in front of the Main Building and facing it, is a copper statue of Christ with arms upraised with the legend \"Venite Ad Me Omnes\". Next to the Main Building is the Basilica of the Sacred Heart. Immediately behind the basilica is the Grotto, a Marian place of prayer and reflection. It is a replica of the grotto at Lourdes, France where the Virgin Mary reputedly appeared to Saint Bernadette Soubirous in 1858. At the end of the main drive (and in a direct line that connects through 3 statues and the Gold Dome), is a simple, modern stone statue of Mary., What is in front of the Notre Dame Main Building?]</td>\n",
              "      <td>1</td>\n",
              "    </tr>\n",
              "    <tr>\n",
              "      <th>2</th>\n",
              "      <td>[Architecturally, the school has a Catholic character. Atop the Main Building's gold dome is a golden statue of the Virgin Mary. Immediately in front of the Main Building and facing it, is a copper statue of Christ with arms upraised with the legend \"Venite Ad Me Omnes\". Next to the Main Building is the Basilica of the Sacred Heart. Immediately behind the basilica is the Grotto, a Marian place of prayer and reflection. It is a replica of the grotto at Lourdes, France where the Virgin Mary reputedly appeared to Saint Bernadette Soubirous in 1858. At the end of the main drive (and in a direct line that connects through 3 statues and the Gold Dome), is a simple, modern stone statue of Mary., The Basilica of the Sacred heart at Notre Dame is beside to which structure?]</td>\n",
              "      <td>1</td>\n",
              "    </tr>\n",
              "    <tr>\n",
              "      <th>3</th>\n",
              "      <td>[Architecturally, the school has a Catholic character. Atop the Main Building's gold dome is a golden statue of the Virgin Mary. Immediately in front of the Main Building and facing it, is a copper statue of Christ with arms upraised with the legend \"Venite Ad Me Omnes\". Next to the Main Building is the Basilica of the Sacred Heart. Immediately behind the basilica is the Grotto, a Marian place of prayer and reflection. It is a replica of the grotto at Lourdes, France where the Virgin Mary reputedly appeared to Saint Bernadette Soubirous in 1858. At the end of the main drive (and in a direct line that connects through 3 statues and the Gold Dome), is a simple, modern stone statue of Mary., What is the Grotto at Notre Dame?]</td>\n",
              "      <td>1</td>\n",
              "    </tr>\n",
              "    <tr>\n",
              "      <th>4</th>\n",
              "      <td>[Architecturally, the school has a Catholic character. Atop the Main Building's gold dome is a golden statue of the Virgin Mary. Immediately in front of the Main Building and facing it, is a copper statue of Christ with arms upraised with the legend \"Venite Ad Me Omnes\". Next to the Main Building is the Basilica of the Sacred Heart. Immediately behind the basilica is the Grotto, a Marian place of prayer and reflection. It is a replica of the grotto at Lourdes, France where the Virgin Mary reputedly appeared to Saint Bernadette Soubirous in 1858. At the end of the main drive (and in a direct line that connects through 3 statues and the Gold Dome), is a simple, modern stone statue of Mary., What sits on top of the Main Building at Notre Dame?]</td>\n",
              "      <td>1</td>\n",
              "    </tr>\n",
              "  </tbody>\n",
              "</table>\n",
              "</div>"
            ],
            "text/plain": [
              "                                                                                                                                                                                                                                                                                                                                                                                                                                                                                                                                                                                                                                                                                                                                                                                                     pairs  labels\n",
              "0  [Architecturally, the school has a Catholic character. Atop the Main Building's gold dome is a golden statue of the Virgin Mary. Immediately in front of the Main Building and facing it, is a copper statue of Christ with arms upraised with the legend \"Venite Ad Me Omnes\". Next to the Main Building is the Basilica of the Sacred Heart. Immediately behind the basilica is the Grotto, a Marian place of prayer and reflection. It is a replica of the grotto at Lourdes, France where the Virgin Mary reputedly appeared to Saint Bernadette Soubirous in 1858. At the end of the main drive (and in a direct line that connects through 3 statues and the Gold Dome), is a simple, modern stone statue of Mary., To whom did the Virgin Mary allegedly appear in 1858 in Lourdes France?]       1     \n",
              "1  [Architecturally, the school has a Catholic character. Atop the Main Building's gold dome is a golden statue of the Virgin Mary. Immediately in front of the Main Building and facing it, is a copper statue of Christ with arms upraised with the legend \"Venite Ad Me Omnes\". Next to the Main Building is the Basilica of the Sacred Heart. Immediately behind the basilica is the Grotto, a Marian place of prayer and reflection. It is a replica of the grotto at Lourdes, France where the Virgin Mary reputedly appeared to Saint Bernadette Soubirous in 1858. At the end of the main drive (and in a direct line that connects through 3 statues and the Gold Dome), is a simple, modern stone statue of Mary., What is in front of the Notre Dame Main Building?]                             1     \n",
              "2  [Architecturally, the school has a Catholic character. Atop the Main Building's gold dome is a golden statue of the Virgin Mary. Immediately in front of the Main Building and facing it, is a copper statue of Christ with arms upraised with the legend \"Venite Ad Me Omnes\". Next to the Main Building is the Basilica of the Sacred Heart. Immediately behind the basilica is the Grotto, a Marian place of prayer and reflection. It is a replica of the grotto at Lourdes, France where the Virgin Mary reputedly appeared to Saint Bernadette Soubirous in 1858. At the end of the main drive (and in a direct line that connects through 3 statues and the Gold Dome), is a simple, modern stone statue of Mary., The Basilica of the Sacred heart at Notre Dame is beside to which structure?]  1     \n",
              "3  [Architecturally, the school has a Catholic character. Atop the Main Building's gold dome is a golden statue of the Virgin Mary. Immediately in front of the Main Building and facing it, is a copper statue of Christ with arms upraised with the legend \"Venite Ad Me Omnes\". Next to the Main Building is the Basilica of the Sacred Heart. Immediately behind the basilica is the Grotto, a Marian place of prayer and reflection. It is a replica of the grotto at Lourdes, France where the Virgin Mary reputedly appeared to Saint Bernadette Soubirous in 1858. At the end of the main drive (and in a direct line that connects through 3 statues and the Gold Dome), is a simple, modern stone statue of Mary., What is the Grotto at Notre Dame?]                                             1     \n",
              "4  [Architecturally, the school has a Catholic character. Atop the Main Building's gold dome is a golden statue of the Virgin Mary. Immediately in front of the Main Building and facing it, is a copper statue of Christ with arms upraised with the legend \"Venite Ad Me Omnes\". Next to the Main Building is the Basilica of the Sacred Heart. Immediately behind the basilica is the Grotto, a Marian place of prayer and reflection. It is a replica of the grotto at Lourdes, France where the Virgin Mary reputedly appeared to Saint Bernadette Soubirous in 1858. At the end of the main drive (and in a direct line that connects through 3 statues and the Gold Dome), is a simple, modern stone statue of Mary., What sits on top of the Main Building at Notre Dame?]                          1     "
            ]
          },
          "metadata": {
            "tags": []
          },
          "execution_count": 23
        }
      ]
    },
    {
      "cell_type": "code",
      "metadata": {
        "id": "_OQpJstFF1_p",
        "colab": {
          "base_uri": "https://localhost:8080/",
          "height": 67,
          "referenced_widgets": [
            "c9e5a628539a4cfa880938af86a9bad2",
            "5e81a4a221db4c5d9a6d6b349f72e26e",
            "431f7f57c4834836896d1bf87c34705c",
            "43aa18edf26349f39fdd72b713b7d1e7",
            "16fb014539694c3fb7eb37dd0924deba",
            "78a8d13f435c42b5b1e04b3785c541f0",
            "4e0058533d9b4be584ecd978a02fbb49",
            "484876ec24b348f9902473b9c0a66c6d"
          ]
        },
        "outputId": "55c9537e-8bd9-47b0-8434-4295597c6660"
      },
      "source": [
        "a = []\r\n",
        "b = []\r\n",
        "c = []\r\n",
        "for passage,question in tqdm(df_ir['pairs']):\r\n",
        "    out = tokenizer(passage,question, padding=\"max_length\", max_length=max_seq_length, truncation=True,verbose=True)\r\n",
        "    a.append(out['input_ids'])\r\n",
        "    b.append(out['attention_mask'])\r\n",
        "    c.append(out['token_type_ids'])\r\n",
        "\r\n",
        "a = np.stack(a)\r\n",
        "b = np.stack(b)\r\n",
        "c = np.stack(c)\r\n",
        "x_train = [a,b,c]\r\n",
        "y_train = np.array(df_ir['labels'])\r\n"
      ],
      "execution_count": 26,
      "outputs": [
        {
          "output_type": "display_data",
          "data": {
            "application/vnd.jupyter.widget-view+json": {
              "model_id": "c9e5a628539a4cfa880938af86a9bad2",
              "version_minor": 0,
              "version_major": 2
            },
            "text/plain": [
              "HBox(children=(FloatProgress(value=0.0, max=174728.0), HTML(value='')))"
            ]
          },
          "metadata": {
            "tags": []
          }
        },
        {
          "output_type": "stream",
          "text": [
            "\n"
          ],
          "name": "stdout"
        }
      ]
    },
    {
      "cell_type": "code",
      "metadata": {
        "id": "jwVwRBxzKwep",
        "colab": {
          "base_uri": "https://localhost:8080/"
        },
        "outputId": "1c44fa26-8e24-4659-f365-965cd2282a19"
      },
      "source": [
        "#@title model definition { form-width: \"25%\" }\n",
        "import tensorflow as tf\n",
        "from tensorflow.keras.losses import cosine_similarity, MSE, mae\n",
        "\n",
        "bert_hf_layer = transformers.TFElectraModel.from_pretrained(pretrained_model_str)\n",
        "\n",
        "input_word_ids = tf.keras.layers.Input(shape=(max_seq_length,), dtype=tf.int32, name='input_word_ids')\n",
        "input_mask = tf.keras.layers.Input(shape=(max_seq_length,), dtype=tf.int32, name='input_mask')\n",
        "input_type_ids = tf.keras.layers.Input(shape=(max_seq_length,), dtype=tf.int32, name='input_type_ids')\n",
        "\n",
        "encoding = bert_hf_layer(input_ids=input_word_ids, attention_mask=input_mask, \n",
        "                                token_type_ids=input_type_ids).last_hidden_state[:,0]\n",
        "\n",
        "output = tf.keras.layers.Dense(1,activation= \"sigmoid\")(encoding)\n",
        "\n",
        "model = keras.Model(inputs=[input_word_ids, input_mask, input_type_ids], \n",
        "                    outputs=output,\n",
        "                    name=\"BERT_IR\")\n",
        "\n",
        "optimizer = keras.optimizers.Adam()\n",
        "\n",
        "model.summary(line_length=150)"
      ],
      "execution_count": 41,
      "outputs": [
        {
          "output_type": "stream",
          "text": [
            "Some layers from the model checkpoint at google/electra-small-discriminator were not used when initializing TFElectraModel: ['discriminator_predictions']\n",
            "- This IS expected if you are initializing TFElectraModel from the checkpoint of a model trained on another task or with another architecture (e.g. initializing a BertForSequenceClassification model from a BertForPreTraining model).\n",
            "- This IS NOT expected if you are initializing TFElectraModel from the checkpoint of a model that you expect to be exactly identical (initializing a BertForSequenceClassification model from a BertForSequenceClassification model).\n",
            "All the layers of TFElectraModel were initialized from the model checkpoint at google/electra-small-discriminator.\n",
            "If your task is similar to the task the model of the checkpoint was trained on, you can already use TFElectraModel for predictions without further training.\n"
          ],
          "name": "stderr"
        },
        {
          "output_type": "stream",
          "text": [
            "WARNING:tensorflow:The parameters `output_attentions`, `output_hidden_states` and `use_cache` cannot be updated when calling a model.They have to be set to True/False in the config object (i.e.: `config=XConfig.from_pretrained('name', output_attentions=True)`).\n",
            "WARNING:tensorflow:The parameter `return_dict` cannot be set in graph mode and will always be set to `True`.\n",
            "Model: \"BERT_IR\"\n",
            "______________________________________________________________________________________________________________________________________________________\n",
            "Layer (type)                                     Output Shape                     Param #           Connected to                                      \n",
            "======================================================================================================================================================\n",
            "input_word_ids (InputLayer)                      [(None, 512)]                    0                                                                   \n",
            "______________________________________________________________________________________________________________________________________________________\n",
            "input_mask (InputLayer)                          [(None, 512)]                    0                                                                   \n",
            "______________________________________________________________________________________________________________________________________________________\n",
            "input_type_ids (InputLayer)                      [(None, 512)]                    0                                                                   \n",
            "______________________________________________________________________________________________________________________________________________________\n",
            "tf_electra_model_2 (TFElectraModel)              TFBaseModelOutput(last_hidden_st 13483008          input_word_ids[0][0]                              \n",
            "                                                                                                    input_mask[0][0]                                  \n",
            "                                                                                                    input_type_ids[0][0]                              \n",
            "______________________________________________________________________________________________________________________________________________________\n",
            "tf.__operators__.getitem_2 (SlicingOpLambda)     (None, 256)                      0                 tf_electra_model_2[0][0]                          \n",
            "______________________________________________________________________________________________________________________________________________________\n",
            "dense_2 (Dense)                                  (None, 1)                        257               tf.__operators__.getitem_2[0][0]                  \n",
            "======================================================================================================================================================\n",
            "Total params: 13,483,265\n",
            "Trainable params: 13,483,265\n",
            "Non-trainable params: 0\n",
            "______________________________________________________________________________________________________________________________________________________\n"
          ],
          "name": "stdout"
        }
      ]
    },
    {
      "cell_type": "code",
      "metadata": {
        "id": "LaYw_ZnZmflK",
        "colab": {
          "base_uri": "https://localhost:8080/"
        },
        "outputId": "747d8a2f-eac9-48a8-d925-e8e0d57a1cdc"
      },
      "source": [
        "#@title train { form-width: \"25%\" }\r\n",
        "\r\n",
        "from transformers.optimization_tf import AdamWeightDecay\r\n",
        "from tensorflow.keras.callbacks import EarlyStopping, ModelCheckpoint\r\n",
        "\r\n",
        "batch_size = 32\r\n",
        "epochs = 200\r\n",
        "steps_per_epoch = 20\r\n",
        "\r\n",
        "saveDir = os.path.join(os.getcwd(), 'saved_models')\r\n",
        "if not os.path.isdir(saveDir):\r\n",
        "    os.makedirs(saveDir)\r\n",
        "chkpt = saveDir + '/squad_check.hdf5'\r\n",
        "\r\n",
        "es_cb = EarlyStopping(monitor='val_loss', patience=2,verbose=1, mode='auto')\r\n",
        "cp_cb = ModelCheckpoint(filepath = chkpt, monitor='val_loss', verbose=1, \r\n",
        "                        save_best_only=False, mode='auto', \r\n",
        "                        save_weights_only=True)\r\n",
        "\r\n",
        "callbacks = [es_cb, cp_cb]\r\n",
        "\r\n",
        "ENABLE_WANDB = False        #@param {type:\"boolean\"}\r\n",
        "wandb_experiment_name = \"HF_\" + bert_hf_layer.name  #@param {type: \"string\"}\r\n",
        "if ENABLE_WANDB:\r\n",
        "    !pip install wandb > /dev/null\r\n",
        "    !wandb login\r\n",
        "    import wandb\r\n",
        "    from wandb.keras import WandbCallback\r\n",
        "    wandb.init(project=\"SQUAD\", name=wandb_experiment_name)\r\n",
        "    wandb.config.batch_size = batch_size\r\n",
        "    wandb.config.epochs = epochs\r\n",
        "    callbacks.append(WandbCallback(log_batch_frequency=10,\r\n",
        "                                   save_weights_only=True))\r\n",
        "\r\n",
        "optimizer = AdamWeightDecay(lr=1e-5, beta_1=0.9, beta_2=0.98, epsilon=1e-9)\r\n",
        "\r\n",
        "model.compile(optimizer=optimizer, loss=\"binary_crossentropy\", metrics = \"accuracy\")\r\n",
        "history = model.fit(x=x_train, y=y_train, epochs=epochs, batch_size=batch_size, \r\n",
        "                    validation_split=.1, callbacks=callbacks)"
      ],
      "execution_count": null,
      "outputs": [
        {
          "output_type": "stream",
          "text": [
            "Epoch 1/200\n",
            "WARNING:tensorflow:The parameters `output_attentions`, `output_hidden_states` and `use_cache` cannot be updated when calling a model.They have to be set to True/False in the config object (i.e.: `config=XConfig.from_pretrained('name', output_attentions=True)`).\n",
            "WARNING:tensorflow:The parameter `return_dict` cannot be set in graph mode and will always be set to `True`.\n",
            "WARNING:tensorflow:The parameters `output_attentions`, `output_hidden_states` and `use_cache` cannot be updated when calling a model.They have to be set to True/False in the config object (i.e.: `config=XConfig.from_pretrained('name', output_attentions=True)`).\n",
            "WARNING:tensorflow:The parameter `return_dict` cannot be set in graph mode and will always be set to `True`.\n",
            " 284/4915 [>.............................] - ETA: 35:41 - loss: 0.7306 - accuracy: 0.5135"
          ],
          "name": "stdout"
        }
      ]
    },
    {
      "cell_type": "code",
      "metadata": {
        "colab": {
          "base_uri": "https://localhost:8080/"
        },
        "id": "G5JxEnMfXdQh",
        "outputId": "66de5f1b-65c7-4076-de9a-4875ff65ec54"
      },
      "source": [
        "len(x_train[0])"
      ],
      "execution_count": 20,
      "outputs": [
        {
          "output_type": "execute_result",
          "data": {
            "text/plain": [
              "174728"
            ]
          },
          "metadata": {
            "tags": []
          },
          "execution_count": 20
        }
      ]
    },
    {
      "cell_type": "code",
      "metadata": {
        "id": "tvY5enaZ2Oio"
      },
      "source": [
        "# CELLA DI PROVA INFERENCE\r\n",
        "#@title inference model PROVA { form-width: \"25%\" }\r\n",
        "from sklearn.metrics.pairwise import cosine_similarity\r\n",
        "\r\n",
        "batch_size = 16\r\n",
        "\r\n",
        "all_encodings = []\r\n",
        "\r\n",
        "for idx in tqdm(range(len(df_bert_val)//batch_size)):\r\n",
        "    questions = df_bert_val['question'].iloc[idx * batch_size : (idx + 1) * batch_size].tolist()\r\n",
        "    attention_mask_questions = np.stack(questions)\r\n",
        "    attention_mask_questions[attention_mask_questions != 0] = 1\r\n",
        "    passages = df_bert_val['passage'].iloc[idx * batch_size : (idx + 1) * batch_size].tolist()\r\n",
        "    attention_mask_passages = np.stack(passages)\r\n",
        "    attention_mask_passages[attention_mask_passages != 0] = 1\r\n",
        "    encodings = model.predict([np.stack(passages), attention_mask_passages, np.stack(questions), attention_mask_questions])\r\n",
        "    all_encodings.append(encodings)\r\n",
        "    break\r\n",
        "    # encoded_val_passage[i*batch_size : (i+1)*batch_size] = inf_model(passages[i*batch_size : (i+1)*batch_size])\r\n",
        "    # encoded_val_question[i*batch_size : (i+1)*batch_size] = inf_model(questions[i*batch_size : (i+1)*batch_size])\r\n",
        "\r\n",
        "#print(encodings.shape)\r\n",
        "\r\n",
        "# all_encodings_arr = np.vstack(all_encodings)\r\n",
        "# encoding_passages = all_encodings_arr[:,:,0]\r\n",
        "# encoding_questions = all_encodings_arr[:,:,1]\r\n",
        "\r\n",
        "encoding_passages = encodings[:,:,0]\r\n",
        "encoding_questions = encodings[:,:,1]\r\n",
        "first_passage_encoding = encoding_passages[0]\r\n",
        "first_question_encoding = encoding_questions[0]\r\n",
        "#print(first_passage_encoding.reshape(1,-1).shape)\r\n",
        "print(cosine_similarity(first_question_encoding.reshape(1,-1),first_passage_encoding.reshape(1,-1)))\r\n",
        "#print(cosine_similarity(encoding_questions, encoding_passages))"
      ],
      "execution_count": null,
      "outputs": []
    },
    {
      "cell_type": "code",
      "metadata": {
        "id": "O1t64RBc-l1m"
      },
      "source": [
        "# SECONDA CELLA PROVA INFERENCE\r\n",
        "cos_sim = cosine_similarity(encoding_questions, encoding_passages)\r\n",
        "print(np.argmax(cos_sim[878]))\r\n",
        "ok=0\r\n",
        "for i in range(7136):   # i is the question index\r\n",
        "    best = np.argmax(cos_sim[i])\r\n",
        "    if np.array_equal(df_bert_val.iloc[i].passage, df_bert_val.iloc[best].passage):\r\n",
        "        ok+=1"
      ],
      "execution_count": null,
      "outputs": []
    },
    {
      "cell_type": "code",
      "metadata": {
        "id": "960XIu-EOCw5"
      },
      "source": [
        "len(df_bert_val)"
      ],
      "execution_count": null,
      "outputs": []
    },
    {
      "cell_type": "code",
      "metadata": {
        "id": "ON3n92Y0DtNm"
      },
      "source": [
        "print(ok/7136)"
      ],
      "execution_count": null,
      "outputs": []
    },
    {
      "cell_type": "code",
      "metadata": {
        "id": "FYH_YkJKFI2o"
      },
      "source": [
        "print(cos_sim[0][:100])"
      ],
      "execution_count": null,
      "outputs": []
    },
    {
      "cell_type": "code",
      "metadata": {
        "id": "zdI3LLkoFUJP"
      },
      "source": [
        "df_bert_val.iloc[:100]"
      ],
      "execution_count": null,
      "outputs": []
    },
    {
      "cell_type": "code",
      "metadata": {
        "id": "cfifQk2BBbKL"
      },
      "source": [
        "# TERZA CELLA PROVA INFERENCE\r\n",
        "df_bert_val.iloc[3034]\r\n",
        "df_bert.loc[\"571a48c110f8ca1400304fc7\"]\r\n",
        "# When did Beyonce start becoming popular? \r\n",
        "# Who began producing Oswald cartoons for Universal in 1929?  \r\n",
        "#What is another term for specific formal prescriptions?   "
      ],
      "execution_count": null,
      "outputs": []
    },
    {
      "cell_type": "code",
      "metadata": {
        "id": "fpH1ADf0LrKC"
      },
      "source": [
        "#@title inference model { form-width: \"25%\" }\r\n",
        "\r\n",
        "input_txt_ids = tf.keras.layers.Input(shape=(max_seq_length,), dtype=tf.int32)\r\n",
        "output = bert_hf_layer(input_ids=input_txt_ids).last_hidden_state[:,0]\r\n",
        "inf_model = keras.Model(inputs=input_txt_ids, outputs=output, name=\"BERT_IR\")\r\n",
        "\r\n",
        "encoded_val_passage = np.zeros((len(df_bert_val), 256))\r\n",
        "encoded_val_question = np.zeros((len(df_bert_val), 256))\r\n",
        "passages = np.stack(df_bert_val['passage'])\r\n",
        "questions = np.stack(df_bert_val['question'])\r\n",
        "\r\n",
        "\r\n",
        "for i in tqdm(range(len(df_bert_val)//batch_size)):\r\n",
        "    encoded_val_passage[i*batch_size : (i+1)*batch_size] = inf_model(passages[i*batch_size : (i+1)*batch_size])\r\n",
        "    encoded_val_question[i*batch_size : (i+1)*batch_size] = inf_model(questions[i*batch_size : (i+1)*batch_size])"
      ],
      "execution_count": null,
      "outputs": []
    },
    {
      "cell_type": "code",
      "metadata": {
        "id": "21bEK6SuLRk2"
      },
      "source": [
        "#@title kNN cosine similarity { form-width: \"25%\" }\r\n",
        "\r\n",
        "from sklearn.metrics.pairwise import cosine_similarity\r\n",
        "from sklearn.neighbors import NearestNeighbors\r\n",
        "\r\n",
        "k=1\r\n",
        "tree = NearestNeighbors(n_neighbors=k, metric='cosine')\r\n",
        "tree.fit(encoded_val_passage)\r\n",
        "\r\n",
        "results = tree.kneighbors(encoded_val_question, n_neighbors=k, return_distance=False)\r\n",
        "\r\n",
        "ok=0\r\n",
        "for i in range(len(df_bert_val)):\r\n",
        "    for j in range(k):\r\n",
        "        if np.array_equal(passages[results[i,j]], passages[i]):\r\n",
        "            ok+=1\r\n",
        "\r\n",
        "ok/len(df_bert_val)*100"
      ],
      "execution_count": null,
      "outputs": []
    },
    {
      "cell_type": "code",
      "metadata": {
        "id": "HJay6V8RYWtF"
      },
      "source": [
        "results[0]"
      ],
      "execution_count": null,
      "outputs": []
    },
    {
      "cell_type": "code",
      "metadata": {
        "id": "qJSpeKm_jsmO"
      },
      "source": [
        "!pip3 install wikipedia-api\r\n",
        "\r\n",
        "import wikipediaapi\r\n",
        "wiki_wiki = wikipediaapi.Wikipedia('en')\r\n",
        "cat = wiki_wiki.page(\"Category:Physics\")\r\n",
        "print(\"Category members: Category:Physics\")\r\n",
        "for p in cat.categorymembers.values():\r\n",
        "  if p.namespace == wikipediaapi.Namespace.CATEGORY:\r\n",
        "    # it is category, so you have to make decision\r\n",
        "    # if you want to fetch also text from pages that belong\r\n",
        "    # to this category\r\n",
        "    print(p)\r\n",
        "  elif p.namespace == wikipediaapi.Namespace.MAIN:\r\n",
        "    # it is page => we can get text\r\n",
        "    print(p)\r\n",
        "    print(p.text)\r\n",
        "\r\n",
        "def print_categorymembers(categorymembers, level=0, max_level=3):\r\n",
        "        for c in categorymembers.values():\r\n",
        "            print(\"%s: %s (ns: %d)\" % (\"*\" * (level + 1), c.title, c.ns))\r\n",
        "            if c.ns == wikipediaapi.Namespace.CATEGORY and level < max_level:\r\n",
        "                print_categorymembers(c.categorymembers, level=level + 1, max_level=max_level)\r\n",
        "\r\n",
        "cat = wiki_wiki.page(\"Category:Artificial intelligence\")\r\n",
        "print_categorymembers(cat.categorymembers)\r\n",
        "\r\n",
        "wiki_wiki = wikipediaapi.Wikipedia('en')\r\n",
        "\r\n",
        "page_py = wiki_wiki.page('Python_(programming_language)')\r\n",
        "print(page_py.text)"
      ],
      "execution_count": null,
      "outputs": []
    }
  ]
}