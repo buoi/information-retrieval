{
  "nbformat": 4,
  "nbformat_minor": 0,
  "metadata": {
    "colab": {
      "name": "IR",
      "provenance": [],
      "collapsed_sections": [],
      "include_colab_link": true
    },
    "kernelspec": {
      "display_name": "Python 3",
      "name": "python3"
    },
    "widgets": {
      "application/vnd.jupyter.widget-state+json": {
        "197aa2d18a5e4df6a78a6ba269ad5aa5": {
          "model_module": "@jupyter-widgets/controls",
          "model_name": "HBoxModel",
          "state": {
            "_view_name": "HBoxView",
            "_dom_classes": [],
            "_model_name": "HBoxModel",
            "_view_module": "@jupyter-widgets/controls",
            "_model_module_version": "1.5.0",
            "_view_count": null,
            "_view_module_version": "1.5.0",
            "box_style": "",
            "layout": "IPY_MODEL_3ac22cb7c77349c2b8828c4e9a825b89",
            "_model_module": "@jupyter-widgets/controls",
            "children": [
              "IPY_MODEL_aabf015c138643f9ab7d94b5c0ea1c5b",
              "IPY_MODEL_264ec5579d4e4448af06c0ebe3391923"
            ]
          }
        },
        "3ac22cb7c77349c2b8828c4e9a825b89": {
          "model_module": "@jupyter-widgets/base",
          "model_name": "LayoutModel",
          "state": {
            "_view_name": "LayoutView",
            "grid_template_rows": null,
            "right": null,
            "justify_content": null,
            "_view_module": "@jupyter-widgets/base",
            "overflow": null,
            "_model_module_version": "1.2.0",
            "_view_count": null,
            "flex_flow": null,
            "width": null,
            "min_width": null,
            "border": null,
            "align_items": null,
            "bottom": null,
            "_model_module": "@jupyter-widgets/base",
            "top": null,
            "grid_column": null,
            "overflow_y": null,
            "overflow_x": null,
            "grid_auto_flow": null,
            "grid_area": null,
            "grid_template_columns": null,
            "flex": null,
            "_model_name": "LayoutModel",
            "justify_items": null,
            "grid_row": null,
            "max_height": null,
            "align_content": null,
            "visibility": null,
            "align_self": null,
            "height": null,
            "min_height": null,
            "padding": null,
            "grid_auto_rows": null,
            "grid_gap": null,
            "max_width": null,
            "order": null,
            "_view_module_version": "1.2.0",
            "grid_template_areas": null,
            "object_position": null,
            "object_fit": null,
            "grid_auto_columns": null,
            "margin": null,
            "display": null,
            "left": null
          }
        },
        "aabf015c138643f9ab7d94b5c0ea1c5b": {
          "model_module": "@jupyter-widgets/controls",
          "model_name": "FloatProgressModel",
          "state": {
            "_view_name": "ProgressView",
            "style": "IPY_MODEL_4051f2431e214a8f9a0e252a316d96ba",
            "_dom_classes": [],
            "description": "100%",
            "_model_name": "FloatProgressModel",
            "bar_style": "success",
            "max": 10,
            "_view_module": "@jupyter-widgets/controls",
            "_model_module_version": "1.5.0",
            "value": 10,
            "_view_count": null,
            "_view_module_version": "1.5.0",
            "orientation": "horizontal",
            "min": 0,
            "description_tooltip": null,
            "_model_module": "@jupyter-widgets/controls",
            "layout": "IPY_MODEL_fea7b1897b3d47508c1adfc07a789e50"
          }
        },
        "264ec5579d4e4448af06c0ebe3391923": {
          "model_module": "@jupyter-widgets/controls",
          "model_name": "HTMLModel",
          "state": {
            "_view_name": "HTMLView",
            "style": "IPY_MODEL_c41f261a500e44079c8abfedf930d20c",
            "_dom_classes": [],
            "description": "",
            "_model_name": "HTMLModel",
            "placeholder": "​",
            "_view_module": "@jupyter-widgets/controls",
            "_model_module_version": "1.5.0",
            "value": " 10/10 [00:16&lt;00:00,  1.61s/it]",
            "_view_count": null,
            "_view_module_version": "1.5.0",
            "description_tooltip": null,
            "_model_module": "@jupyter-widgets/controls",
            "layout": "IPY_MODEL_221f7b0e3f3047ea90528c7a0c529614"
          }
        },
        "4051f2431e214a8f9a0e252a316d96ba": {
          "model_module": "@jupyter-widgets/controls",
          "model_name": "ProgressStyleModel",
          "state": {
            "_view_name": "StyleView",
            "_model_name": "ProgressStyleModel",
            "description_width": "initial",
            "_view_module": "@jupyter-widgets/base",
            "_model_module_version": "1.5.0",
            "_view_count": null,
            "_view_module_version": "1.2.0",
            "bar_color": null,
            "_model_module": "@jupyter-widgets/controls"
          }
        },
        "fea7b1897b3d47508c1adfc07a789e50": {
          "model_module": "@jupyter-widgets/base",
          "model_name": "LayoutModel",
          "state": {
            "_view_name": "LayoutView",
            "grid_template_rows": null,
            "right": null,
            "justify_content": null,
            "_view_module": "@jupyter-widgets/base",
            "overflow": null,
            "_model_module_version": "1.2.0",
            "_view_count": null,
            "flex_flow": null,
            "width": null,
            "min_width": null,
            "border": null,
            "align_items": null,
            "bottom": null,
            "_model_module": "@jupyter-widgets/base",
            "top": null,
            "grid_column": null,
            "overflow_y": null,
            "overflow_x": null,
            "grid_auto_flow": null,
            "grid_area": null,
            "grid_template_columns": null,
            "flex": null,
            "_model_name": "LayoutModel",
            "justify_items": null,
            "grid_row": null,
            "max_height": null,
            "align_content": null,
            "visibility": null,
            "align_self": null,
            "height": null,
            "min_height": null,
            "padding": null,
            "grid_auto_rows": null,
            "grid_gap": null,
            "max_width": null,
            "order": null,
            "_view_module_version": "1.2.0",
            "grid_template_areas": null,
            "object_position": null,
            "object_fit": null,
            "grid_auto_columns": null,
            "margin": null,
            "display": null,
            "left": null
          }
        },
        "c41f261a500e44079c8abfedf930d20c": {
          "model_module": "@jupyter-widgets/controls",
          "model_name": "DescriptionStyleModel",
          "state": {
            "_view_name": "StyleView",
            "_model_name": "DescriptionStyleModel",
            "description_width": "",
            "_view_module": "@jupyter-widgets/base",
            "_model_module_version": "1.5.0",
            "_view_count": null,
            "_view_module_version": "1.2.0",
            "_model_module": "@jupyter-widgets/controls"
          }
        },
        "221f7b0e3f3047ea90528c7a0c529614": {
          "model_module": "@jupyter-widgets/base",
          "model_name": "LayoutModel",
          "state": {
            "_view_name": "LayoutView",
            "grid_template_rows": null,
            "right": null,
            "justify_content": null,
            "_view_module": "@jupyter-widgets/base",
            "overflow": null,
            "_model_module_version": "1.2.0",
            "_view_count": null,
            "flex_flow": null,
            "width": null,
            "min_width": null,
            "border": null,
            "align_items": null,
            "bottom": null,
            "_model_module": "@jupyter-widgets/base",
            "top": null,
            "grid_column": null,
            "overflow_y": null,
            "overflow_x": null,
            "grid_auto_flow": null,
            "grid_area": null,
            "grid_template_columns": null,
            "flex": null,
            "_model_name": "LayoutModel",
            "justify_items": null,
            "grid_row": null,
            "max_height": null,
            "align_content": null,
            "visibility": null,
            "align_self": null,
            "height": null,
            "min_height": null,
            "padding": null,
            "grid_auto_rows": null,
            "grid_gap": null,
            "max_width": null,
            "order": null,
            "_view_module_version": "1.2.0",
            "grid_template_areas": null,
            "object_position": null,
            "object_fit": null,
            "grid_auto_columns": null,
            "margin": null,
            "display": null,
            "left": null
          }
        },
        "9e9eee138f07482e99a0b83e146dc13b": {
          "model_module": "@jupyter-widgets/controls",
          "model_name": "HBoxModel",
          "state": {
            "_view_name": "HBoxView",
            "_dom_classes": [],
            "_model_name": "HBoxModel",
            "_view_module": "@jupyter-widgets/controls",
            "_model_module_version": "1.5.0",
            "_view_count": null,
            "_view_module_version": "1.5.0",
            "box_style": "",
            "layout": "IPY_MODEL_210d9fb3d2ce4af386ee59e053950203",
            "_model_module": "@jupyter-widgets/controls",
            "children": [
              "IPY_MODEL_88fbb0d828474bb38cea6d2422b48db8",
              "IPY_MODEL_090146f65ed749fb82e91a49136eb4ab"
            ]
          }
        },
        "210d9fb3d2ce4af386ee59e053950203": {
          "model_module": "@jupyter-widgets/base",
          "model_name": "LayoutModel",
          "state": {
            "_view_name": "LayoutView",
            "grid_template_rows": null,
            "right": null,
            "justify_content": null,
            "_view_module": "@jupyter-widgets/base",
            "overflow": null,
            "_model_module_version": "1.2.0",
            "_view_count": null,
            "flex_flow": null,
            "width": null,
            "min_width": null,
            "border": null,
            "align_items": null,
            "bottom": null,
            "_model_module": "@jupyter-widgets/base",
            "top": null,
            "grid_column": null,
            "overflow_y": null,
            "overflow_x": null,
            "grid_auto_flow": null,
            "grid_area": null,
            "grid_template_columns": null,
            "flex": null,
            "_model_name": "LayoutModel",
            "justify_items": null,
            "grid_row": null,
            "max_height": null,
            "align_content": null,
            "visibility": null,
            "align_self": null,
            "height": null,
            "min_height": null,
            "padding": null,
            "grid_auto_rows": null,
            "grid_gap": null,
            "max_width": null,
            "order": null,
            "_view_module_version": "1.2.0",
            "grid_template_areas": null,
            "object_position": null,
            "object_fit": null,
            "grid_auto_columns": null,
            "margin": null,
            "display": null,
            "left": null
          }
        },
        "88fbb0d828474bb38cea6d2422b48db8": {
          "model_module": "@jupyter-widgets/controls",
          "model_name": "FloatProgressModel",
          "state": {
            "_view_name": "ProgressView",
            "style": "IPY_MODEL_ff59da3da5084632b275a1f0e317fab2",
            "_dom_classes": [],
            "description": "100%",
            "_model_name": "FloatProgressModel",
            "bar_style": "success",
            "max": 10,
            "_view_module": "@jupyter-widgets/controls",
            "_model_module_version": "1.5.0",
            "value": 10,
            "_view_count": null,
            "_view_module_version": "1.5.0",
            "orientation": "horizontal",
            "min": 0,
            "description_tooltip": null,
            "_model_module": "@jupyter-widgets/controls",
            "layout": "IPY_MODEL_f26bd46bce6f4b9a887beaf44e22c197"
          }
        },
        "090146f65ed749fb82e91a49136eb4ab": {
          "model_module": "@jupyter-widgets/controls",
          "model_name": "HTMLModel",
          "state": {
            "_view_name": "HTMLView",
            "style": "IPY_MODEL_e4c4ca37620749c8a42c593dc460b439",
            "_dom_classes": [],
            "description": "",
            "_model_name": "HTMLModel",
            "placeholder": "​",
            "_view_module": "@jupyter-widgets/controls",
            "_model_module_version": "1.5.0",
            "value": " 10/10 [00:28&lt;00:00,  2.85s/it]",
            "_view_count": null,
            "_view_module_version": "1.5.0",
            "description_tooltip": null,
            "_model_module": "@jupyter-widgets/controls",
            "layout": "IPY_MODEL_d64d250de16b438191196ddfe4f89ec3"
          }
        },
        "ff59da3da5084632b275a1f0e317fab2": {
          "model_module": "@jupyter-widgets/controls",
          "model_name": "ProgressStyleModel",
          "state": {
            "_view_name": "StyleView",
            "_model_name": "ProgressStyleModel",
            "description_width": "initial",
            "_view_module": "@jupyter-widgets/base",
            "_model_module_version": "1.5.0",
            "_view_count": null,
            "_view_module_version": "1.2.0",
            "bar_color": null,
            "_model_module": "@jupyter-widgets/controls"
          }
        },
        "f26bd46bce6f4b9a887beaf44e22c197": {
          "model_module": "@jupyter-widgets/base",
          "model_name": "LayoutModel",
          "state": {
            "_view_name": "LayoutView",
            "grid_template_rows": null,
            "right": null,
            "justify_content": null,
            "_view_module": "@jupyter-widgets/base",
            "overflow": null,
            "_model_module_version": "1.2.0",
            "_view_count": null,
            "flex_flow": null,
            "width": null,
            "min_width": null,
            "border": null,
            "align_items": null,
            "bottom": null,
            "_model_module": "@jupyter-widgets/base",
            "top": null,
            "grid_column": null,
            "overflow_y": null,
            "overflow_x": null,
            "grid_auto_flow": null,
            "grid_area": null,
            "grid_template_columns": null,
            "flex": null,
            "_model_name": "LayoutModel",
            "justify_items": null,
            "grid_row": null,
            "max_height": null,
            "align_content": null,
            "visibility": null,
            "align_self": null,
            "height": null,
            "min_height": null,
            "padding": null,
            "grid_auto_rows": null,
            "grid_gap": null,
            "max_width": null,
            "order": null,
            "_view_module_version": "1.2.0",
            "grid_template_areas": null,
            "object_position": null,
            "object_fit": null,
            "grid_auto_columns": null,
            "margin": null,
            "display": null,
            "left": null
          }
        },
        "e4c4ca37620749c8a42c593dc460b439": {
          "model_module": "@jupyter-widgets/controls",
          "model_name": "DescriptionStyleModel",
          "state": {
            "_view_name": "StyleView",
            "_model_name": "DescriptionStyleModel",
            "description_width": "",
            "_view_module": "@jupyter-widgets/base",
            "_model_module_version": "1.5.0",
            "_view_count": null,
            "_view_module_version": "1.2.0",
            "_model_module": "@jupyter-widgets/controls"
          }
        },
        "d64d250de16b438191196ddfe4f89ec3": {
          "model_module": "@jupyter-widgets/base",
          "model_name": "LayoutModel",
          "state": {
            "_view_name": "LayoutView",
            "grid_template_rows": null,
            "right": null,
            "justify_content": null,
            "_view_module": "@jupyter-widgets/base",
            "overflow": null,
            "_model_module_version": "1.2.0",
            "_view_count": null,
            "flex_flow": null,
            "width": null,
            "min_width": null,
            "border": null,
            "align_items": null,
            "bottom": null,
            "_model_module": "@jupyter-widgets/base",
            "top": null,
            "grid_column": null,
            "overflow_y": null,
            "overflow_x": null,
            "grid_auto_flow": null,
            "grid_area": null,
            "grid_template_columns": null,
            "flex": null,
            "_model_name": "LayoutModel",
            "justify_items": null,
            "grid_row": null,
            "max_height": null,
            "align_content": null,
            "visibility": null,
            "align_self": null,
            "height": null,
            "min_height": null,
            "padding": null,
            "grid_auto_rows": null,
            "grid_gap": null,
            "max_width": null,
            "order": null,
            "_view_module_version": "1.2.0",
            "grid_template_areas": null,
            "object_position": null,
            "object_fit": null,
            "grid_auto_columns": null,
            "margin": null,
            "display": null,
            "left": null
          }
        },
        "a1bf5587386a418180a06d6c56e5c593": {
          "model_module": "@jupyter-widgets/controls",
          "model_name": "HBoxModel",
          "state": {
            "_view_name": "HBoxView",
            "_dom_classes": [],
            "_model_name": "HBoxModel",
            "_view_module": "@jupyter-widgets/controls",
            "_model_module_version": "1.5.0",
            "_view_count": null,
            "_view_module_version": "1.5.0",
            "box_style": "",
            "layout": "IPY_MODEL_205c0a7fb93147cdb1eef54de65aceab",
            "_model_module": "@jupyter-widgets/controls",
            "children": [
              "IPY_MODEL_60ab6b5347064e5196281d92df2d7162",
              "IPY_MODEL_8696b2dd62cd477ba2e94c3241d3237f"
            ]
          }
        },
        "205c0a7fb93147cdb1eef54de65aceab": {
          "model_module": "@jupyter-widgets/base",
          "model_name": "LayoutModel",
          "state": {
            "_view_name": "LayoutView",
            "grid_template_rows": null,
            "right": null,
            "justify_content": null,
            "_view_module": "@jupyter-widgets/base",
            "overflow": null,
            "_model_module_version": "1.2.0",
            "_view_count": null,
            "flex_flow": null,
            "width": null,
            "min_width": null,
            "border": null,
            "align_items": null,
            "bottom": null,
            "_model_module": "@jupyter-widgets/base",
            "top": null,
            "grid_column": null,
            "overflow_y": null,
            "overflow_x": null,
            "grid_auto_flow": null,
            "grid_area": null,
            "grid_template_columns": null,
            "flex": null,
            "_model_name": "LayoutModel",
            "justify_items": null,
            "grid_row": null,
            "max_height": null,
            "align_content": null,
            "visibility": null,
            "align_self": null,
            "height": null,
            "min_height": null,
            "padding": null,
            "grid_auto_rows": null,
            "grid_gap": null,
            "max_width": null,
            "order": null,
            "_view_module_version": "1.2.0",
            "grid_template_areas": null,
            "object_position": null,
            "object_fit": null,
            "grid_auto_columns": null,
            "margin": null,
            "display": null,
            "left": null
          }
        },
        "60ab6b5347064e5196281d92df2d7162": {
          "model_module": "@jupyter-widgets/controls",
          "model_name": "FloatProgressModel",
          "state": {
            "_view_name": "ProgressView",
            "style": "IPY_MODEL_ade1f91f0f544710b270e174bbeb54ea",
            "_dom_classes": [],
            "description": "100%",
            "_model_name": "FloatProgressModel",
            "bar_style": "success",
            "max": 10,
            "_view_module": "@jupyter-widgets/controls",
            "_model_module_version": "1.5.0",
            "value": 10,
            "_view_count": null,
            "_view_module_version": "1.5.0",
            "orientation": "horizontal",
            "min": 0,
            "description_tooltip": null,
            "_model_module": "@jupyter-widgets/controls",
            "layout": "IPY_MODEL_658f7ffa79af4d06affa3da7d72312ac"
          }
        },
        "8696b2dd62cd477ba2e94c3241d3237f": {
          "model_module": "@jupyter-widgets/controls",
          "model_name": "HTMLModel",
          "state": {
            "_view_name": "HTMLView",
            "style": "IPY_MODEL_b68bbdc26b8f4e7598866dd76fcb8535",
            "_dom_classes": [],
            "description": "",
            "_model_name": "HTMLModel",
            "placeholder": "​",
            "_view_module": "@jupyter-widgets/controls",
            "_model_module_version": "1.5.0",
            "value": " 10/10 [00:19&lt;00:00,  1.96s/it]",
            "_view_count": null,
            "_view_module_version": "1.5.0",
            "description_tooltip": null,
            "_model_module": "@jupyter-widgets/controls",
            "layout": "IPY_MODEL_53911f0cf74943ea8befbab7ca3ebf7d"
          }
        },
        "ade1f91f0f544710b270e174bbeb54ea": {
          "model_module": "@jupyter-widgets/controls",
          "model_name": "ProgressStyleModel",
          "state": {
            "_view_name": "StyleView",
            "_model_name": "ProgressStyleModel",
            "description_width": "initial",
            "_view_module": "@jupyter-widgets/base",
            "_model_module_version": "1.5.0",
            "_view_count": null,
            "_view_module_version": "1.2.0",
            "bar_color": null,
            "_model_module": "@jupyter-widgets/controls"
          }
        },
        "658f7ffa79af4d06affa3da7d72312ac": {
          "model_module": "@jupyter-widgets/base",
          "model_name": "LayoutModel",
          "state": {
            "_view_name": "LayoutView",
            "grid_template_rows": null,
            "right": null,
            "justify_content": null,
            "_view_module": "@jupyter-widgets/base",
            "overflow": null,
            "_model_module_version": "1.2.0",
            "_view_count": null,
            "flex_flow": null,
            "width": null,
            "min_width": null,
            "border": null,
            "align_items": null,
            "bottom": null,
            "_model_module": "@jupyter-widgets/base",
            "top": null,
            "grid_column": null,
            "overflow_y": null,
            "overflow_x": null,
            "grid_auto_flow": null,
            "grid_area": null,
            "grid_template_columns": null,
            "flex": null,
            "_model_name": "LayoutModel",
            "justify_items": null,
            "grid_row": null,
            "max_height": null,
            "align_content": null,
            "visibility": null,
            "align_self": null,
            "height": null,
            "min_height": null,
            "padding": null,
            "grid_auto_rows": null,
            "grid_gap": null,
            "max_width": null,
            "order": null,
            "_view_module_version": "1.2.0",
            "grid_template_areas": null,
            "object_position": null,
            "object_fit": null,
            "grid_auto_columns": null,
            "margin": null,
            "display": null,
            "left": null
          }
        },
        "b68bbdc26b8f4e7598866dd76fcb8535": {
          "model_module": "@jupyter-widgets/controls",
          "model_name": "DescriptionStyleModel",
          "state": {
            "_view_name": "StyleView",
            "_model_name": "DescriptionStyleModel",
            "description_width": "",
            "_view_module": "@jupyter-widgets/base",
            "_model_module_version": "1.5.0",
            "_view_count": null,
            "_view_module_version": "1.2.0",
            "_model_module": "@jupyter-widgets/controls"
          }
        },
        "53911f0cf74943ea8befbab7ca3ebf7d": {
          "model_module": "@jupyter-widgets/base",
          "model_name": "LayoutModel",
          "state": {
            "_view_name": "LayoutView",
            "grid_template_rows": null,
            "right": null,
            "justify_content": null,
            "_view_module": "@jupyter-widgets/base",
            "overflow": null,
            "_model_module_version": "1.2.0",
            "_view_count": null,
            "flex_flow": null,
            "width": null,
            "min_width": null,
            "border": null,
            "align_items": null,
            "bottom": null,
            "_model_module": "@jupyter-widgets/base",
            "top": null,
            "grid_column": null,
            "overflow_y": null,
            "overflow_x": null,
            "grid_auto_flow": null,
            "grid_area": null,
            "grid_template_columns": null,
            "flex": null,
            "_model_name": "LayoutModel",
            "justify_items": null,
            "grid_row": null,
            "max_height": null,
            "align_content": null,
            "visibility": null,
            "align_self": null,
            "height": null,
            "min_height": null,
            "padding": null,
            "grid_auto_rows": null,
            "grid_gap": null,
            "max_width": null,
            "order": null,
            "_view_module_version": "1.2.0",
            "grid_template_areas": null,
            "object_position": null,
            "object_fit": null,
            "grid_auto_columns": null,
            "margin": null,
            "display": null,
            "left": null
          }
        }
      }
    }
  },
  "cells": [
    {
      "cell_type": "markdown",
      "metadata": {
        "id": "view-in-github",
        "colab_type": "text"
      },
      "source": [
        "<a href=\"https://colab.research.google.com/github/the-SQuAD-squad/IR/blob/tfidf/IR.ipynb\" target=\"_parent\"><img src=\"https://colab.research.google.com/assets/colab-badge.svg\" alt=\"Open In Colab\"/></a>"
      ]
    },
    {
      "cell_type": "code",
      "metadata": {
        "id": "ZmkNAxSnaD9n",
        "colab": {
          "base_uri": "https://localhost:8080/"
        },
        "outputId": "3e2679bc-9876-4f0a-c559-881a572a3a30"
      },
      "source": [
        "#@title Init { form-width: \"25%\" }\r\n",
        "\r\n",
        "import os\r\n",
        "import random\r\n",
        "import math\r\n",
        "import numpy as np\r\n",
        "import json\r\n",
        "import pandas as pd\r\n",
        "import re\r\n",
        "import string\r\n",
        "from tqdm.notebook import tqdm\r\n",
        "\r\n",
        "!pip3 install wikipedia-api > null\r\n",
        "import wikipediaapi\r\n",
        "\r\n",
        "from sklearn.metrics.pairwise import cosine_similarity\r\n",
        "from matplotlib import pyplot as plt\r\n",
        "from sklearn.feature_extraction.text import TfidfVectorizer\r\n",
        "\r\n",
        "pd.set_option('display.max_colwidth', -1)\r\n",
        "\r\n",
        "# fix random seeds\r\n",
        "seed_value = 42 #@param {type:\"integer\"}\r\n",
        "\r\n",
        "os.environ['PYTHONHASHSEED']=str(seed_value)\r\n",
        "random.seed(seed_value)\r\n",
        "np.random.seed(seed_value)"
      ],
      "execution_count": 1,
      "outputs": [
        {
          "output_type": "stream",
          "text": [
            "/usr/local/lib/python3.7/dist-packages/ipykernel_launcher.py:20: FutureWarning: Passing a negative integer is deprecated in version 1.0 and will not be supported in future version. Instead, use None to not limit the column width.\n"
          ],
          "name": "stderr"
        }
      ]
    },
    {
      "cell_type": "code",
      "metadata": {
        "id": "TnF-L-9Yr1AZ",
        "colab": {
          "base_uri": "https://localhost:8080/"
        },
        "outputId": "d55917b7-d658-46ad-dac1-ff446a5f86b4"
      },
      "source": [
        "#@title df creation { form-width: \"25%\" }\r\n",
        "\r\n",
        "# the official dataset is identical to the provided one\r\n",
        "!wget https://rajpurkar.github.io/SQuAD-explorer/dataset/train-v1.1.json -O training_set.json\r\n",
        "\r\n",
        "with open(\"training_set.json\", \"r\") as f:\r\n",
        "    json_file = json.load(f)\r\n",
        "data = json_file[\"data\"]\r\n",
        "\r\n",
        "rows = []\r\n",
        "for document in data:\r\n",
        "  for par in document['paragraphs']:\r\n",
        "    for qas in par['qas']:\r\n",
        "      rows.append({\r\n",
        "        'id' : qas['id'],\r\n",
        "        'title': document[\"title\"],\r\n",
        "        'passage': par['context'],\r\n",
        "        'question' : qas['question'],\r\n",
        "        'answer_idx' : (qas['answers'][0]['answer_start'], \r\n",
        "                    qas['answers'][0]['answer_start'] + len(qas['answers'][0]['text'])),\r\n",
        "        'answer_text' : qas['answers'][0]['text']\r\n",
        "      })\r\n",
        "\r\n",
        "df_original = pd.DataFrame(rows)"
      ],
      "execution_count": 2,
      "outputs": [
        {
          "output_type": "stream",
          "text": [
            "--2021-03-16 11:59:49--  https://rajpurkar.github.io/SQuAD-explorer/dataset/train-v1.1.json\n",
            "Resolving rajpurkar.github.io (rajpurkar.github.io)... 185.199.108.153, 185.199.109.153, 185.199.111.153, ...\n",
            "Connecting to rajpurkar.github.io (rajpurkar.github.io)|185.199.108.153|:443... connected.\n",
            "HTTP request sent, awaiting response... 200 OK\n",
            "Length: 30288272 (29M) [application/json]\n",
            "Saving to: ‘training_set.json’\n",
            "\n",
            "training_set.json   100%[===================>]  28.88M   101MB/s    in 0.3s    \n",
            "\n",
            "2021-03-16 11:59:51 (101 MB/s) - ‘training_set.json’ saved [30288272/30288272]\n",
            "\n"
          ],
          "name": "stdout"
        }
      ]
    },
    {
      "cell_type": "code",
      "metadata": {
        "id": "BDT_VzFCsW-q",
        "colab": {
          "base_uri": "https://localhost:8080/"
        },
        "outputId": "5df209e9-8c50-42ed-8fbd-94440a0e1334"
      },
      "source": [
        "#@title preprocessing { form-width: \"25%\" }\r\n",
        "\r\n",
        "import nltk\r\n",
        "import re \r\n",
        "import math\r\n",
        "import random as rand\r\n",
        "\r\n",
        "nltk.download('punkt')\r\n",
        "from nltk.stem.porter import PorterStemmer # for stemming\r\n",
        "from tqdm.notebook import tqdm\r\n",
        "\r\n",
        "def preprocess_text(text):\r\n",
        "    REPLACE_WITH_SPACE = re.compile(r\"\\n\") \r\n",
        "    text = [REPLACE_WITH_SPACE.sub(\" \", line) for line in text]\r\n",
        "    text = [re.sub(r\"([(.;:!\\'ˈ~?,\\\"(\\[\\])\\\\\\/\\-–\\t```<>_#$€@%*+—°′″“”×’^₤₹‘])\", r'', line) for line in text]\r\n",
        "    # we noticed that in the text sometimes we find numbers and the following word merged together (ex: 1980february),\r\n",
        "    # so we put a space between the number and the word\r\n",
        "    text = [re.sub(r\"(\\d+)([a-z]+)\", r'\\1 \\2', line) for line in text] \r\n",
        "    text = [re.sub('\\s{2,}', ' ', line.strip()) for line in text]   # replacing more than one consecutive blank spaces with only one of them\r\n",
        "    return text\r\n",
        "\r\n",
        "# Creating a copy of the original dataframe (we do this because we want to be able to compare the results of our processing with the original data)\r\n",
        "df = df_original.copy()\r\n",
        "\r\n",
        "# pre-process passage and question text\r\n",
        "df['passage'] = preprocess_text(df_original['passage'])\r\n",
        "df['question'] = preprocess_text(df_original['question'])\r\n",
        "df['answer_text'] = preprocess_text(df_original['answer_text'])\r\n",
        "\r\n",
        "# Comparing Original and Pre-Processed\r\n",
        "for i in range(3):\r\n",
        "    a = rand.randint(0,1000)\r\n",
        "    print('ORIGINAL AND PREPROCESSED PASSAGE:')\r\n",
        "    print(df_original.iloc[a]['passage'])\r\n",
        "    print(df.iloc[a]['passage'])\r\n",
        "    \r\n",
        "    print()\r\n",
        "    print('ORIGINAL AND PREPROCESSED QUESTION:')\r\n",
        "    print(df_original.iloc[a]['question'])\r\n",
        "    print(df.iloc[a]['question'])\r\n",
        "    print()\r\n",
        "\r\n",
        "df[\"passage\"]=df[\"passage\"].str.lower()\r\n",
        "df[\"question\"]=df[\"question\"].str.lower()\r\n",
        "df[\"answer_text\"]=df[\"answer_text\"].str.lower()"
      ],
      "execution_count": 3,
      "outputs": [
        {
          "output_type": "stream",
          "text": [
            "[nltk_data] Downloading package punkt to /root/nltk_data...\n",
            "[nltk_data]   Unzipping tokenizers/punkt.zip.\n",
            "ORIGINAL AND PREPROCESSED PASSAGE:\n",
            "In 2015 Beyoncé signed an open letter which the ONE Campaign had been collecting signatures for; the letter was addressed to Angela Merkel and Nkosazana Dlamini-Zuma, urging them to focus on women as they serve as the head of the G7 in Germany and the AU in South Africa respectively, which will start to set the priorities in development funding before a main UN summit in September 2015 that will establish new development goals for the generation.\n",
            "In 2015 Beyoncé signed an open letter which the ONE Campaign had been collecting signatures for the letter was addressed to Angela Merkel and Nkosazana DlaminiZuma urging them to focus on women as they serve as the head of the G7 in Germany and the AU in South Africa respectively which will start to set the priorities in development funding before a main UN summit in September 2015 that will establish new development goals for the generation\n",
            "\n",
            "ORIGINAL AND PREPROCESSED QUESTION:\n",
            "An important UN summit took place when?\n",
            "An important UN summit took place when\n",
            "\n",
            "ORIGINAL AND PREPROCESSED PASSAGE:\n",
            "The Rev. John J. Cavanaugh, C.S.C. served as president from 1946 to 1952. Cavanaugh's legacy at Notre Dame in the post-war years was devoted to raising academic standards and reshaping the university administration to suit it to an enlarged educational mission and an expanded student body and stressing advanced studies and research at a time when Notre Dame quadrupled in student census, undergraduate enrollment increased by more than half, and graduate student enrollment grew fivefold. Cavanaugh also established the Lobund Institute for Animal Studies and Notre Dame's Medieval Institute. Cavanaugh also presided over the construction of the Nieuwland Science Hall, Fisher Hall, and the Morris Inn, as well as the Hall of Liberal Arts (now O'Shaughnessy Hall), made possible by a donation from I.A. O'Shaughnessy, at the time the largest ever made to an American Catholic university. Cavanaugh also established a system of advisory councils at the university, which continue today and are vital to the university's governance and development\n",
            "The Rev John J Cavanaugh CSC served as president from 1946 to 1952 Cavanaughs legacy at Notre Dame in the postwar years was devoted to raising academic standards and reshaping the university administration to suit it to an enlarged educational mission and an expanded student body and stressing advanced studies and research at a time when Notre Dame quadrupled in student census undergraduate enrollment increased by more than half and graduate student enrollment grew fivefold Cavanaugh also established the Lobund Institute for Animal Studies and Notre Dames Medieval Institute Cavanaugh also presided over the construction of the Nieuwland Science Hall Fisher Hall and the Morris Inn as well as the Hall of Liberal Arts now OShaughnessy Hall made possible by a donation from IA OShaughnessy at the time the largest ever made to an American Catholic university Cavanaugh also established a system of advisory councils at the university which continue today and are vital to the universitys governance and development\n",
            "\n",
            "ORIGINAL AND PREPROCESSED QUESTION:\n",
            "Which institute involving animal life did Cavanaugh create at Notre Dame?\n",
            "Which institute involving animal life did Cavanaugh create at Notre Dame\n",
            "\n",
            "ORIGINAL AND PREPROCESSED PASSAGE:\n",
            "The university first offered graduate degrees, in the form of a Master of Arts (MA), in the 1854–1855 academic year. The program expanded to include Master of Laws (LL.M.) and Master of Civil Engineering in its early stages of growth, before a formal graduate school education was developed with a thesis not required to receive the degrees. This changed in 1924 with formal requirements developed for graduate degrees, including offering Doctorate (PhD) degrees. Today each of the five colleges offer graduate education. Most of the departments from the College of Arts and Letters offer PhD programs, while a professional Master of Divinity (M.Div.) program also exists. All of the departments in the College of Science offer PhD programs, except for the Department of Pre-Professional Studies. The School of Architecture offers a Master of Architecture, while each of the departments of the College of Engineering offer PhD programs. The College of Business offers multiple professional programs including MBA and Master of Science in Accountancy programs. It also operates facilities in Chicago and Cincinnati for its executive MBA program. Additionally, the Alliance for Catholic Education program offers a Master of Education program where students study at the university during the summer and teach in Catholic elementary schools, middle schools, and high schools across the Southern United States for two school years.\n",
            "The university first offered graduate degrees in the form of a Master of Arts MA in the 18541855 academic year The program expanded to include Master of Laws LLM and Master of Civil Engineering in its early stages of growth before a formal graduate school education was developed with a thesis not required to receive the degrees This changed in 1924 with formal requirements developed for graduate degrees including offering Doctorate PhD degrees Today each of the five colleges offer graduate education Most of the departments from the College of Arts and Letters offer PhD programs while a professional Master of Divinity MDiv program also exists All of the departments in the College of Science offer PhD programs except for the Department of PreProfessional Studies The School of Architecture offers a Master of Architecture while each of the departments of the College of Engineering offer PhD programs The College of Business offers multiple professional programs including MBA and Master of Science in Accountancy programs It also operates facilities in Chicago and Cincinnati for its executive MBA program Additionally the Alliance for Catholic Education program offers a Master of Education program where students study at the university during the summer and teach in Catholic elementary schools middle schools and high schools across the Southern United States for two school years\n",
            "\n",
            "ORIGINAL AND PREPROCESSED QUESTION:\n",
            "What type of degree is an M.Div.?\n",
            "What type of degree is an MDiv\n",
            "\n"
          ],
          "name": "stdout"
        }
      ]
    },
    {
      "cell_type": "code",
      "metadata": {
        "id": "fcWltP9pr7XJ",
        "colab": {
          "base_uri": "https://localhost:8080/"
        },
        "outputId": "f53e2104-f048-4d47-c25c-014e04e65b7d"
      },
      "source": [
        "#@title clean dataset { form-width: \"25%\" }\r\n",
        "\r\n",
        "!gcloud config set project feisty-mechanic-221914\r\n",
        "!gsutil cp gs://squad_squad/error_IDs.txt ./error_IDs.txt\r\n",
        "\r\n",
        "with open(\"error_IDs.txt\", \"r\") as f:\r\n",
        "    unwanted_id = f.read()  # remove samples that contain errors from the dataset\r\n",
        "\r\n",
        "unwanted_id = unwanted_id.split(\"\\n\")[:-1]\r\n",
        "df_clean = df.set_index('id')\r\n",
        "df_clean = df_clean.drop(unwanted_id)\r\n",
        "\r\n",
        "df_original_clean = df_original.set_index('id')\r\n",
        "df_original_clean = df_original_clean.drop(unwanted_id)"
      ],
      "execution_count": 4,
      "outputs": [
        {
          "output_type": "stream",
          "text": [
            "Updated property [core/project].\n",
            "Copying gs://squad_squad/error_IDs.txt...\n",
            "/ [1 files][  5.7 KiB/  5.7 KiB]                                                \n",
            "Operation completed over 1 objects/5.7 KiB.                                      \n"
          ],
          "name": "stdout"
        }
      ]
    },
    {
      "cell_type": "code",
      "metadata": {
        "id": "cLaIJR0XvyBK"
      },
      "source": [
        "#@title train-test split { form-width: \"25%\" }\r\n",
        "\r\n",
        "os.environ['PYTHONHASHSEED']=str(seed_value)\r\n",
        "random.seed(seed_value)\r\n",
        "np.random.seed(seed_value)\r\n",
        "\r\n",
        "split_value = 0.1 #@param {type:\"number\"} \r\n",
        "test_dim = int(len(df_clean['title'].unique()) * split_value)\r\n",
        "test_titles = np.random.choice(df_clean['title'].unique(), size=test_dim, replace=False)\r\n",
        "\r\n",
        "# creating train and test sets\r\n",
        "df_test = df_clean[df_clean['title'].isin(test_titles)]\r\n",
        "df_train = df_clean[~(df_clean['title'].isin(test_titles))]\r\n",
        "\r\n",
        "df_original_test = df_original_clean[df_original_clean['title'].isin(test_titles)]\r\n",
        "df_original_train = df_original_clean[~(df_original_clean['title'].isin(test_titles))]"
      ],
      "execution_count": 5,
      "outputs": []
    },
    {
      "cell_type": "code",
      "metadata": {
        "id": "WUunpQ9x2sG6"
      },
      "source": [
        "#@title tf-idf { form-width: \"25%\" }\r\n",
        "\r\n",
        "vectorizer =  TfidfVectorizer()\r\n",
        "\r\n",
        "# get unique preprocessed passages from the training set\r\n",
        "passage_prep_train = df_train['passage'].unique().tolist()\r\n",
        "# use the tf-idf vectorizer to learn the vocabulary and the inverse document frequency, computing the document-term matrix on the training set\r\n",
        "passage_tf_idf = vectorizer.fit_transform(passage_prep_train)\r\n",
        "\r\n",
        "# obtain unique passages from the test set\r\n",
        "passage_prep_test = df_test['passage'].unique().tolist() # preprocessed\r\n",
        "passage_test = df_original_test['passage'].unique()      # original\r\n",
        "\r\n",
        "# transform test passages and questions\r\n",
        "passage_test_tf_idf = vectorizer.transform(passage_prep_test)\r\n",
        "question_tf_idf = vectorizer.transform(df_test['question'].tolist())\r\n",
        "\r\n",
        "# compute similarity\r\n",
        "results = cosine_similarity(passage_test_tf_idf, question_tf_idf)"
      ],
      "execution_count": 6,
      "outputs": []
    },
    {
      "cell_type": "code",
      "metadata": {
        "id": "7nPP3e7bcKUh",
        "colab": {
          "base_uri": "https://localhost:8080/",
          "height": 367,
          "referenced_widgets": [
            "197aa2d18a5e4df6a78a6ba269ad5aa5",
            "3ac22cb7c77349c2b8828c4e9a825b89",
            "aabf015c138643f9ab7d94b5c0ea1c5b",
            "264ec5579d4e4448af06c0ebe3391923",
            "4051f2431e214a8f9a0e252a316d96ba",
            "fea7b1897b3d47508c1adfc07a789e50",
            "c41f261a500e44079c8abfedf930d20c",
            "221f7b0e3f3047ea90528c7a0c529614"
          ]
        },
        "outputId": "fd05dfea-73e5-4a83-b1f7-2cd9c3ce9248"
      },
      "source": [
        "#@title single passage score { form-width: \"25%\" }\n",
        "\n",
        "# In this cell we evaluate how effective is tf-idf in finding the right passage for a question\n",
        "\n",
        "# we compute the result recall for each k between 1 and k_results:\n",
        "# in particular, for each question we take the k most probable passages and check\n",
        "# if the right passage is among them \n",
        "k_results = 10  \n",
        "\n",
        "tp = 0 #true positives\n",
        "recall = []\n",
        "for k in tqdm(range(1, k_results+1)):\n",
        "    for j,result in enumerate(results.T):\n",
        "        result = np.argsort(result)\n",
        "        if df_original_test['passage'].tolist()[j] in [text for text in passage_test[result[-k:].tolist()]]:\n",
        "            tp+=1\n",
        "    recall.append(tp/len(df_original_test))\n",
        "    tp = 0\n",
        "\n",
        "print(recall,sep='\\n')\n",
        "plt.plot(list(range(1, k_results+1)),recall,\"-s\");\n",
        "plt.xlabel(\"k\");\n",
        "plt.ylabel(\"recall\");"
      ],
      "execution_count": 7,
      "outputs": [
        {
          "output_type": "display_data",
          "data": {
            "application/vnd.jupyter.widget-view+json": {
              "model_id": "197aa2d18a5e4df6a78a6ba269ad5aa5",
              "version_minor": 0,
              "version_major": 2
            },
            "text/plain": [
              "HBox(children=(FloatProgress(value=0.0, max=10.0), HTML(value='')))"
            ]
          },
          "metadata": {
            "tags": []
          }
        },
        {
          "output_type": "stream",
          "text": [
            "\n",
            "[0.5450475657526581, 0.6624230554001119, 0.7250979294907667, 0.7620313374370453, 0.7890318970341355, 0.8115556799104645, 0.8282036933407946, 0.8412143256855065, 0.8538052602126469, 0.8649972020145495]\n"
          ],
          "name": "stdout"
        },
        {
          "output_type": "display_data",
          "data": {
            "image/png": "[encoded data removed]",
            "text/plain": [
              "<Figure size 432x288 with 1 Axes>"
            ]
          },
          "metadata": {
            "tags": [],
            "needs_background": "light"
          }
        }
      ]
    },
    {
      "cell_type": "code",
      "metadata": {
        "id": "MapqT-lwm-N5",
        "colab": {
          "base_uri": "https://localhost:8080/",
          "height": 367,
          "referenced_widgets": [
            "9e9eee138f07482e99a0b83e146dc13b",
            "210d9fb3d2ce4af386ee59e053950203",
            "88fbb0d828474bb38cea6d2422b48db8",
            "090146f65ed749fb82e91a49136eb4ab",
            "ff59da3da5084632b275a1f0e317fab2",
            "f26bd46bce6f4b9a887beaf44e22c197",
            "e4c4ca37620749c8a42c593dc460b439",
            "d64d250de16b438191196ddfe4f89ec3"
          ]
        },
        "outputId": "f6754de3-e894-4428-d8e3-730e14278de3"
      },
      "source": [
        "#@title full document score { form-width: \"25%\" }\n",
        "\n",
        "# In this cell we evaluate how effective is tf-idf in finding the right document (passage title) for a question\n",
        "\n",
        "passage_group = df_original_test.groupby('passage').groups\n",
        "\n",
        "k_results = 10\n",
        "tp = 0\n",
        "document_recall = []\n",
        "for k in tqdm(range(1,k_results+1)):\n",
        "    for j,result in enumerate(results.T):\n",
        "        result = np.argsort(result)\n",
        "        for h in range(1,k+1):\n",
        "            if df_original_test[\"title\"].tolist()[j] == df_original_test.loc[passage_group[passage_test[result[-h]]][0]]['title']:\n",
        "                tp+=1\n",
        "                break\n",
        "    document_recall.append(tp/len(df_original_test))\n",
        "    tp = 0\n",
        "\n",
        "print(document_recall,sep='\\n')\n",
        "plt.plot(list(range(1, k_results+1)),document_recall,\"-s\");\n",
        "plt.xlabel(\"k\");\n",
        "plt.ylabel(\"recall\");"
      ],
      "execution_count": 8,
      "outputs": [
        {
          "output_type": "display_data",
          "data": {
            "application/vnd.jupyter.widget-view+json": {
              "model_id": "9e9eee138f07482e99a0b83e146dc13b",
              "version_minor": 0,
              "version_major": 2
            },
            "text/plain": [
              "HBox(children=(FloatProgress(value=0.0, max=10.0), HTML(value='')))"
            ]
          },
          "metadata": {
            "tags": []
          }
        },
        {
          "output_type": "stream",
          "text": [
            "\n",
            "[0.8547845551203134, 0.9162003357582541, 0.9360660324566312, 0.9457190822607723, 0.9534135422495803, 0.9597090095131505, 0.9629266927811976, 0.9657246782316732, 0.9682428651371013, 0.9710408505875769]\n"
          ],
          "name": "stdout"
        },
        {
          "output_type": "display_data",
          "data": {
            "image/png": "[encoded data removed]",
            "text/plain": [
              "<Figure size 432x288 with 1 Axes>"
            ]
          },
          "metadata": {
            "tags": [],
            "needs_background": "light"
          }
        }
      ]
    },
    {
      "cell_type": "code",
      "metadata": {
        "id": "mN1ZzrN6VghO",
        "colab": {
          "base_uri": "https://localhost:8080/",
          "height": 67,
          "referenced_widgets": [
            "a1bf5587386a418180a06d6c56e5c593",
            "205c0a7fb93147cdb1eef54de65aceab",
            "60ab6b5347064e5196281d92df2d7162",
            "8696b2dd62cd477ba2e94c3241d3237f",
            "ade1f91f0f544710b270e174bbeb54ea",
            "658f7ffa79af4d06affa3da7d72312ac",
            "b68bbdc26b8f4e7598866dd76fcb8535",
            "53911f0cf74943ea8befbab7ca3ebf7d"
          ]
        },
        "outputId": "491a2780-0a5d-4c10-86ee-3984580a8b0e"
      },
      "source": [
        "#@title mrr { form-width: \"25%\" }\r\n",
        "\r\n",
        "max_documents = 10 \r\n",
        "mrr = []\r\n",
        "\r\n",
        "for retrieved_documents in tqdm(range(1, max_documents+1)):\r\n",
        "    reciprocal_ranks = []\r\n",
        "    for j,result in enumerate(results.T):\r\n",
        "        result = np.argsort(result)\r\n",
        "        if df_original_test['passage'].tolist()[j] in [text for text in passage_test[result[-retrieved_documents:].tolist()]]:\r\n",
        "            rank = 1+[txt for txt in passage_test[result[-retrieved_documents:].tolist()]][::-1].index(df_original_test['passage'].tolist()[j])\r\n",
        "            reciprocal_ranks.append(1/rank) \r\n",
        "        else:\r\n",
        "            reciprocal_ranks.append(0) \r\n",
        "    \r\n",
        "    mrr.append(np.mean(reciprocal_ranks))"
      ],
      "execution_count": 9,
      "outputs": [
        {
          "output_type": "display_data",
          "data": {
            "application/vnd.jupyter.widget-view+json": {
              "model_id": "a1bf5587386a418180a06d6c56e5c593",
              "version_minor": 0,
              "version_major": 2
            },
            "text/plain": [
              "HBox(children=(FloatProgress(value=0.0, max=10.0), HTML(value='')))"
            ]
          },
          "metadata": {
            "tags": []
          }
        },
        {
          "output_type": "stream",
          "text": [
            "\n"
          ],
          "name": "stdout"
        }
      ]
    },
    {
      "cell_type": "code",
      "metadata": {
        "id": "fVGry13DfXBJ",
        "colab": {
          "base_uri": "https://localhost:8080/",
          "height": 287
        },
        "outputId": "b96c355c-6f7a-44f5-94fd-05eeddbaca67"
      },
      "source": [
        "#@title mean reciprocal rank { form-width: \"25%\" }\r\n",
        "\r\n",
        "plt.plot(list(range(1,max_documents+1)), mrr, \"-s\");\r\n",
        "plt.xlim((1,max_documents))\r\n",
        "plt.ylim((0,1))"
      ],
      "execution_count": 10,
      "outputs": [
        {
          "output_type": "execute_result",
          "data": {
            "text/plain": [
              "(0.0, 1.0)"
            ]
          },
          "metadata": {
            "tags": []
          },
          "execution_count": 10
        },
        {
          "output_type": "display_data",
          "data": {
            "image/png": "[encoded data removed]",
            "text/plain": [
              "<Figure size 432x288 with 1 Axes>"
            ]
          },
          "metadata": {
            "tags": [],
            "needs_background": "light"
          }
        }
      ]
    }
  ]
}